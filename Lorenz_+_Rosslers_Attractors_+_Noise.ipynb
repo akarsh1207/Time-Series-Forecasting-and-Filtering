{
  "nbformat": 4,
  "nbformat_minor": 0,
  "metadata": {
    "colab": {
      "name": "Lorenz + Rosslers Attractors + Noise.ipynb",
      "provenance": [],
      "authorship_tag": "ABX9TyM7a3t1nC5b9cQv+rmSoflV",
      "include_colab_link": true
    },
    "kernelspec": {
      "name": "python3",
      "display_name": "Python 3"
    },
    "language_info": {
      "name": "python"
    }
  },
  "cells": [
    {
      "cell_type": "markdown",
      "metadata": {
        "id": "view-in-github",
        "colab_type": "text"
      },
      "source": [
        "<a href=\"https://colab.research.google.com/github/akarsh1207/Time-Series-Forecasting-and-Filtering/blob/main/Lorenz_%2B_Rosslers_Attractors_%2B_Noise.ipynb\" target=\"_parent\"><img src=\"https://colab.research.google.com/assets/colab-badge.svg\" alt=\"Open In Colab\"/></a>"
      ]
    },
    {
      "cell_type": "markdown",
      "source": [
        "#Lorenz/Rossler Attractor with Noise\n",
        "___"
      ],
      "metadata": {
        "id": "D9vNO5S3xXUw"
      }
    },
    {
      "cell_type": "markdown",
      "source": [
        "##Importing the Libraries"
      ],
      "metadata": {
        "id": "wL_1426BxcBB"
      }
    },
    {
      "cell_type": "code",
      "source": [
        "import numpy as np\n",
        "import matplotlib.pyplot as plt\n",
        "!pip install colorednoise\n",
        "import colorednoise as cn\n",
        "import pdb\n",
        "plt.close('all')"
      ],
      "metadata": {
        "id": "Vvbk3MRMxhXO",
        "colab": {
          "base_uri": "https://localhost:8080/"
        },
        "outputId": "b3029171-f45e-4150-a3c3-546c192eafde"
      },
      "execution_count": 1,
      "outputs": [
        {
          "output_type": "stream",
          "name": "stdout",
          "text": [
            "Looking in indexes: https://pypi.org/simple, https://us-python.pkg.dev/colab-wheels/public/simple/\n",
            "Collecting colorednoise\n",
            "  Downloading colorednoise-2.1.0-py3-none-any.whl (4.5 kB)\n",
            "Requirement already satisfied: numpy>=1.17.0 in /usr/local/lib/python3.7/dist-packages (from colorednoise) (1.21.6)\n",
            "Installing collected packages: colorednoise\n",
            "Successfully installed colorednoise-2.1.0\n"
          ]
        }
      ]
    },
    {
      "cell_type": "markdown",
      "source": [
        "## Parameter definitions"
      ],
      "metadata": {
        "id": "afpn1H0Axq08"
      }
    },
    {
      "cell_type": "code",
      "source": [
        "\"\"\"\n",
        "\n",
        "\tParameters\n",
        "\t----------\n",
        "\tsystem : string\n",
        "\t\tType of system to solve (`lorenz_stochastic`, `rossler_stochastic`, or\n",
        "\t   `noise`). The default is `lorenz_stochastic`.\n",
        "\tobservables : list\n",
        "\t\tWhich variables are observed (0 is x, 1 is y, 2 is z).\n",
        "\t\tThe default is [0].\n",
        "\tlength : int\n",
        "\t\tTime series length. The default is 10000.\n",
        "\tx0 : list\n",
        "\t\tStarting condition. If None, a random starting condition is selected.\n",
        "\t\tThe default is None.\n",
        "\tp : list\n",
        "\t\tList of system parameters. The default is for the Lorenz system:\n",
        "\t\t[10.0, 8.0/3.0, 28.0].\n",
        "\tstep : int\n",
        "\t\tIntegration step. The default is 0.001.\n",
        "\tsample : int\n",
        "\t\tTemporal sampling at output. The default is 0.03.\n",
        "\tdiscard : int\n",
        "\t\tNumber of steps to discard at the beginning. The default is 1000.\n",
        "\tepsilon_sde : float\n",
        "\t\tIntensity of noise perturbing the dynamics. The default is 0.0.\n",
        "\tepsilon_add : float\n",
        "\t\tIntensity of observational noise. The default is 0.0.\n",
        "\tbeta_add : int\n",
        "\t\tExponent to characterize the power spectrum of the observational noise.\n",
        "\t\tFor white noise beta_add = 0.0 (gaussian).\n",
        "\t\tFor pink noise beta_add = 1.0 (flicker).\n",
        "\t\tFor red noise beta_add = 2.0 (Browinan).\n",
        "\t\tThe default is 0.0.\n",
        "\n",
        "\tReturns\n",
        "\t-------\n",
        "\tt_obs : array\n",
        "\t\tTime stamps at which the observation is taken.\n",
        "\tX_obs : 2-d array\n",
        "\t\tObserved time series.\n",
        "\tt_gen : array\n",
        "\t\tTime stamps at which the system has been integrated.\n",
        "\tX_gen : 2-d array\n",
        "\t\tGenerated time series (i.e., without observational noise added).\n",
        "\n",
        "\t\"\"\""
      ],
      "metadata": {
        "id": "VicIMrXlxzxV",
        "colab": {
          "base_uri": "https://localhost:8080/",
          "height": 143
        },
        "outputId": "99db4cb6-765b-4570-ed51-255bec4c5741"
      },
      "execution_count": 2,
      "outputs": [
        {
          "output_type": "execute_result",
          "data": {
            "text/plain": [
              "'\\n\\n\\tParameters\\n\\t----------\\n\\tsystem : string\\n\\t\\tType of system to solve (`lorenz_stochastic`, `rossler_stochastic`, or\\n\\t   `noise`). The default is `lorenz_stochastic`.\\n\\tobservables : list\\n\\t\\tWhich variables are observed (0 is x, 1 is y, 2 is z).\\n\\t\\tThe default is [0].\\n\\tlength : int\\n\\t\\tTime series length. The default is 10000.\\n\\tx0 : list\\n\\t\\tStarting condition. If None, a random starting condition is selected.\\n\\t\\tThe default is None.\\n\\tp : list\\n\\t\\tList of system parameters. The default is for the Lorenz system:\\n\\t\\t[10.0, 8.0/3.0, 28.0].\\n\\tstep : int\\n\\t\\tIntegration step. The default is 0.001.\\n\\tsample : int\\n\\t\\tTemporal sampling at output. The default is 0.03.\\n\\tdiscard : int\\n\\t\\tNumber of steps to discard at the beginning. The default is 1000.\\n\\tepsilon_sde : float\\n\\t\\tIntensity of noise perturbing the dynamics. The default is 0.0.\\n\\tepsilon_add : float\\n\\t\\tIntensity of observational noise. The default is 0.0.\\n\\tbeta_add : int\\n\\t\\tExponent to characterize the power spectrum of the observational noise.\\n\\t\\tFor white noise beta_add = 0.0 (gaussian).\\n\\t\\tFor pink noise beta_add = 1.0 (flicker).\\n\\t\\tFor red noise beta_add = 2.0 (Browinan).\\n\\t\\tThe default is 0.0.\\n\\n\\tReturns\\n\\t-------\\n\\tt_obs : array\\n\\t\\tTime stamps at which the observation is taken.\\n\\tX_obs : 2-d array\\n\\t\\tObserved time series.\\n\\tt_gen : array\\n\\t\\tTime stamps at which the system has been integrated.\\n\\tX_gen : 2-d array\\n\\t\\tGenerated time series (i.e., without observational noise added).\\n\\n\\t'"
            ],
            "application/vnd.google.colaboratory.intrinsic+json": {
              "type": "string"
            }
          },
          "metadata": {},
          "execution_count": 2
        }
      ]
    },
    {
      "cell_type": "markdown",
      "source": [
        "## Lorenz Stochastic"
      ],
      "metadata": {
        "id": "sZ7iI-dY696k"
      }
    },
    {
      "cell_type": "code",
      "source": [
        "def _gen_lorenz_stochastic(length=10000, x0=None, sigma=10.0, \\\n",
        "\t\t\t\t\t\tbeta=8.0/3.0, rho=28.0,step=0.001, \\\n",
        "\t\t\t\t\t\tsample=0.03, discard=1000, \\\n",
        "\t\t\t\t\t\tepsilon_sde=0.0, observables=[0]):\n",
        "\n",
        "\tif not x0:\n",
        "\t\tx0 = (0.0, -0.01, 9.0) + 0.25 * (-1 + 2 * np.random.random(3))\n",
        "\n",
        "\tsample = int(sample / step)\n",
        "\tt = np.linspace(0, (sample * (length + discard)) * step, \\\n",
        "\t\t\t\t\t\t\t\t  sample * (length + discard))\n",
        "\tNt_simulation = len(t)\n",
        "\tX = np.zeros((Nt_simulation,3))\n",
        "\tX[0,:] = x0\n",
        "\n",
        "\tfor tt in range(Nt_simulation-1):\n",
        "\t\tr = np.random.randn(3)\n",
        "\t\tX[tt+1,0] = X[tt,0] + (sigma * (X[tt,1] - X[tt,0])) * \\\n",
        "\t\t\tstep + epsilon_sde*np.sqrt(step)*r[0]\n",
        "\t\tX[tt+1,1] = X[tt,1] + (X[tt,0] * (rho - X[tt,2]) - \\\n",
        "\t\t\tX[tt,1])*step + epsilon_sde*np.sqrt(step)*r[1]\n",
        "\t\tX[tt+1,2] = X[tt,2] + (X[tt,0] * X[tt,1] - beta * X[tt,2]) * \\\n",
        "\t\t\tstep + epsilon_sde*np.sqrt(step)*r[2]\n",
        "\tt_gen = t[discard*sample:]\n",
        "\tt_gen = t_gen-t_gen[0]\n",
        "\tX_gen = X[discard*sample:,:]\n",
        "\tt_obs = t[discard*sample::sample]\n",
        "\tt_obs = t_obs-t_obs[0]\n",
        "\tX_obs = X[discard*sample::sample, observables]\n",
        "\treturn t_obs,X_obs,t_gen,X_gen\n"
      ],
      "metadata": {
        "id": "tyM4ZlD07Bn1"
      },
      "execution_count": 3,
      "outputs": []
    },
    {
      "cell_type": "code",
      "source": [
        "A = _gen_lorenz_stochastic()\n",
        "print(A)"
      ],
      "metadata": {
        "id": "1IfZ-Yt67GDr",
        "colab": {
          "base_uri": "https://localhost:8080/"
        },
        "outputId": "db0a2169-07c2-4273-e3ae-430afbb3c901"
      },
      "execution_count": 4,
      "outputs": [
        {
          "output_type": "stream",
          "name": "stdout",
          "text": [
            "(array([0.00000000e+00, 3.00000909e-02, 6.00001818e-02, ...,\n",
            "       2.99910909e+02, 2.99940909e+02, 2.99970909e+02]), array([[-3.16019939],\n",
            "       [-3.22664003],\n",
            "       [-3.45874779],\n",
            "       ...,\n",
            "       [-1.54329096],\n",
            "       [-1.90279435],\n",
            "       [-2.34818367]]), array([0.00000000e+00, 1.00000303e-03, 2.00000606e-03, ...,\n",
            "       2.99997909e+02, 2.99998909e+02, 2.99999909e+02]), array([[-3.16019939, -3.10156595, 20.89062026],\n",
            "       [-3.15961306, -3.12093144, 20.84471351],\n",
            "       [-3.15922624, -3.14041844, 20.79898854],\n",
            "       ...,\n",
            "       [-2.85172143, -4.94254331, 12.75165678],\n",
            "       [-2.87262965, -4.98108479, 12.73174712],\n",
            "       [-2.8937142 , -5.01996374, 12.7121046 ]]))\n"
          ]
        }
      ]
    },
    {
      "cell_type": "code",
      "source": [
        "a = A[3]\n",
        "x1 = a[:,0]\n",
        "y1 = a[:,1]\n",
        "z1 = a[:,2]"
      ],
      "metadata": {
        "id": "WXZtScrhImSn"
      },
      "execution_count": 5,
      "outputs": []
    },
    {
      "cell_type": "code",
      "source": [
        "Visualisation = plt.figure().add_subplot(projection='3d')\n",
        "\n",
        "Visualisation.plot(x1,y1,z1, lw=0.5)\n",
        "Visualisation.set_xlabel(\"X Axis\")\n",
        "Visualisation.set_ylabel(\"Y Axis\")\n",
        "Visualisation.set_zlabel(\"Z Axis\")\n",
        "Visualisation.set_title(\"Lorenz Attractor\")\n",
        "\n",
        "plt.show()"
      ],
      "metadata": {
        "id": "6PsyvziRIwEZ",
        "colab": {
          "base_uri": "https://localhost:8080/",
          "height": 248
        },
        "outputId": "9ef5a6a1-5965-4a69-fb34-7ada79a28ca6"
      },
      "execution_count": 6,
      "outputs": [
        {
          "output_type": "display_data",
          "data": {
            "text/plain": [
              "<Figure size 432x288 with 1 Axes>"
            ],
            "image/png": "[encoded data removed]"
          },
          "metadata": {
            "needs_background": "light"
          }
        }
      ]
    },
    {
      "cell_type": "markdown",
      "source": [
        "##Rossler Stochastic"
      ],
      "metadata": {
        "id": "GaLGGPnx7SxN"
      }
    },
    {
      "cell_type": "code",
      "source": [
        "def _gen_rossler_stochastic(length=10000, x0=None, a=0.2, b=0.2, c=5.7, \\\n",
        "\t\t\t\t\t\t step=0.001, sample=0.03, discard=1000, \\\n",
        "\t\t\t\t\t\t epsilon_sde=0.0, observables=[0]):\n",
        "\n",
        "\tif not x0:\n",
        "\t\tx0 = (-9.0, 0.0, 0.0) + 0.25 * (-1 + 2 * np.random.random(3))\n",
        "\n",
        "\tsample = int(sample / step)\n",
        "\tt = np.linspace(0, (sample * (length + discard)) * step, \\\n",
        "\t\t\t  sample * (length + discard))\n",
        "\n",
        "\tNt_simulation = len(t)\n",
        "\tX = np.zeros((Nt_simulation,3))\n",
        "\tX[0,:] = x0\n",
        "\n",
        "\tfor tt in range(Nt_simulation-1):\n",
        "\t\tr = np.random.randn(1)\n",
        "\t\tX[tt+1,0] = X[tt,0] - (X[tt,1] + X[tt,2])*step + \\\n",
        "\t\t\t\t\t\t\t\t\tepsilon_sde*np.sqrt(step)*r[0]\n",
        "\t\tX[tt+1,1] = X[tt,1] + (X[tt,0] + a*X[tt,1])*step\n",
        "\t\tX[tt+1,2] = X[tt,2] + (b + X[tt,2] * (X[tt,0]-c)) * step\n",
        "\t\tif np.isnan(X[tt+1,0]):\n",
        "\t\t\tpdb.set_trace()\n",
        "\t\tif np.isnan(X[tt+1,1]):\n",
        "\t\t\tpdb.set_trace()\n",
        "\t\tif np.isnan(X[tt+1,2]):\n",
        "\t\t\tpdb.set_trace()\n",
        "\tt_gen = t[discard*sample:]\n",
        "\tt_gen = t_gen-t_gen[0]\n",
        "\tX_gen = X[discard*sample:,:]\n",
        "\tt_obs = t[discard*sample::sample]\n",
        "\tt_obs = t_obs-t_obs[0]\n",
        "\tX_obs = X[discard*sample::sample, observables]\n",
        "\n",
        "\treturn t_obs,X_obs,t_gen,X_gen"
      ],
      "metadata": {
        "id": "8REyPtW07Xyl"
      },
      "execution_count": 7,
      "outputs": []
    },
    {
      "cell_type": "code",
      "source": [
        "B = _gen_rossler_stochastic()\n",
        "print(B)"
      ],
      "metadata": {
        "id": "mu6laPKC7X8-",
        "colab": {
          "base_uri": "https://localhost:8080/"
        },
        "outputId": "8b2b1ebf-5e92-4357-e58e-fcd5f41d65a6"
      },
      "execution_count": 8,
      "outputs": [
        {
          "output_type": "stream",
          "name": "stdout",
          "text": [
            "(array([0.00000000e+00, 3.00000909e-02, 6.00001818e-02, ...,\n",
            "       2.99910909e+02, 2.99940909e+02, 2.99970909e+02]), array([[-1.53097681],\n",
            "       [-1.35288648],\n",
            "       [-1.17250922],\n",
            "       ...,\n",
            "       [ 5.09123786],\n",
            "       [ 5.06282103],\n",
            "       [ 5.02960929]]), array([0.00000000e+00, 1.00000303e-03, 2.00000606e-03, ...,\n",
            "       2.99997909e+02, 2.99998909e+02, 2.99999909e+02]), array([[-1.53097681, -5.92329769,  0.02535658],\n",
            "       [-1.52507887, -5.92601333,  0.02537322],\n",
            "       [-1.51917823, -5.92872361,  0.0253899 ],\n",
            "       ...,\n",
            "       [ 4.99562566,  1.15987283,  0.17313044],\n",
            "       [ 4.99429265,  1.16510043,  0.1732085 ],\n",
            "       [ 4.99295434,  1.17032775,  0.17328626]]))\n"
          ]
        }
      ]
    },
    {
      "cell_type": "code",
      "source": [
        "b = B[3]\n",
        "x2 = b[:,0]\n",
        "y2 = b[:,1]\n",
        "z2 = b[:,2]"
      ],
      "metadata": {
        "id": "Bq_XKyq-IKNg"
      },
      "execution_count": 9,
      "outputs": []
    },
    {
      "cell_type": "code",
      "source": [
        "Visualisation = plt.figure().add_subplot(projection='3d')\n",
        "\n",
        "Visualisation.plot(x2,y2,z2, lw=0.5)\n",
        "Visualisation.set_xlabel(\"X Axis\")\n",
        "Visualisation.set_ylabel(\"Y Axis\")\n",
        "Visualisation.set_zlabel(\"Z Axis\")\n",
        "Visualisation.set_title(\"Rossler Attractor\")\n",
        "\n",
        "plt.show()"
      ],
      "metadata": {
        "id": "iOWqalMrIXlu",
        "colab": {
          "base_uri": "https://localhost:8080/",
          "height": 248
        },
        "outputId": "128d5218-071f-4c9f-c5cf-bdb2f513cb0f"
      },
      "execution_count": 10,
      "outputs": [
        {
          "output_type": "display_data",
          "data": {
            "text/plain": [
              "<Figure size 432x288 with 1 Axes>"
            ],
            "image/png": "[encoded data removed]"
          },
          "metadata": {
            "needs_background": "light"
          }
        }
      ]
    },
    {
      "cell_type": "markdown",
      "source": [
        "##Generation function"
      ],
      "metadata": {
        "id": "YC2kli9GyXA0"
      }
    },
    {
      "cell_type": "code",
      "source": [
        "def _gen_data(system='lorenz_stochastic', observables=[0], \\\n",
        "\t\t   length=10000, x0=None, p=[ 10,8.0/3.0, 28], step=0.001, \\\n",
        "\t\t   sample=0.03, discard=1000, epsilon_sde=0.0, epsilon_add=0.0, \\\n",
        "\t\t   beta_add=0.0):\n",
        "\t\t\n",
        "\tif system=='lorenz_stochastic':\n",
        "\t\tt_obs, X_obs, t_gen, X_gen = \\\n",
        "\t\t\t\t\t\t_gen_lorenz_stochastic(length=length, \\\n",
        "\t\t\t\t\t\t\t   x0=x0, sigma=p[0], beta=p[1], rho=p[2],\\\n",
        "\t\t\t\t\t\t\t   step=step, sample=sample, \\\n",
        "\t\t\t\t\t\t\t   discard=discard, \\\n",
        "\t\t\t\t\t\t\t   epsilon_sde=epsilon_sde, \\\n",
        "\t\t\t\t\t\t\t   observables=observables)\n",
        "\telif system=='rossler_stochastic':\n",
        "\t\tt_obs, X_obs, t_gen, X_gen = \\\n",
        "\t\t\t\t\t\t_gen_rossler_stochastic(length=length, \\\n",
        "\t\t\t\t\t\t\t   x0=x0, a=p[0], b=p[1], c=p[2], \\\n",
        "\t\t\t\t\t\t\t   step=step, sample=sample, \\\n",
        "\t\t\t\t\t\t\t   discard=discard, \\\n",
        "\t\t\t\t\t\t\t   epsilon_sde=epsilon_sde, \\\n",
        "\t\t\t\t\t\t\t   observables=observables)\n",
        "\telif system=='noise':\n",
        "\t\tNx = len(observables)\n",
        "\t\tt_obs = np.arange(0,length*sample,sample)\n",
        "\t\tX_obs = np.zeros((t_obs.shape[0],Nx))\n",
        "\t\tt_gen = np.arange(0,length*step,step)\n",
        "\t\tX_gen = np.zeros((t_gen.shape[0],Nx))\n",
        "\n",
        "\tNt,Nx = X_obs.shape\n",
        "\tfor ii in np.arange(Nx):\n",
        "\t\tX_obs[:,ii] = X_obs[:,ii] + \\\n",
        "\t\t\t\tepsilon_add * cn.powerlaw_psd_gaussian(beta_add, Nt)\n",
        "\t\n",
        "\treturn t_obs, X_obs, t_gen, X_gen"
      ],
      "metadata": {
        "id": "sHwszS-4yqqq"
      },
      "execution_count": 11,
      "outputs": []
    },
    {
      "cell_type": "code",
      "source": [
        "C = _gen_data()\n",
        "print(C)"
      ],
      "metadata": {
        "id": "2RAGBlxx3AVQ",
        "colab": {
          "base_uri": "https://localhost:8080/"
        },
        "outputId": "abbb644c-6b9b-4650-a612-707798417d26"
      },
      "execution_count": 12,
      "outputs": [
        {
          "output_type": "stream",
          "name": "stdout",
          "text": [
            "(array([0.00000000e+00, 3.00000909e-02, 6.00001818e-02, ...,\n",
            "       2.99910909e+02, 2.99940909e+02, 2.99970909e+02]), array([[ 6.59993022],\n",
            "       [ 9.02062677],\n",
            "       [12.03738705],\n",
            "       ...,\n",
            "       [ 9.89247667],\n",
            "       [11.71527217],\n",
            "       [13.37665143]]), array([0.00000000e+00, 1.00000303e-03, 2.00000606e-03, ...,\n",
            "       2.99997909e+02, 2.99998909e+02, 2.99999909e+02]), array([[ 6.59993022, 13.67275963,  5.0966513 ],\n",
            "       [ 6.67065851, 13.81024738,  5.17329949],\n",
            "       [ 6.7420544 , 13.94870625,  5.25162746],\n",
            "       ...,\n",
            "       [14.41417753, 16.99970698, 32.22716281],\n",
            "       [14.44003282, 16.9217762 , 32.38626051],\n",
            "       [14.46485025, 16.84151668, 32.54424815]]))\n"
          ]
        }
      ]
    },
    {
      "cell_type": "code",
      "source": [
        "c = C[3]\n",
        "x3 = c[:,0]\n",
        "y3 = c[:,1]\n",
        "z3 = c[:,2]\n",
        "print(C[1])\n",
        "print(C[1].shape)"
      ],
      "metadata": {
        "id": "kZouVad_FGfU",
        "colab": {
          "base_uri": "https://localhost:8080/"
        },
        "outputId": "6e0b8718-3296-48da-be6c-a280b62a65d9"
      },
      "execution_count": 13,
      "outputs": [
        {
          "output_type": "stream",
          "name": "stdout",
          "text": [
            "[[ 6.59993022]\n",
            " [ 9.02062677]\n",
            " [12.03738705]\n",
            " ...\n",
            " [ 9.89247667]\n",
            " [11.71527217]\n",
            " [13.37665143]]\n",
            "(10000, 1)\n"
          ]
        }
      ]
    },
    {
      "cell_type": "code",
      "source": [
        "print(C[3])\n",
        "print(C[3].shape)"
      ],
      "metadata": {
        "id": "RtNS6JL0PMPk",
        "colab": {
          "base_uri": "https://localhost:8080/"
        },
        "outputId": "5fae50d2-8225-4b3f-da8e-92b56ba2bc7d"
      },
      "execution_count": 14,
      "outputs": [
        {
          "output_type": "stream",
          "name": "stdout",
          "text": [
            "[[ 6.59993022 13.67275963  5.0966513 ]\n",
            " [ 6.67065851 13.81024738  5.17329949]\n",
            " [ 6.7420544  13.94870625  5.25162746]\n",
            " ...\n",
            " [14.41417753 16.99970698 32.22716281]\n",
            " [14.44003282 16.9217762  32.38626051]\n",
            " [14.46485025 16.84151668 32.54424815]]\n",
            "(300000, 3)\n"
          ]
        }
      ]
    },
    {
      "cell_type": "code",
      "source": [
        "Visualisation = plt.figure().add_subplot(projection='3d')\n",
        "\n",
        "Visualisation.plot(x3,y3,z3, lw=0.5)\n",
        "Visualisation.set_xlabel(\"X Axis\")\n",
        "Visualisation.set_ylabel(\"Y Axis\")\n",
        "Visualisation.set_zlabel(\"Z Axis\")\n",
        "Visualisation.set_title(\"Lorenz Attractor\")\n",
        "\n",
        "plt.show()"
      ],
      "metadata": {
        "id": "jaOC0_8qHpGI",
        "colab": {
          "base_uri": "https://localhost:8080/",
          "height": 248
        },
        "outputId": "a38e6787-a25a-457f-c944-abf654c86447"
      },
      "execution_count": 15,
      "outputs": [
        {
          "output_type": "display_data",
          "data": {
            "text/plain": [
              "<Figure size 432x288 with 1 Axes>"
            ],
            "image/png": "[encoded data removed]"
          },
          "metadata": {
            "needs_background": "light"
          }
        }
      ]
    },
    {
      "cell_type": "markdown",
      "source": [
        "##Plots"
      ],
      "metadata": {
        "id": "KAW2BBBFzPn9"
      }
    },
    {
      "cell_type": "code",
      "execution_count": 16,
      "metadata": {
        "id": "Wt4xArHiPj-t",
        "colab": {
          "base_uri": "https://localhost:8080/",
          "height": 283
        },
        "outputId": "c9316918-ac76-436f-c3ba-92e28156acdc"
      },
      "outputs": [
        {
          "output_type": "display_data",
          "data": {
            "text/plain": [
              "<Figure size 432x288 with 3 Axes>"
            ],
            "image/png": "[encoded data removed]"
          },
          "metadata": {
            "needs_background": "light"
          }
        }
      ],
      "source": [
        "def main():\n",
        "\tt_obs, X_obs, t_gen, X_gen = _gen_data(system='lorenz_stochastic',\n",
        "\t\t\t\t\t\t\t\t\t\t\tobservables=[0,1,2],\n",
        "\t\t\t\t\t\t\t\t\t\t\tlength=10000,\n",
        "\t\t\t\t\t\t\t\t\t\t\tx0=None,\n",
        "\t\t\t\t\t\t\t\t\t\t\tp=[10, 8.0/3.0, 28],\n",
        "\t\t\t\t\t\t\t\t\t\t\tstep=0.001,\n",
        "\t\t\t\t\t\t\t\t\t\t\tsample=0.03,\n",
        "\t\t\t\t\t\t\t\t\t\t\tdiscard=1000,\n",
        "\t\t\t\t\t\t\t\t\t\t\tepsilon_sde=0.0,\n",
        "\t\t\t\t\t\t\t\t\t\t\tepsilon_add=0.0,\n",
        "\t\t\t\t\t\t\t\t\t\t\tbeta_add=0.0)\n",
        "\tylabel = ['x','y','z']\n",
        "\tplt.figure()\n",
        "\tfor ii in range(3):\n",
        "\t\tplt.subplot(3,1,ii+1)\n",
        "\t\tplt.plot(t_gen, X_gen[:,ii],'--r')\n",
        "\t\tplt.plot(t_obs, X_obs[:,ii],'.k')\n",
        "\t\tplt.ylabel(ylabel[ii])\n",
        "\t\tif ii==2: plt.xlabel('time')\n",
        "\t\n",
        "if __name__ == '__main__':\n",
        "\tmain()"
      ]
    },
    {
      "cell_type": "markdown",
      "source": [
        "#Extension to the Code\n",
        "___"
      ],
      "metadata": {
        "id": "o2MsLtRPd8Kl"
      }
    },
    {
      "cell_type": "markdown",
      "source": [
        "##Forming a Univariate Series for X Y Z generated:"
      ],
      "metadata": {
        "id": "YHfDt4wyeAYn"
      }
    },
    {
      "cell_type": "code",
      "source": [
        "def univariate_series(sequence, n_steps):\n",
        "  X1, Y1 = list(), list()\n",
        "  for i in range(300000):\n",
        "    end_input = i + n_steps\n",
        "    if end_input > 299989:\n",
        "     break\n",
        "    seq_x, seq_y = sequence[i:end_input], sequence[end_input:end_input+10]\n",
        "    X1.append(seq_x)\n",
        "    Y1.append(seq_y)\n",
        "  return np.array(X1), np.array(Y1)\n",
        "\n",
        "X1, Y1 = univariate_series(x3,100)"
      ],
      "metadata": {
        "id": "jeyHuQ5JeHZ1"
      },
      "execution_count": 17,
      "outputs": []
    },
    {
      "cell_type": "code",
      "source": [
        "def univariate_series(sequence, n_steps):\n",
        "  X2, Y2 = list(), list()\n",
        "  for i in range(300000):\n",
        "    end_input = i + n_steps\n",
        "    if end_input > 299989:\n",
        "     break\n",
        "    seq_x, seq_y = sequence[i:end_input], sequence[end_input:end_input+10]\n",
        "    X2.append(seq_x)\n",
        "    Y2.append(seq_y)\n",
        "  return np.array(X2), np.array(Y2)\n",
        "\n",
        "X2, Y2 = univariate_series(y3,100)"
      ],
      "metadata": {
        "id": "BDtzNh1XfeBm"
      },
      "execution_count": 18,
      "outputs": []
    },
    {
      "cell_type": "code",
      "source": [
        "def univariate_series(sequence, n_steps):\n",
        "  X3, Y3 = list(), list()\n",
        "  for i in range(300000):\n",
        "    end_input = i + n_steps\n",
        "    if end_input > 299989:\n",
        "     break\n",
        "    seq_x, seq_y = sequence[i:end_input], sequence[end_input:end_input+10]\n",
        "    X3.append(seq_x)\n",
        "    Y3.append(seq_y)\n",
        "  return np.array(X3), np.array(Y3)\n",
        "\n",
        "X3, Y3 = univariate_series(z3,100)"
      ],
      "metadata": {
        "id": "_vtNWlt1foMY"
      },
      "execution_count": 19,
      "outputs": []
    },
    {
      "cell_type": "markdown",
      "source": [
        "##Input Vector Creation"
      ],
      "metadata": {
        "id": "Js-OLS7joJ64"
      }
    },
    {
      "cell_type": "code",
      "source": [
        "New_X = np.stack([X1,X2,X3], axis=1)\n",
        "New_Y = np.stack([Y1,Y2,Y3], axis=1)"
      ],
      "metadata": {
        "id": "f5wqEwXOhQQs"
      },
      "execution_count": 20,
      "outputs": []
    },
    {
      "cell_type": "markdown",
      "source": [
        "##Train - Test Split"
      ],
      "metadata": {
        "id": "xqaZhDU9oTYF"
      }
    },
    {
      "cell_type": "code",
      "source": [
        "from sklearn.model_selection import train_test_split\n",
        "X_train, X_test, y_train, y_test = train_test_split(New_X, New_Y, test_size = 0.2, random_state = 0)"
      ],
      "metadata": {
        "id": "lPEgLKpFhdxz"
      },
      "execution_count": 21,
      "outputs": []
    },
    {
      "cell_type": "markdown",
      "source": [
        "#MLP Model Unfiltered\n",
        "___"
      ],
      "metadata": {
        "id": "6_hGAbHboZXa"
      }
    },
    {
      "cell_type": "markdown",
      "source": [
        "##MLP Model"
      ],
      "metadata": {
        "id": "g1Lx5HT-ojFi"
      }
    },
    {
      "cell_type": "code",
      "source": [
        "import tensorflow as tf \n",
        "mlp = tf.keras.models.Sequential()\n",
        "mlp.add(tf.keras.layers.Dense(units=2, activation='relu'))\n",
        "mlp.add(tf.keras.layers.Dense(units=2, activation='relu'))\n",
        "mlp.add(tf.keras.layers.Dense(units=10))\n",
        "mlp.compile(optimizer = 'adam', loss = 'mse')\n",
        "mlp.fit(X_train,y_train, batch_size = 99, epochs = 100)"
      ],
      "metadata": {
        "id": "qazNU_9Ehm3D",
        "colab": {
          "base_uri": "https://localhost:8080/"
        },
        "outputId": "9f43e35d-1684-457a-e801-b7c79e4d9e8b"
      },
      "execution_count": 22,
      "outputs": [
        {
          "output_type": "stream",
          "name": "stdout",
          "text": [
            "Epoch 1/100\n",
            "4799/4799 [==============================] - 11s 2ms/step - loss: 33.8398\n",
            "Epoch 2/100\n",
            "4799/4799 [==============================] - 8s 2ms/step - loss: 8.6224\n",
            "Epoch 3/100\n",
            "4799/4799 [==============================] - 9s 2ms/step - loss: 0.3327\n",
            "Epoch 4/100\n",
            "4799/4799 [==============================] - 9s 2ms/step - loss: 0.0659\n",
            "Epoch 5/100\n",
            "4799/4799 [==============================] - 9s 2ms/step - loss: 0.0547\n",
            "Epoch 6/100\n",
            "4799/4799 [==============================] - 8s 2ms/step - loss: 0.0565\n",
            "Epoch 7/100\n",
            "4799/4799 [==============================] - 8s 2ms/step - loss: 0.0529\n",
            "Epoch 8/100\n",
            "4799/4799 [==============================] - 9s 2ms/step - loss: 0.0547\n",
            "Epoch 9/100\n",
            "4799/4799 [==============================] - 10s 2ms/step - loss: 0.0531\n",
            "Epoch 10/100\n",
            "4799/4799 [==============================] - 11s 2ms/step - loss: 0.0491\n",
            "Epoch 11/100\n",
            "4799/4799 [==============================] - 11s 2ms/step - loss: 0.0384\n",
            "Epoch 12/100\n",
            "4799/4799 [==============================] - 10s 2ms/step - loss: 0.0292\n",
            "Epoch 13/100\n",
            "4799/4799 [==============================] - 10s 2ms/step - loss: 0.0231\n",
            "Epoch 14/100\n",
            "4799/4799 [==============================] - 10s 2ms/step - loss: 0.0243\n",
            "Epoch 15/100\n",
            "4799/4799 [==============================] - 9s 2ms/step - loss: 0.0233\n",
            "Epoch 16/100\n",
            "4799/4799 [==============================] - 10s 2ms/step - loss: 0.0210\n",
            "Epoch 17/100\n",
            "4799/4799 [==============================] - 10s 2ms/step - loss: 0.0224\n",
            "Epoch 18/100\n",
            "4799/4799 [==============================] - 10s 2ms/step - loss: 0.0200\n",
            "Epoch 19/100\n",
            "4799/4799 [==============================] - 11s 2ms/step - loss: 0.0203\n",
            "Epoch 20/100\n",
            "4799/4799 [==============================] - 11s 2ms/step - loss: 0.0193\n",
            "Epoch 21/100\n",
            "4799/4799 [==============================] - 11s 2ms/step - loss: 0.0174\n",
            "Epoch 22/100\n",
            "4799/4799 [==============================] - 11s 2ms/step - loss: 0.0184\n",
            "Epoch 23/100\n",
            "4799/4799 [==============================] - 10s 2ms/step - loss: 0.0180\n",
            "Epoch 24/100\n",
            "4799/4799 [==============================] - 10s 2ms/step - loss: 0.0207\n",
            "Epoch 25/100\n",
            "4799/4799 [==============================] - 11s 2ms/step - loss: 0.0172\n",
            "Epoch 26/100\n",
            "4799/4799 [==============================] - 10s 2ms/step - loss: 0.0188\n",
            "Epoch 27/100\n",
            "4799/4799 [==============================] - 9s 2ms/step - loss: 0.0193\n",
            "Epoch 28/100\n",
            "4799/4799 [==============================] - 8s 2ms/step - loss: 0.0167\n",
            "Epoch 29/100\n",
            "4799/4799 [==============================] - 9s 2ms/step - loss: 0.0178\n",
            "Epoch 30/100\n",
            "4799/4799 [==============================] - 9s 2ms/step - loss: 0.0189\n",
            "Epoch 31/100\n",
            "4799/4799 [==============================] - 9s 2ms/step - loss: 0.0172\n",
            "Epoch 32/100\n",
            "4799/4799 [==============================] - 9s 2ms/step - loss: 0.0167\n",
            "Epoch 33/100\n",
            "4799/4799 [==============================] - 9s 2ms/step - loss: 0.0174\n",
            "Epoch 34/100\n",
            "4799/4799 [==============================] - 8s 2ms/step - loss: 0.0168\n",
            "Epoch 35/100\n",
            "4799/4799 [==============================] - 9s 2ms/step - loss: 0.0162\n",
            "Epoch 36/100\n",
            "4799/4799 [==============================] - 10s 2ms/step - loss: 0.0158\n",
            "Epoch 37/100\n",
            "4799/4799 [==============================] - 10s 2ms/step - loss: 0.0168\n",
            "Epoch 38/100\n",
            "4799/4799 [==============================] - 10s 2ms/step - loss: 0.0151\n",
            "Epoch 39/100\n",
            "4799/4799 [==============================] - 10s 2ms/step - loss: 0.0150\n",
            "Epoch 40/100\n",
            "4799/4799 [==============================] - 11s 2ms/step - loss: 0.0179\n",
            "Epoch 41/100\n",
            "4799/4799 [==============================] - 11s 2ms/step - loss: 0.0145\n",
            "Epoch 42/100\n",
            "4799/4799 [==============================] - 10s 2ms/step - loss: 0.0141\n",
            "Epoch 43/100\n",
            "4799/4799 [==============================] - 12s 2ms/step - loss: 0.0152\n",
            "Epoch 44/100\n",
            "4799/4799 [==============================] - 10s 2ms/step - loss: 0.0157\n",
            "Epoch 45/100\n",
            "4799/4799 [==============================] - 11s 2ms/step - loss: 0.0147\n",
            "Epoch 46/100\n",
            "4799/4799 [==============================] - 10s 2ms/step - loss: 0.0140\n",
            "Epoch 47/100\n",
            "4799/4799 [==============================] - 10s 2ms/step - loss: 0.0139\n",
            "Epoch 48/100\n",
            "4799/4799 [==============================] - 10s 2ms/step - loss: 0.0150\n",
            "Epoch 49/100\n",
            "4799/4799 [==============================] - 11s 2ms/step - loss: 0.0138\n",
            "Epoch 50/100\n",
            "4799/4799 [==============================] - 9s 2ms/step - loss: 0.0142\n",
            "Epoch 51/100\n",
            "4799/4799 [==============================] - 11s 2ms/step - loss: 0.0135\n",
            "Epoch 52/100\n",
            "4799/4799 [==============================] - 9s 2ms/step - loss: 0.0142\n",
            "Epoch 53/100\n",
            "4799/4799 [==============================] - 9s 2ms/step - loss: 0.0142\n",
            "Epoch 54/100\n",
            "4799/4799 [==============================] - 9s 2ms/step - loss: 0.0142\n",
            "Epoch 55/100\n",
            "4799/4799 [==============================] - 10s 2ms/step - loss: 0.0147\n",
            "Epoch 56/100\n",
            "4799/4799 [==============================] - 11s 2ms/step - loss: 0.0156\n",
            "Epoch 57/100\n",
            "4799/4799 [==============================] - 10s 2ms/step - loss: 0.0128\n",
            "Epoch 58/100\n",
            "4799/4799 [==============================] - 10s 2ms/step - loss: 0.0136\n",
            "Epoch 59/100\n",
            "4799/4799 [==============================] - 10s 2ms/step - loss: 0.0130\n",
            "Epoch 60/100\n",
            "4799/4799 [==============================] - 10s 2ms/step - loss: 0.0146\n",
            "Epoch 61/100\n",
            "4799/4799 [==============================] - 11s 2ms/step - loss: 0.0160\n",
            "Epoch 62/100\n",
            "4799/4799 [==============================] - 9s 2ms/step - loss: 0.0116\n",
            "Epoch 63/100\n",
            "4799/4799 [==============================] - 10s 2ms/step - loss: 0.0146\n",
            "Epoch 64/100\n",
            "4799/4799 [==============================] - 9s 2ms/step - loss: 0.0134\n",
            "Epoch 65/100\n",
            "4799/4799 [==============================] - 10s 2ms/step - loss: 0.0125\n",
            "Epoch 66/100\n",
            "4799/4799 [==============================] - 9s 2ms/step - loss: 0.0143\n",
            "Epoch 67/100\n",
            "4799/4799 [==============================] - 9s 2ms/step - loss: 0.0121\n",
            "Epoch 68/100\n",
            "4799/4799 [==============================] - 10s 2ms/step - loss: 0.0121\n",
            "Epoch 69/100\n",
            "4799/4799 [==============================] - 9s 2ms/step - loss: 0.0143\n",
            "Epoch 70/100\n",
            "4799/4799 [==============================] - 9s 2ms/step - loss: 0.0144\n",
            "Epoch 71/100\n",
            "4799/4799 [==============================] - 9s 2ms/step - loss: 0.0122\n",
            "Epoch 72/100\n",
            "4799/4799 [==============================] - 9s 2ms/step - loss: 0.0128\n",
            "Epoch 73/100\n",
            "4799/4799 [==============================] - 9s 2ms/step - loss: 0.0129\n",
            "Epoch 74/100\n",
            "4799/4799 [==============================] - 10s 2ms/step - loss: 0.0117\n",
            "Epoch 75/100\n",
            "4799/4799 [==============================] - 10s 2ms/step - loss: 0.0125\n",
            "Epoch 76/100\n",
            "4799/4799 [==============================] - 9s 2ms/step - loss: 0.0136\n",
            "Epoch 77/100\n",
            "4799/4799 [==============================] - 13s 3ms/step - loss: 0.0114\n",
            "Epoch 78/100\n",
            "4799/4799 [==============================] - 10s 2ms/step - loss: 0.0123\n",
            "Epoch 79/100\n",
            "4799/4799 [==============================] - 10s 2ms/step - loss: 0.0130\n",
            "Epoch 80/100\n",
            "4799/4799 [==============================] - 10s 2ms/step - loss: 0.0106\n",
            "Epoch 81/100\n",
            "4799/4799 [==============================] - 10s 2ms/step - loss: 0.0123\n",
            "Epoch 82/100\n",
            "4799/4799 [==============================] - 9s 2ms/step - loss: 0.0118\n",
            "Epoch 83/100\n",
            "4799/4799 [==============================] - 9s 2ms/step - loss: 0.0117\n",
            "Epoch 84/100\n",
            "4799/4799 [==============================] - 9s 2ms/step - loss: 0.0135\n",
            "Epoch 85/100\n",
            "4799/4799 [==============================] - 9s 2ms/step - loss: 0.0116\n",
            "Epoch 86/100\n",
            "4799/4799 [==============================] - 10s 2ms/step - loss: 0.0120\n",
            "Epoch 87/100\n",
            "4799/4799 [==============================] - 10s 2ms/step - loss: 0.0135\n",
            "Epoch 88/100\n",
            "4799/4799 [==============================] - 11s 2ms/step - loss: 0.0131\n",
            "Epoch 89/100\n",
            "4799/4799 [==============================] - 11s 2ms/step - loss: 0.0110\n",
            "Epoch 90/100\n",
            "4799/4799 [==============================] - 10s 2ms/step - loss: 0.0118\n",
            "Epoch 91/100\n",
            "4799/4799 [==============================] - 11s 2ms/step - loss: 0.0127\n",
            "Epoch 92/100\n",
            "4799/4799 [==============================] - 10s 2ms/step - loss: 0.0107\n",
            "Epoch 93/100\n",
            "4799/4799 [==============================] - 10s 2ms/step - loss: 0.0120\n",
            "Epoch 94/100\n",
            "4799/4799 [==============================] - 9s 2ms/step - loss: 0.0107\n",
            "Epoch 95/100\n",
            "4799/4799 [==============================] - 9s 2ms/step - loss: 0.0110\n",
            "Epoch 96/100\n",
            "4799/4799 [==============================] - 9s 2ms/step - loss: 0.0117\n",
            "Epoch 97/100\n",
            "4799/4799 [==============================] - 9s 2ms/step - loss: 0.0113\n",
            "Epoch 98/100\n",
            "4799/4799 [==============================] - 11s 2ms/step - loss: 0.0112\n",
            "Epoch 99/100\n",
            "4799/4799 [==============================] - 10s 2ms/step - loss: 0.0103\n",
            "Epoch 100/100\n",
            "4799/4799 [==============================] - 9s 2ms/step - loss: 0.0111\n"
          ]
        },
        {
          "output_type": "execute_result",
          "data": {
            "text/plain": [
              "<keras.callbacks.History at 0x7f16c0b62590>"
            ]
          },
          "metadata": {},
          "execution_count": 22
        }
      ]
    },
    {
      "cell_type": "markdown",
      "source": [
        "## Predicted Values Extraction"
      ],
      "metadata": {
        "id": "FQuqKNAsosnb"
      }
    },
    {
      "cell_type": "code",
      "source": [
        "predicted_values = mlp.predict(X_test)\n",
        "actual_values = (y_test)\n",
        "def unstack(a, axis=0):\n",
        "    return np.moveaxis(a, axis, 0)\n",
        "X_pred,Y_pred,Z_pred = unstack(predicted_values, axis=1)\n",
        "X_ac,Y_ac,Z_ac = unstack(actual_values, axis =1)\n",
        "print(predicted_values.shape)"
      ],
      "metadata": {
        "id": "ZLu3w3MooF4C",
        "colab": {
          "base_uri": "https://localhost:8080/"
        },
        "outputId": "ab187275-6cae-4093-c048-8f6184413a7e"
      },
      "execution_count": 23,
      "outputs": [
        {
          "output_type": "stream",
          "name": "stdout",
          "text": [
            "(59978, 3, 10)\n"
          ]
        }
      ]
    },
    {
      "cell_type": "markdown",
      "source": [
        "#L1 , L2 and H1 Error Metrics "
      ],
      "metadata": {
        "id": "SBpgLaoKownJ"
      }
    },
    {
      "cell_type": "code",
      "source": [
        "Loss1 = abs(predicted_values - actual_values)\n",
        "L1 = 0\n",
        "for i in range (59978):\n",
        "  for j in range(3):\n",
        "    for k in range(10):\n",
        "      L1 = L1 + Loss1[i][j][k]\n",
        "L1_averaged = L1/10\n",
        "print(L1_averaged)"
      ],
      "metadata": {
        "id": "IX7t15Fxh7KZ",
        "colab": {
          "base_uri": "https://localhost:8080/"
        },
        "outputId": "6870ec91-baca-4a54-f9a4-4014792b3e92"
      },
      "execution_count": 153,
      "outputs": [
        {
          "output_type": "stream",
          "name": "stdout",
          "text": [
            "8507.32702162021\n"
          ]
        }
      ]
    },
    {
      "cell_type": "code",
      "source": [
        "Loss2 = predicted_values - actual_values\n",
        "L2=0\n",
        "for i in range (59978):\n",
        "  for j in range(3):\n",
        "    for k in range(10):\n",
        "      L2 = L2 + (Loss2[i][j][k])*(Loss2[i][j][k])\n",
        "L2_averaged = L2/10\n",
        "print(L2_averaged)"
      ],
      "metadata": {
        "id": "pHKltHAKlEBo",
        "colab": {
          "base_uri": "https://localhost:8080/"
        },
        "outputId": "e75ff19d-3540-4a19-ed72-a6e010f19478"
      },
      "execution_count": 154,
      "outputs": [
        {
          "output_type": "stream",
          "name": "stdout",
          "text": [
            "761.654094090102\n"
          ]
        }
      ]
    },
    {
      "cell_type": "code",
      "source": [
        "Huber = predicted_values - actual_values\n",
        "H1=0\n",
        "delta = 0.01\n",
        "for i in range (59978):\n",
        "  for j in range(3):\n",
        "    for k in range(10):\n",
        "      if abs(Huber[i][j][k]) <= delta :\n",
        "        H1 = H1 + 0.5*((Huber[i][j][k])*(Huber[i][j][k]))\n",
        "      else:\n",
        "        H1 = H1 + delta*Huber[i][j][k] - 0.5*delta*delta\n",
        "Huber_averaged = H1/10\n",
        "print(Huber_averaged)"
      ],
      "metadata": {
        "id": "UhB5Z9JosqFq",
        "colab": {
          "base_uri": "https://localhost:8080/"
        },
        "outputId": "73b3ba57-e8ea-4814-e1ac-4cbb69c2afb4"
      },
      "execution_count": 157,
      "outputs": [
        {
          "output_type": "stream",
          "name": "stdout",
          "text": [
            "-68.86742976907915\n"
          ]
        }
      ]
    },
    {
      "cell_type": "markdown",
      "source": [
        "#Moving Average Filter - MLP Model\n",
        "___"
      ],
      "metadata": {
        "id": "gzbauH3SB50P"
      }
    },
    {
      "cell_type": "markdown",
      "source": [
        "##Formula being Used -> Moving Window of size 15 used:\n",
        "####Causal -> X(t) = [x(t) + x(t-1) ... + x(t-14)]/15 \n",
        "####Non - Causal -> X(t) = [x(t-7) + x(t-6)... + x(t)... + x(t+6) + x(t+7)]/15\n",
        "\n",
        "\n"
      ],
      "metadata": {
        "id": "CLBFrvYVBEOp"
      }
    },
    {
      "cell_type": "markdown",
      "source": [
        "##Formation of the Causal and Non-Causal X Y Z values"
      ],
      "metadata": {
        "id": "C2JlWfjcMFnd"
      }
    },
    {
      "cell_type": "code",
      "source": [
        "x3_cs= np.zeros(300000)\n",
        "for i in range (14,300000):\n",
        "  x3_cs[i] = (x3[i] + x3[i-1] + x3[i-2] + x3[i-3] + x3[i-4] + x3[i-5] + x3[i-6] + x3[i-7] + x3[i-8] + x3[i-9] + x3[i-10] + x3[i-11] + x3[i-12] + x3[i-13] +x3[i-14])/15\n"
      ],
      "metadata": {
        "id": "9XQi2y35B96K"
      },
      "execution_count": 93,
      "outputs": []
    },
    {
      "cell_type": "code",
      "source": [
        "y3_cs= np.zeros(300000)\n",
        "for i in range (14,300000):\n",
        "  y3_cs[i] = (y3[i] + y3[i-1] + y3[i-2] + y3[i-3] + y3[i-4] + y3[i-5] + y3[i-6] + y3[i-7] + y3[i-8] + y3[i-9] + y3[i-10] + y3[i-11] + y3[i-12] + y3[i-13] +y3[i-14])/15\n"
      ],
      "metadata": {
        "id": "ZVLYYJf7FrkD"
      },
      "execution_count": 61,
      "outputs": []
    },
    {
      "cell_type": "code",
      "source": [
        "z3_cs= np.zeros(300000)\n",
        "for i in range (14,300000):\n",
        "  z3_cs[i] = (z3[i] + z3[i-1] + z3[i-2] + z3[i-3] + z3[i-4] + z3[i-5] + z3[i-6] + z3[i-7] + z3[i-8] + z3[i-9] + z3[i-10] + z3[i-11] + z3[i-12] + z3[i-13] +z3[i-14])/15"
      ],
      "metadata": {
        "id": "BTGgGbHGF6iZ"
      },
      "execution_count": 62,
      "outputs": []
    },
    {
      "cell_type": "code",
      "source": [
        "x3_ncs= np.zeros(300000)\n",
        "for i in range (7,299993):\n",
        "  x3_ncs[i] = (x3[i] + x3[i-1] + x3[i-2] + x3[i-3] + x3[i-4] + x3[i-5] + x3[i-6] + x3[i-7] + x3[i+7] + x3[i+1] + x3[i+2] + x3[i+3] + x3[i+4] + x3[i+5] +x3[i+6])/15\n"
      ],
      "metadata": {
        "id": "IOBmfzEyG5Qf"
      },
      "execution_count": 63,
      "outputs": []
    },
    {
      "cell_type": "code",
      "source": [
        "y3_ncs= np.zeros(300000)\n",
        "for i in range (7,299993):\n",
        "  y3_ncs[i] = (y3[i] + y3[i-1] + y3[i-2] + y3[i-3] + y3[i-4] + y3[i-5] + y3[i-6] + y3[i-7] + y3[i+7] + y3[i+1] + y3[i+2] + y3[i+3] + y3[i+4] + y3[i+5] +y3[i+6])/15\n"
      ],
      "metadata": {
        "id": "a5LZOm10H9Q3"
      },
      "execution_count": 64,
      "outputs": []
    },
    {
      "cell_type": "code",
      "source": [
        "z3_ncs= np.zeros(300000)\n",
        "for i in range (7,299993):\n",
        "  z3_ncs[i] = (z3[i] + z3[i-1] + z3[i-2] + z3[i-3] + z3[i-4] + z3[i-5] + z3[i-6] + z3[i-7] + z3[i+7] + z3[i+1] + z3[i+2] + z3[i+3] + z3[i+4] + z3[i+5] + z3[i+6])/15"
      ],
      "metadata": {
        "id": "I7kDTvlwIONP"
      },
      "execution_count": 65,
      "outputs": []
    },
    {
      "cell_type": "markdown",
      "source": [
        "##0 -> nan"
      ],
      "metadata": {
        "id": "OAt8pCHJMVwi"
      }
    },
    {
      "cell_type": "code",
      "source": [
        "count=0\n",
        "for i in range (300000):\n",
        "  if x3_cs[i]==0:\n",
        "    x3_cs[i]=np.nan\n",
        "    count= count + 1\n",
        "print(count)\n",
        "for i in range (300000):\n",
        "  if y3_cs[i]==0:\n",
        "    y3_cs[i]=np.nan\n",
        "    count= count + 1\n",
        "for i in range (300000):\n",
        "  if z3_cs[i]==0:\n",
        "    z3_cs[i]=np.nan\n",
        "    count= count + 1\n",
        "for i in range (300000):\n",
        "  if x3_ncs[i]==0:\n",
        "    x3_ncs[i]=np.nan\n",
        "    count= count + 1\n",
        "for i in range (300000):\n",
        "  if y3_ncs[i]==0:\n",
        "    y3_ncs[i]=np.nan\n",
        "    count= count + 1\n",
        "for i in range (300000):\n",
        "  if z3_ncs[i]==0:\n",
        "    z3_ncs[i]=np.nan\n",
        "    count= count + 1"
      ],
      "metadata": {
        "colab": {
          "base_uri": "https://localhost:8080/"
        },
        "id": "UWFGHhUMBHje",
        "outputId": "f7a27329-d3d1-446a-a001-9296170d190e"
      },
      "execution_count": 94,
      "outputs": [
        {
          "output_type": "stream",
          "name": "stdout",
          "text": [
            "14\n"
          ]
        }
      ]
    },
    {
      "cell_type": "markdown",
      "source": [
        "##Replacing nan values"
      ],
      "metadata": {
        "id": "W0d1ZS4nMfzg"
      }
    },
    {
      "cell_type": "code",
      "source": [
        "from sklearn.impute import SimpleImputer\n",
        "imputer = SimpleImputer(missing_values=np.nan,strategy = 'mean')\n",
        "\n",
        "x3_cs = x3_cs.reshape(-1,1)\n",
        "imputer.fit(x3_cs)\n",
        "x3_cs = imputer.transform(x3_cs)\n",
        "x3_cs = x3_cs.reshape(1,-1)\n",
        "x3_cs = x3_cs[0]\n",
        "\n",
        "y3_cs = y3_cs.reshape(-1,1)\n",
        "imputer.fit(y3_cs)\n",
        "y3_cs = imputer.transform(y3_cs)\n",
        "y3_cs = y3_cs.reshape(1,-1)\n",
        "y3_cs = y3_cs[0]\n",
        "\n",
        "z3_cs = z3_cs.reshape(-1,1)\n",
        "imputer.fit(z3_cs)\n",
        "z3_cs = imputer.transform(z3_cs)\n",
        "z3_cs = z3_cs.reshape(1,-1)\n",
        "z3_cs = z3_cs[0]\n",
        "\n",
        "x3_ncs = x3_ncs.reshape(-1,1)\n",
        "imputer.fit(x3_ncs)\n",
        "x3_ncs = imputer.transform(x3_ncs)\n",
        "x3_ncs = x3_ncs.reshape(1,-1)\n",
        "x3_ncs = x3_ncs[0]\n",
        "\n",
        "y3_ncs = y3_ncs.reshape(-1,1)\n",
        "imputer.fit(y3_ncs)\n",
        "y3_ncs = imputer.transform(y3_ncs)\n",
        "y3_ncs = y3_ncs.reshape(1,-1)\n",
        "y3_ncs = y3_ncs[0]\n",
        "\n",
        "z3_ncs = z3_ncs.reshape(-1,1)\n",
        "imputer.fit(z3_ncs)\n",
        "z3_ncs = imputer.transform(z3_ncs)\n",
        "z3_ncs = z3_ncs.reshape(1,-1)\n",
        "z3_ncs = z3_ncs[0]"
      ],
      "metadata": {
        "id": "jnnMpoMfFRou"
      },
      "execution_count": 120,
      "outputs": []
    },
    {
      "cell_type": "markdown",
      "source": [
        "##Forming the causal filter Univariate Inputs"
      ],
      "metadata": {
        "id": "XMS1EK6uMpno"
      }
    },
    {
      "cell_type": "code",
      "source": [
        "def univariate_series(sequence, n_steps):\n",
        "  X1_cs, Y1_cs = list(), list()\n",
        "  for i in range(300000):\n",
        "    end_input = i + n_steps\n",
        "    if end_input > 299989:\n",
        "     break\n",
        "    seq_x, seq_y = sequence[i:end_input], sequence[end_input:end_input+10]\n",
        "    X1_cs.append(seq_x)\n",
        "    Y1_cs.append(seq_y)\n",
        "  return np.array(X1_cs), np.array(Y1_cs)\n",
        "\n",
        "X1_cs, Y1_cs = univariate_series(x3_cs,100)\n",
        "\n",
        "def univariate_series(sequence, n_steps):\n",
        "  X2_cs, Y2_cs = list(), list()\n",
        "  for i in range(300000):\n",
        "    end_input = i + n_steps\n",
        "    if end_input > 299989:\n",
        "     break\n",
        "    seq_x, seq_y = sequence[i:end_input], sequence[end_input:end_input+10]\n",
        "    X2_cs.append(seq_x)\n",
        "    Y2_cs.append(seq_y)\n",
        "  return np.array(X2_cs), np.array(Y2_cs)\n",
        "\n",
        "X2_cs, Y2_cs = univariate_series(y3_cs,100)\n",
        "\n",
        "def univariate_series(sequence, n_steps):\n",
        "  X3_cs, Y3_cs = list(), list()\n",
        "  for i in range(300000):\n",
        "    end_input = i + n_steps\n",
        "    if end_input > 299989:\n",
        "     break\n",
        "    seq_x, seq_y = sequence[i:end_input], sequence[end_input:end_input+10]\n",
        "    X3_cs.append(seq_x)\n",
        "    Y3_cs.append(seq_y)\n",
        "  return np.array(X3_cs), np.array(Y3_cs)\n",
        "\n",
        "X3_cs, Y3_cs = univariate_series(z3_cs,100)"
      ],
      "metadata": {
        "id": "6u7dIzBgJq7N"
      },
      "execution_count": 128,
      "outputs": []
    },
    {
      "cell_type": "markdown",
      "source": [
        "##Input Vector Creation"
      ],
      "metadata": {
        "id": "_tob0u-4Mx7J"
      }
    },
    {
      "cell_type": "code",
      "source": [
        "New_X_cs = np.stack([X1_cs,X2_cs,X3_cs], axis=1)\n",
        "New_Y_cs = np.stack([Y1_cs,Y2_cs,Y3_cs], axis=1)"
      ],
      "metadata": {
        "id": "RhFzixuRKWc6"
      },
      "execution_count": 132,
      "outputs": []
    },
    {
      "cell_type": "markdown",
      "source": [
        "##Train Test Split"
      ],
      "metadata": {
        "id": "dWxLubWWM0GN"
      }
    },
    {
      "cell_type": "code",
      "source": [
        "from sklearn.model_selection import train_test_split\n",
        "X_train_cs, X_test_cs, y_train_cs, y_test_cs = train_test_split(New_X_cs, New_Y_cs, test_size = 0.2, random_state = 0)"
      ],
      "metadata": {
        "id": "XXju2ggMKfBE"
      },
      "execution_count": 133,
      "outputs": []
    },
    {
      "cell_type": "markdown",
      "source": [
        "##MLP Model"
      ],
      "metadata": {
        "id": "3pfz8m8eM255"
      }
    },
    {
      "cell_type": "code",
      "source": [
        "import tensorflow as tf \n",
        "mlp_cs = tf.keras.models.Sequential()\n",
        "mlp_cs.add(tf.keras.layers.Dense(units=2, activation='relu'))\n",
        "mlp_cs.add(tf.keras.layers.Dense(units=2, activation='relu'))\n",
        "mlp_cs.add(tf.keras.layers.Dense(units=10))\n",
        "mlp_cs.compile(optimizer = 'adam', loss = 'mse')\n",
        "mlp_cs.fit(X_train_cs,y_train_cs, batch_size = 50, epochs = 100)"
      ],
      "metadata": {
        "colab": {
          "base_uri": "https://localhost:8080/"
        },
        "id": "viG6GdcaKn9_",
        "outputId": "059f07eb-c502-4c74-c60e-4821d3d5aee7"
      },
      "execution_count": 136,
      "outputs": [
        {
          "output_type": "stream",
          "name": "stdout",
          "text": [
            "Epoch 1/100\n",
            "4799/4799 [==============================] - 14s 3ms/step - loss: 32.6924\n",
            "Epoch 2/100\n",
            "4799/4799 [==============================] - 18s 4ms/step - loss: 8.7603\n",
            "Epoch 3/100\n",
            "4799/4799 [==============================] - 20s 4ms/step - loss: 3.1729\n",
            "Epoch 4/100\n",
            "4799/4799 [==============================] - 20s 4ms/step - loss: 0.9859\n",
            "Epoch 5/100\n",
            "4799/4799 [==============================] - 21s 4ms/step - loss: 0.3132\n",
            "Epoch 6/100\n",
            "4799/4799 [==============================] - 17s 3ms/step - loss: 0.1418\n",
            "Epoch 7/100\n",
            "4799/4799 [==============================] - 17s 4ms/step - loss: 0.0956\n",
            "Epoch 8/100\n",
            "4799/4799 [==============================] - 17s 4ms/step - loss: 0.0762\n",
            "Epoch 9/100\n",
            "4799/4799 [==============================] - 24s 5ms/step - loss: 0.0683\n",
            "Epoch 10/100\n",
            "4799/4799 [==============================] - 19s 4ms/step - loss: 0.0639\n",
            "Epoch 11/100\n",
            "4799/4799 [==============================] - 19s 4ms/step - loss: 0.0626\n",
            "Epoch 12/100\n",
            "4799/4799 [==============================] - 10s 2ms/step - loss: 0.0594\n",
            "Epoch 13/100\n",
            "4799/4799 [==============================] - 8s 2ms/step - loss: 0.0576\n",
            "Epoch 14/100\n",
            "4799/4799 [==============================] - 11s 2ms/step - loss: 0.0563\n",
            "Epoch 15/100\n",
            "4799/4799 [==============================] - 11s 2ms/step - loss: 0.0551\n",
            "Epoch 16/100\n",
            "4799/4799 [==============================] - 9s 2ms/step - loss: 0.0551\n",
            "Epoch 17/100\n",
            "4799/4799 [==============================] - 8s 2ms/step - loss: 0.0541\n",
            "Epoch 18/100\n",
            "4799/4799 [==============================] - 12s 2ms/step - loss: 0.0550\n",
            "Epoch 19/100\n",
            "4799/4799 [==============================] - 9s 2ms/step - loss: 0.0530\n",
            "Epoch 20/100\n",
            "4799/4799 [==============================] - 8s 2ms/step - loss: 0.0518\n",
            "Epoch 21/100\n",
            "4799/4799 [==============================] - 10s 2ms/step - loss: 0.0515\n",
            "Epoch 22/100\n",
            "4799/4799 [==============================] - 9s 2ms/step - loss: 0.0533\n",
            "Epoch 23/100\n",
            "4799/4799 [==============================] - 10s 2ms/step - loss: 0.0526\n",
            "Epoch 24/100\n",
            "4799/4799 [==============================] - 9s 2ms/step - loss: 0.0516\n",
            "Epoch 25/100\n",
            "4799/4799 [==============================] - 10s 2ms/step - loss: 0.0510\n",
            "Epoch 26/100\n",
            "4799/4799 [==============================] - 12s 3ms/step - loss: 0.0508\n",
            "Epoch 27/100\n",
            "4799/4799 [==============================] - 10s 2ms/step - loss: 0.0507\n",
            "Epoch 28/100\n",
            "4799/4799 [==============================] - 8s 2ms/step - loss: 0.0502\n",
            "Epoch 29/100\n",
            "4799/4799 [==============================] - 11s 2ms/step - loss: 0.0522\n",
            "Epoch 30/100\n",
            "4799/4799 [==============================] - 10s 2ms/step - loss: 0.0483\n",
            "Epoch 31/100\n",
            "4799/4799 [==============================] - 9s 2ms/step - loss: 0.0509\n",
            "Epoch 32/100\n",
            "4799/4799 [==============================] - 11s 2ms/step - loss: 0.0497\n",
            "Epoch 33/100\n",
            "4799/4799 [==============================] - 15s 3ms/step - loss: 0.0495\n",
            "Epoch 34/100\n",
            "4799/4799 [==============================] - 10s 2ms/step - loss: 0.0499\n",
            "Epoch 35/100\n",
            "4799/4799 [==============================] - 10s 2ms/step - loss: 0.0501\n",
            "Epoch 36/100\n",
            "4799/4799 [==============================] - 11s 2ms/step - loss: 0.0475\n",
            "Epoch 37/100\n",
            "4799/4799 [==============================] - 9s 2ms/step - loss: 0.0510\n",
            "Epoch 38/100\n",
            "4799/4799 [==============================] - 13s 3ms/step - loss: 0.0483\n",
            "Epoch 39/100\n",
            "4799/4799 [==============================] - 11s 2ms/step - loss: 0.0484\n",
            "Epoch 40/100\n",
            "4799/4799 [==============================] - 10s 2ms/step - loss: 0.0499\n",
            "Epoch 41/100\n",
            "4799/4799 [==============================] - 12s 3ms/step - loss: 0.0497\n",
            "Epoch 42/100\n",
            "4799/4799 [==============================] - 10s 2ms/step - loss: 0.0480\n",
            "Epoch 43/100\n",
            "4799/4799 [==============================] - 10s 2ms/step - loss: 0.0481\n",
            "Epoch 44/100\n",
            "4799/4799 [==============================] - 9s 2ms/step - loss: 0.0481\n",
            "Epoch 45/100\n",
            "4799/4799 [==============================] - 9s 2ms/step - loss: 0.0480\n",
            "Epoch 46/100\n",
            "4799/4799 [==============================] - 11s 2ms/step - loss: 0.0478\n",
            "Epoch 47/100\n",
            "4799/4799 [==============================] - 10s 2ms/step - loss: 0.0467\n",
            "Epoch 48/100\n",
            "4799/4799 [==============================] - 10s 2ms/step - loss: 0.0510\n",
            "Epoch 49/100\n",
            "4799/4799 [==============================] - 10s 2ms/step - loss: 0.0462\n",
            "Epoch 50/100\n",
            "4799/4799 [==============================] - 12s 3ms/step - loss: 0.0477\n",
            "Epoch 51/100\n",
            "4799/4799 [==============================] - 11s 2ms/step - loss: 0.0472\n",
            "Epoch 52/100\n",
            "4799/4799 [==============================] - 20s 4ms/step - loss: 0.0472\n",
            "Epoch 53/100\n",
            "4799/4799 [==============================] - 19s 4ms/step - loss: 0.0461\n",
            "Epoch 54/100\n",
            "4799/4799 [==============================] - 17s 4ms/step - loss: 0.0479\n",
            "Epoch 55/100\n",
            "4799/4799 [==============================] - 17s 4ms/step - loss: 0.0465\n",
            "Epoch 56/100\n",
            "4799/4799 [==============================] - 17s 4ms/step - loss: 0.0471\n",
            "Epoch 57/100\n",
            "4799/4799 [==============================] - 13s 3ms/step - loss: 0.0460\n",
            "Epoch 58/100\n",
            "4799/4799 [==============================] - 10s 2ms/step - loss: 0.0470\n",
            "Epoch 59/100\n",
            "4799/4799 [==============================] - 10s 2ms/step - loss: 0.0472\n",
            "Epoch 60/100\n",
            "4799/4799 [==============================] - 12s 3ms/step - loss: 0.0452\n",
            "Epoch 61/100\n",
            "4799/4799 [==============================] - 17s 4ms/step - loss: 0.0465\n",
            "Epoch 62/100\n",
            "4799/4799 [==============================] - 20s 4ms/step - loss: 0.0460\n",
            "Epoch 63/100\n",
            "4799/4799 [==============================] - 18s 4ms/step - loss: 0.0457\n",
            "Epoch 64/100\n",
            "4799/4799 [==============================] - 19s 4ms/step - loss: 0.0471\n",
            "Epoch 65/100\n",
            "4799/4799 [==============================] - 21s 4ms/step - loss: 0.0457\n",
            "Epoch 66/100\n",
            "4799/4799 [==============================] - 17s 4ms/step - loss: 0.0468\n",
            "Epoch 67/100\n",
            "4799/4799 [==============================] - 16s 3ms/step - loss: 0.0464\n",
            "Epoch 68/100\n",
            "4799/4799 [==============================] - 17s 4ms/step - loss: 0.0458\n",
            "Epoch 69/100\n",
            "4799/4799 [==============================] - 20s 4ms/step - loss: 0.0461\n",
            "Epoch 70/100\n",
            "4799/4799 [==============================] - 20s 4ms/step - loss: 0.0448\n",
            "Epoch 71/100\n",
            "4799/4799 [==============================] - 19s 4ms/step - loss: 0.0476\n",
            "Epoch 72/100\n",
            "4799/4799 [==============================] - 18s 4ms/step - loss: 0.0448\n",
            "Epoch 73/100\n",
            "4799/4799 [==============================] - 18s 4ms/step - loss: 0.0444\n",
            "Epoch 74/100\n",
            "4799/4799 [==============================] - 18s 4ms/step - loss: 0.0463\n",
            "Epoch 75/100\n",
            "4799/4799 [==============================] - 18s 4ms/step - loss: 0.0453\n",
            "Epoch 76/100\n",
            "4799/4799 [==============================] - 22s 5ms/step - loss: 0.0466\n",
            "Epoch 77/100\n",
            "4799/4799 [==============================] - 11s 2ms/step - loss: 0.0451\n",
            "Epoch 78/100\n",
            "4799/4799 [==============================] - 9s 2ms/step - loss: 0.0454\n",
            "Epoch 79/100\n",
            "4799/4799 [==============================] - 9s 2ms/step - loss: 0.0441\n",
            "Epoch 80/100\n",
            "4799/4799 [==============================] - 9s 2ms/step - loss: 0.0457\n",
            "Epoch 81/100\n",
            "4799/4799 [==============================] - 9s 2ms/step - loss: 0.0447\n",
            "Epoch 82/100\n",
            "4799/4799 [==============================] - 10s 2ms/step - loss: 0.0458\n",
            "Epoch 83/100\n",
            "4799/4799 [==============================] - 10s 2ms/step - loss: 0.0440\n",
            "Epoch 84/100\n",
            "4799/4799 [==============================] - 9s 2ms/step - loss: 0.0454\n",
            "Epoch 85/100\n",
            "4799/4799 [==============================] - 10s 2ms/step - loss: 0.0451\n",
            "Epoch 86/100\n",
            "4799/4799 [==============================] - 9s 2ms/step - loss: 0.0446\n",
            "Epoch 87/100\n",
            "4799/4799 [==============================] - 9s 2ms/step - loss: 0.0444\n",
            "Epoch 88/100\n",
            "4799/4799 [==============================] - 10s 2ms/step - loss: 0.0451\n",
            "Epoch 89/100\n",
            "4799/4799 [==============================] - 11s 2ms/step - loss: 0.0447\n",
            "Epoch 90/100\n",
            "4799/4799 [==============================] - 10s 2ms/step - loss: 0.0449\n",
            "Epoch 91/100\n",
            "4799/4799 [==============================] - 10s 2ms/step - loss: 0.0452\n",
            "Epoch 92/100\n",
            "4799/4799 [==============================] - 11s 2ms/step - loss: 0.0446\n",
            "Epoch 93/100\n",
            "4799/4799 [==============================] - 9s 2ms/step - loss: 0.0455\n",
            "Epoch 94/100\n",
            "4799/4799 [==============================] - 9s 2ms/step - loss: 0.0437\n",
            "Epoch 95/100\n",
            "4799/4799 [==============================] - 10s 2ms/step - loss: 0.0442\n",
            "Epoch 96/100\n",
            "4799/4799 [==============================] - 9s 2ms/step - loss: 0.0436\n",
            "Epoch 97/100\n",
            "4799/4799 [==============================] - 10s 2ms/step - loss: 0.0441\n",
            "Epoch 98/100\n",
            "4799/4799 [==============================] - 9s 2ms/step - loss: 0.0444\n",
            "Epoch 99/100\n",
            "4799/4799 [==============================] - 10s 2ms/step - loss: 0.0429\n",
            "Epoch 100/100\n",
            "4799/4799 [==============================] - 10s 2ms/step - loss: 0.0441\n"
          ]
        },
        {
          "output_type": "execute_result",
          "data": {
            "text/plain": [
              "<keras.callbacks.History at 0x7f16b8f6e950>"
            ]
          },
          "metadata": {},
          "execution_count": 136
        }
      ]
    },
    {
      "cell_type": "markdown",
      "source": [
        "##Extraction of Predicted Values"
      ],
      "metadata": {
        "id": "mTyzz8duM6T2"
      }
    },
    {
      "cell_type": "code",
      "source": [
        "predicted_values_cs = mlp_cs.predict(X_test_cs)\n",
        "actual_values_cs = (y_test_cs)\n",
        "def unstack(a, axis=0):\n",
        "    return np.moveaxis(a, axis, 0)\n",
        "X_pred_cs,Y_pred_cs,Z_pred_cs = unstack(predicted_values_cs, axis=1)\n",
        "X_ac_cs,Y_ac_cs,Z_ac_cs = unstack(actual_values_cs, axis =1)\n",
        "print(predicted_values_cs.shape)"
      ],
      "metadata": {
        "colab": {
          "base_uri": "https://localhost:8080/"
        },
        "id": "ynuoPv0SLPVC",
        "outputId": "35afa4da-77d2-4aa8-b966-8fca29196fee"
      },
      "execution_count": 137,
      "outputs": [
        {
          "output_type": "stream",
          "name": "stdout",
          "text": [
            "(59978, 3, 10)\n"
          ]
        }
      ]
    },
    {
      "cell_type": "markdown",
      "source": [
        "#L1 , L2 and H1 Error Metrics "
      ],
      "metadata": {
        "id": "hdxOUEEkM_ZR"
      }
    },
    {
      "cell_type": "code",
      "source": [
        "Loss1_cs = abs(predicted_values_cs - actual_values_cs)\n",
        "L1_cs = 0\n",
        "for i in range (59978):\n",
        "  for j in range(3):\n",
        "    for k in range(10):\n",
        "      L1_cs = L1_cs + Loss1_cs[i][j][k]\n",
        "L1_averaged_cs = L1_cs/10\n",
        "print(L1_averaged_cs)"
      ],
      "metadata": {
        "colab": {
          "base_uri": "https://localhost:8080/"
        },
        "id": "PqTUJaoiLb7g",
        "outputId": "8bad63c9-95ff-4458-b17a-418e90783dde"
      },
      "execution_count": 145,
      "outputs": [
        {
          "output_type": "stream",
          "name": "stdout",
          "text": [
            "21865.94680424639\n"
          ]
        }
      ]
    },
    {
      "cell_type": "code",
      "source": [
        "Loss2_cs = predicted_values_cs - actual_values_cs\n",
        "L2_cs = 0\n",
        "for i in range (59978):\n",
        "  for j in range(3):\n",
        "    for k in range(10):\n",
        "      L2_cs = L2_cs + (Loss2_cs[i][j][k])*(Loss2_cs[i][j][k])\n",
        "L2_averaged_cs = L2_cs/10\n",
        "print(L2_averaged_cs)"
      ],
      "metadata": {
        "colab": {
          "base_uri": "https://localhost:8080/"
        },
        "id": "Qw6Os_suLkKm",
        "outputId": "ca483f40-9266-48fc-a660-c5f7941226fd"
      },
      "execution_count": 147,
      "outputs": [
        {
          "output_type": "stream",
          "name": "stdout",
          "text": [
            "6233.091226077095\n"
          ]
        }
      ]
    },
    {
      "cell_type": "code",
      "source": [
        "Huber_cs = predicted_values_cs - actual_values_cs\n",
        "H1_cs=0\n",
        "delta = 0.01\n",
        "for i in range (59978):\n",
        "  for j in range(3):\n",
        "    for k in range(10):\n",
        "      if abs(Huber_cs[i][j][k]) <= delta :\n",
        "        H1_cs = H1_cs + 0.5*((Huber_cs[i][j][k])*(Huber_cs[i][j][k]))\n",
        "      else:\n",
        "        H1_cs = H1_cs + delta*Huber_cs[i][j][k] - 0.5*delta*delta\n",
        "Huber_averaged_cs = H1_cs/10\n",
        "print(Huber_averaged_cs)"
      ],
      "metadata": {
        "colab": {
          "base_uri": "https://localhost:8080/"
        },
        "id": "0dcXBg_mLxoE",
        "outputId": "978408f8-0800-42c6-b8a1-91315aaf5265"
      },
      "execution_count": 158,
      "outputs": [
        {
          "output_type": "stream",
          "name": "stdout",
          "text": [
            "-7.326671556031461\n"
          ]
        }
      ]
    },
    {
      "cell_type": "markdown",
      "source": [
        "##Forming the non-causal filter Univariate Inputs"
      ],
      "metadata": {
        "id": "8gkuYMrINelM"
      }
    },
    {
      "cell_type": "code",
      "source": [
        "def univariate_series(sequence, n_steps):\n",
        "  X1_ncs, Y1_ncs = list(), list()\n",
        "  for i in range(300000):\n",
        "    end_input = i + n_steps\n",
        "    if end_input > 299989:\n",
        "     break\n",
        "    seq_x, seq_y = sequence[i:end_input], sequence[end_input:end_input+10]\n",
        "    X1_ncs.append(seq_x)\n",
        "    Y1_ncs.append(seq_y)\n",
        "  return np.array(X1_ncs), np.array(Y1_ncs)\n",
        "\n",
        "X1_ncs, Y1_ncs = univariate_series(x3_ncs,100)\n",
        "\n",
        "def univariate_series(sequence, n_steps):\n",
        "  X2_ncs, Y2_ncs = list(), list()\n",
        "  for i in range(300000):\n",
        "    end_input = i + n_steps\n",
        "    if end_input > 299989:\n",
        "     break\n",
        "    seq_x, seq_y = sequence[i:end_input], sequence[end_input:end_input+10]\n",
        "    X2_ncs.append(seq_x)\n",
        "    Y2_ncs.append(seq_y)\n",
        "  return np.array(X2_ncs), np.array(Y2_ncs)\n",
        "\n",
        "X2_ncs, Y2_ncs = univariate_series(y3_ncs,100)\n",
        "\n",
        "def univariate_series(sequence, n_steps):\n",
        "  X3_ncs, Y3_ncs = list(), list()\n",
        "  for i in range(300000):\n",
        "    end_input = i + n_steps\n",
        "    if end_input > 299989:\n",
        "     break\n",
        "    seq_x, seq_y = sequence[i:end_input], sequence[end_input:end_input+10]\n",
        "    X3_ncs.append(seq_x)\n",
        "    Y3_ncs.append(seq_y)\n",
        "  return np.array(X3_ncs), np.array(Y3_ncs)\n",
        "\n",
        "X3_ncs, Y3_ncs = univariate_series(z3_ncs,100)"
      ],
      "metadata": {
        "id": "RfgBYGndNgiw"
      },
      "execution_count": 159,
      "outputs": []
    },
    {
      "cell_type": "markdown",
      "source": [
        "##Input Vector Creation"
      ],
      "metadata": {
        "id": "_1FBEJUcOBtY"
      }
    },
    {
      "cell_type": "code",
      "source": [
        "New_X_ncs = np.stack([X1_ncs,X2_ncs,X3_ncs], axis=1)\n",
        "New_Y_ncs = np.stack([Y1_ncs,Y2_ncs,Y3_ncs], axis=1)"
      ],
      "metadata": {
        "id": "iJ8T-iItOCe1"
      },
      "execution_count": 160,
      "outputs": []
    },
    {
      "cell_type": "markdown",
      "source": [
        "##Train Test Split"
      ],
      "metadata": {
        "id": "aR-zdxgcOLBN"
      }
    },
    {
      "cell_type": "code",
      "source": [
        "from sklearn.model_selection import train_test_split\n",
        "X_train_ncs, X_test_ncs, y_train_ncs, y_test_ncs = train_test_split(New_X_ncs, New_Y_ncs, test_size = 0.2, random_state = 0)"
      ],
      "metadata": {
        "id": "qJ-ZqO9ZOLy8"
      },
      "execution_count": 161,
      "outputs": []
    },
    {
      "cell_type": "markdown",
      "source": [
        "##MLP Model"
      ],
      "metadata": {
        "id": "zXy6k8oBOUyv"
      }
    },
    {
      "cell_type": "code",
      "source": [
        "import tensorflow as tf \n",
        "mlp_ncs = tf.keras.models.Sequential()\n",
        "mlp_ncs.add(tf.keras.layers.Dense(units=2, activation='relu'))\n",
        "mlp_ncs.add(tf.keras.layers.Dense(units=2, activation='relu'))\n",
        "mlp_ncs.add(tf.keras.layers.Dense(units=10))\n",
        "mlp_ncs.compile(optimizer = 'adam', loss = 'mse')\n",
        "mlp_ncs.fit(X_train_ncs,y_train_ncs, batch_size = 50, epochs = 100)"
      ],
      "metadata": {
        "colab": {
          "base_uri": "https://localhost:8080/"
        },
        "id": "ZuWW1S7COUP3",
        "outputId": "6d34f4c7-f383-4b67-f7d9-de8147e78bd3"
      },
      "execution_count": 162,
      "outputs": [
        {
          "output_type": "stream",
          "name": "stdout",
          "text": [
            "Epoch 1/100\n",
            "4799/4799 [==============================] - 11s 2ms/step - loss: 18.0674\n",
            "Epoch 2/100\n",
            "4799/4799 [==============================] - 11s 2ms/step - loss: 0.0551\n",
            "Epoch 3/100\n",
            "4799/4799 [==============================] - 9s 2ms/step - loss: 0.0465\n",
            "Epoch 4/100\n",
            "4799/4799 [==============================] - 9s 2ms/step - loss: 0.0419\n",
            "Epoch 5/100\n",
            "4799/4799 [==============================] - 9s 2ms/step - loss: 0.0400\n",
            "Epoch 6/100\n",
            "4799/4799 [==============================] - 9s 2ms/step - loss: 0.0392\n",
            "Epoch 7/100\n",
            "4799/4799 [==============================] - 9s 2ms/step - loss: 0.0387\n",
            "Epoch 8/100\n",
            "4799/4799 [==============================] - 9s 2ms/step - loss: 0.0387\n",
            "Epoch 9/100\n",
            "4799/4799 [==============================] - 9s 2ms/step - loss: 0.0385\n",
            "Epoch 10/100\n",
            "4799/4799 [==============================] - 9s 2ms/step - loss: 0.0385\n",
            "Epoch 11/100\n",
            "4799/4799 [==============================] - 9s 2ms/step - loss: 0.0385\n",
            "Epoch 12/100\n",
            "4799/4799 [==============================] - 9s 2ms/step - loss: 0.0384\n",
            "Epoch 13/100\n",
            "4799/4799 [==============================] - 9s 2ms/step - loss: 0.0383\n",
            "Epoch 14/100\n",
            "4799/4799 [==============================] - 9s 2ms/step - loss: 0.0380\n",
            "Epoch 15/100\n",
            "4799/4799 [==============================] - 11s 2ms/step - loss: 0.0382\n",
            "Epoch 16/100\n",
            "4799/4799 [==============================] - 9s 2ms/step - loss: 0.0381\n",
            "Epoch 17/100\n",
            "4799/4799 [==============================] - 10s 2ms/step - loss: 0.0380\n",
            "Epoch 18/100\n",
            "4799/4799 [==============================] - 10s 2ms/step - loss: 0.0379\n",
            "Epoch 19/100\n",
            "4799/4799 [==============================] - 10s 2ms/step - loss: 0.0380\n",
            "Epoch 20/100\n",
            "4799/4799 [==============================] - 10s 2ms/step - loss: 0.0378\n",
            "Epoch 21/100\n",
            "4799/4799 [==============================] - 10s 2ms/step - loss: 0.0378\n",
            "Epoch 22/100\n",
            "4799/4799 [==============================] - 9s 2ms/step - loss: 0.0378\n",
            "Epoch 23/100\n",
            "4799/4799 [==============================] - 9s 2ms/step - loss: 0.0379\n",
            "Epoch 24/100\n",
            "4799/4799 [==============================] - 9s 2ms/step - loss: 0.0378\n",
            "Epoch 25/100\n",
            "4799/4799 [==============================] - 10s 2ms/step - loss: 0.0377\n",
            "Epoch 26/100\n",
            "4799/4799 [==============================] - 8s 2ms/step - loss: 0.0376\n",
            "Epoch 27/100\n",
            "4799/4799 [==============================] - 8s 2ms/step - loss: 0.0376\n",
            "Epoch 28/100\n",
            "4799/4799 [==============================] - 9s 2ms/step - loss: 0.0377\n",
            "Epoch 29/100\n",
            "4799/4799 [==============================] - 9s 2ms/step - loss: 0.0374\n",
            "Epoch 30/100\n",
            "4799/4799 [==============================] - 9s 2ms/step - loss: 0.0376\n",
            "Epoch 31/100\n",
            "4799/4799 [==============================] - 9s 2ms/step - loss: 0.0375\n",
            "Epoch 32/100\n",
            "4799/4799 [==============================] - 9s 2ms/step - loss: 0.0375\n",
            "Epoch 33/100\n",
            "4799/4799 [==============================] - 9s 2ms/step - loss: 0.0377\n",
            "Epoch 34/100\n",
            "4799/4799 [==============================] - 9s 2ms/step - loss: 0.0375\n",
            "Epoch 35/100\n",
            "4799/4799 [==============================] - 8s 2ms/step - loss: 0.0375\n",
            "Epoch 36/100\n",
            "4799/4799 [==============================] - 8s 2ms/step - loss: 0.0374\n",
            "Epoch 37/100\n",
            "4799/4799 [==============================] - 9s 2ms/step - loss: 0.0375\n",
            "Epoch 38/100\n",
            "4799/4799 [==============================] - 8s 2ms/step - loss: 0.0372\n",
            "Epoch 39/100\n",
            "4799/4799 [==============================] - 9s 2ms/step - loss: 0.0373\n",
            "Epoch 40/100\n",
            "4799/4799 [==============================] - 9s 2ms/step - loss: 0.0376\n",
            "Epoch 41/100\n",
            "4799/4799 [==============================] - 9s 2ms/step - loss: 0.0372\n",
            "Epoch 42/100\n",
            "4799/4799 [==============================] - 10s 2ms/step - loss: 0.0372\n",
            "Epoch 43/100\n",
            "4799/4799 [==============================] - 11s 2ms/step - loss: 0.0372\n",
            "Epoch 44/100\n",
            "4799/4799 [==============================] - 11s 2ms/step - loss: 0.0372\n",
            "Epoch 45/100\n",
            "4799/4799 [==============================] - 10s 2ms/step - loss: 0.0375\n",
            "Epoch 46/100\n",
            "4799/4799 [==============================] - 10s 2ms/step - loss: 0.0371\n",
            "Epoch 47/100\n",
            "4799/4799 [==============================] - 12s 2ms/step - loss: 0.0372\n",
            "Epoch 48/100\n",
            "4799/4799 [==============================] - 11s 2ms/step - loss: 0.0373\n",
            "Epoch 49/100\n",
            "4799/4799 [==============================] - 10s 2ms/step - loss: 0.0372\n",
            "Epoch 50/100\n",
            "4799/4799 [==============================] - 11s 2ms/step - loss: 0.0371\n",
            "Epoch 51/100\n",
            "4799/4799 [==============================] - 12s 3ms/step - loss: 0.0374\n",
            "Epoch 52/100\n",
            "4799/4799 [==============================] - 11s 2ms/step - loss: 0.0370\n",
            "Epoch 53/100\n",
            "4799/4799 [==============================] - 10s 2ms/step - loss: 0.0373\n",
            "Epoch 54/100\n",
            "4799/4799 [==============================] - 9s 2ms/step - loss: 0.0370\n",
            "Epoch 55/100\n",
            "4799/4799 [==============================] - 9s 2ms/step - loss: 0.0372\n",
            "Epoch 56/100\n",
            "4799/4799 [==============================] - 9s 2ms/step - loss: 0.0372\n",
            "Epoch 57/100\n",
            "4799/4799 [==============================] - 9s 2ms/step - loss: 0.0370\n",
            "Epoch 58/100\n",
            "4799/4799 [==============================] - 10s 2ms/step - loss: 0.0369\n",
            "Epoch 59/100\n",
            "4799/4799 [==============================] - 10s 2ms/step - loss: 0.0371\n",
            "Epoch 60/100\n",
            "4799/4799 [==============================] - 10s 2ms/step - loss: 0.0371\n",
            "Epoch 61/100\n",
            "4799/4799 [==============================] - 10s 2ms/step - loss: 0.0371\n",
            "Epoch 62/100\n",
            "4799/4799 [==============================] - 9s 2ms/step - loss: 0.0369\n",
            "Epoch 63/100\n",
            "4799/4799 [==============================] - 9s 2ms/step - loss: 0.0372\n",
            "Epoch 64/100\n",
            "4799/4799 [==============================] - 10s 2ms/step - loss: 0.0370\n",
            "Epoch 65/100\n",
            "4799/4799 [==============================] - 9s 2ms/step - loss: 0.0369\n",
            "Epoch 66/100\n",
            "4799/4799 [==============================] - 9s 2ms/step - loss: 0.0370\n",
            "Epoch 67/100\n",
            "4799/4799 [==============================] - 9s 2ms/step - loss: 0.0369\n",
            "Epoch 68/100\n",
            "4799/4799 [==============================] - 9s 2ms/step - loss: 0.0370\n",
            "Epoch 69/100\n",
            "4799/4799 [==============================] - 9s 2ms/step - loss: 0.0369\n",
            "Epoch 70/100\n",
            "4799/4799 [==============================] - 10s 2ms/step - loss: 0.0370\n",
            "Epoch 71/100\n",
            "4799/4799 [==============================] - 9s 2ms/step - loss: 0.0368\n",
            "Epoch 72/100\n",
            "4799/4799 [==============================] - 10s 2ms/step - loss: 0.0370\n",
            "Epoch 73/100\n",
            "4799/4799 [==============================] - 11s 2ms/step - loss: 0.0370\n",
            "Epoch 74/100\n",
            "4799/4799 [==============================] - 13s 3ms/step - loss: 0.0369\n",
            "Epoch 75/100\n",
            "4799/4799 [==============================] - 9s 2ms/step - loss: 0.0369\n",
            "Epoch 76/100\n",
            "4799/4799 [==============================] - 9s 2ms/step - loss: 0.0369\n",
            "Epoch 77/100\n",
            "4799/4799 [==============================] - 10s 2ms/step - loss: 0.0370\n",
            "Epoch 78/100\n",
            "4799/4799 [==============================] - 10s 2ms/step - loss: 0.0368\n",
            "Epoch 79/100\n",
            "4799/4799 [==============================] - 9s 2ms/step - loss: 0.0368\n",
            "Epoch 80/100\n",
            "4799/4799 [==============================] - 11s 2ms/step - loss: 0.0370\n",
            "Epoch 81/100\n",
            "4799/4799 [==============================] - 11s 2ms/step - loss: 0.0369\n",
            "Epoch 82/100\n",
            "4799/4799 [==============================] - 9s 2ms/step - loss: 0.0368\n",
            "Epoch 83/100\n",
            "4799/4799 [==============================] - 10s 2ms/step - loss: 0.0369\n",
            "Epoch 84/100\n",
            "4799/4799 [==============================] - 11s 2ms/step - loss: 0.0368\n",
            "Epoch 85/100\n",
            "4799/4799 [==============================] - 9s 2ms/step - loss: 0.0369\n",
            "Epoch 86/100\n",
            "4799/4799 [==============================] - 10s 2ms/step - loss: 0.0368\n",
            "Epoch 87/100\n",
            "4799/4799 [==============================] - 10s 2ms/step - loss: 0.0367\n",
            "Epoch 88/100\n",
            "4799/4799 [==============================] - 10s 2ms/step - loss: 0.0369\n",
            "Epoch 89/100\n",
            "4799/4799 [==============================] - 10s 2ms/step - loss: 0.0367\n",
            "Epoch 90/100\n",
            "4799/4799 [==============================] - 12s 3ms/step - loss: 0.0368\n",
            "Epoch 91/100\n",
            "4799/4799 [==============================] - 9s 2ms/step - loss: 0.0367\n",
            "Epoch 92/100\n",
            "4799/4799 [==============================] - 11s 2ms/step - loss: 0.0368\n",
            "Epoch 93/100\n",
            "4799/4799 [==============================] - 12s 2ms/step - loss: 0.0371\n",
            "Epoch 94/100\n",
            "4799/4799 [==============================] - 10s 2ms/step - loss: 0.0366\n",
            "Epoch 95/100\n",
            "4799/4799 [==============================] - 9s 2ms/step - loss: 0.0367\n",
            "Epoch 96/100\n",
            "4799/4799 [==============================] - 10s 2ms/step - loss: 0.0367\n",
            "Epoch 97/100\n",
            "4799/4799 [==============================] - 10s 2ms/step - loss: 0.0368\n",
            "Epoch 98/100\n",
            "4799/4799 [==============================] - 10s 2ms/step - loss: 0.0368\n",
            "Epoch 99/100\n",
            "4799/4799 [==============================] - 9s 2ms/step - loss: 0.0368\n",
            "Epoch 100/100\n",
            "4799/4799 [==============================] - 9s 2ms/step - loss: 0.0368\n"
          ]
        },
        {
          "output_type": "execute_result",
          "data": {
            "text/plain": [
              "<keras.callbacks.History at 0x7f16b7dad190>"
            ]
          },
          "metadata": {},
          "execution_count": 162
        }
      ]
    },
    {
      "cell_type": "markdown",
      "source": [
        "##Extraction of Predicted Values"
      ],
      "metadata": {
        "id": "LKVd536VOcuB"
      }
    },
    {
      "cell_type": "code",
      "source": [
        "predicted_values_ncs = mlp_ncs.predict(X_test_ncs)\n",
        "actual_values_ncs = (y_test_ncs)\n",
        "def unstack(a, axis=0):\n",
        "    return np.moveaxis(a, axis, 0)\n",
        "X_pred_ncs,Y_pred_ncs,Z_pred_ncs = unstack(predicted_values_ncs, axis=1)\n",
        "X_ac_ncs,Y_ac_ncs,Z_ac_ncs = unstack(actual_values_ncs, axis =1)\n",
        "print(predicted_values_ncs.shape)"
      ],
      "metadata": {
        "colab": {
          "base_uri": "https://localhost:8080/"
        },
        "id": "gNXTepCEOd4g",
        "outputId": "a5406092-c9d5-4314-c55e-b33d99489981"
      },
      "execution_count": 163,
      "outputs": [
        {
          "output_type": "stream",
          "name": "stdout",
          "text": [
            "(59978, 3, 10)\n"
          ]
        }
      ]
    },
    {
      "cell_type": "markdown",
      "source": [
        "#L1 , L2 and H1 Error Metrics "
      ],
      "metadata": {
        "id": "PNgsORd3OrCs"
      }
    },
    {
      "cell_type": "code",
      "source": [
        "Loss1_ncs = abs(predicted_values_ncs - actual_values_ncs)\n",
        "L1_ncs = 0\n",
        "for i in range (59978):\n",
        "  for j in range(3):\n",
        "    for k in range(10):\n",
        "      L1_ncs = L1_ncs + Loss1_ncs[i][j][k]\n",
        "L1_averaged_ncs = L1_ncs/10\n",
        "print(L1_averaged_ncs)"
      ],
      "metadata": {
        "colab": {
          "base_uri": "https://localhost:8080/"
        },
        "id": "H4KnEwNbOrr2",
        "outputId": "73bd6842-f939-409e-caef-7cf99955d72a"
      },
      "execution_count": 166,
      "outputs": [
        {
          "output_type": "stream",
          "name": "stdout",
          "text": [
            "21690.667327507537\n"
          ]
        }
      ]
    },
    {
      "cell_type": "code",
      "source": [
        "Loss2_ncs = predicted_values_ncs - actual_values_ncs\n",
        "L2_ncs = 0\n",
        "for i in range (59978):\n",
        "  for j in range(3):\n",
        "    for k in range(10):\n",
        "      L2_ncs = L2_ncs + (Loss2_ncs[i][j][k])*(Loss2_ncs[i][j][k])\n",
        "L2_averaged_ncs = L2_cs/10\n",
        "print(L2_averaged_ncs)"
      ],
      "metadata": {
        "colab": {
          "base_uri": "https://localhost:8080/"
        },
        "id": "yot-zieMO0Wk",
        "outputId": "10da8c89-f545-4761-869f-c92cfab3ba16"
      },
      "execution_count": 167,
      "outputs": [
        {
          "output_type": "stream",
          "name": "stdout",
          "text": [
            "6233.091226077095\n"
          ]
        }
      ]
    },
    {
      "cell_type": "code",
      "source": [
        "Huber_ncs = predicted_values_ncs - actual_values_ncs\n",
        "H1_ncs=0\n",
        "delta = 0.01\n",
        "for i in range (59978):\n",
        "  for j in range(3):\n",
        "    for k in range(10):\n",
        "      if abs(Huber_ncs[i][j][k]) <= delta :\n",
        "        H1_ncs = H1_ncs + 0.5*((Huber_ncs[i][j][k])*(Huber_ncs[i][j][k]))\n",
        "      else:\n",
        "        H1_ncs = H1_ncs + delta*Huber_ncs[i][j][k] - 0.5*delta*delta\n",
        "Huber_averaged_ncs = H1/10\n",
        "print(Huber_averaged_ncs)"
      ],
      "metadata": {
        "colab": {
          "base_uri": "https://localhost:8080/"
        },
        "id": "HZttG20IO5WX",
        "outputId": "c519ec2c-ee5e-4509-f4cc-3079483e51a2"
      },
      "execution_count": 168,
      "outputs": [
        {
          "output_type": "stream",
          "name": "stdout",
          "text": [
            "-68.86742976907915\n"
          ]
        }
      ]
    }
  ]
}