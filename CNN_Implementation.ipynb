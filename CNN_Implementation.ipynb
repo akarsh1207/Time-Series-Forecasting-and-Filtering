{
  "nbformat": 4,
  "nbformat_minor": 0,
  "metadata": {
    "colab": {
      "name": "CNN Implementation.ipynb",
      "provenance": [],
      "authorship_tag": "ABX9TyOWQm9Y5m/nVc+sPxqp9IAq",
      "include_colab_link": true
    },
    "kernelspec": {
      "name": "python3",
      "display_name": "Python 3"
    },
    "language_info": {
      "name": "python"
    }
  },
  "cells": [
    {
      "cell_type": "markdown",
      "metadata": {
        "id": "view-in-github",
        "colab_type": "text"
      },
      "source": [
        "<a href=\"https://colab.research.google.com/github/akarsh1207/Time-Series-Forecasting-and-Filtering/blob/main/CNN_Implementation.ipynb\" target=\"_parent\"><img src=\"https://colab.research.google.com/assets/colab-badge.svg\" alt=\"Open In Colab\"/></a>"
      ]
    },
    {
      "cell_type": "markdown",
      "source": [
        "# Pre-Processing of the Time Series Data of Airline Passengers\n",
        "\n",
        "---\n",
        "\n"
      ],
      "metadata": {
        "id": "m5qYElDzC0vQ"
      }
    },
    {
      "cell_type": "markdown",
      "source": [
        "## Importing the Libraries"
      ],
      "metadata": {
        "id": "6h2d-MxqC4Dv"
      }
    },
    {
      "cell_type": "code",
      "source": [
        "import pandas as pd\n",
        "import numpy as np\n",
        "import matplotlib.pyplot as plt\n",
        "import tensorflow as tf"
      ],
      "metadata": {
        "id": "Q86EL298C6lK"
      },
      "execution_count": null,
      "outputs": []
    },
    {
      "cell_type": "markdown",
      "source": [
        "##Importing the Data"
      ],
      "metadata": {
        "id": "oY31ibrOC80K"
      }
    },
    {
      "cell_type": "code",
      "source": [
        "data = pd.read_csv('AirPassengers.csv')\n",
        "Initial_data= np.array(data.iloc[:,1])"
      ],
      "metadata": {
        "id": "KrbWUMD2C-5P"
      },
      "execution_count": null,
      "outputs": []
    },
    {
      "cell_type": "code",
      "source": [
        "print(Initial_data)\n",
        "print(len(Initial_data))"
      ],
      "metadata": {
        "colab": {
          "base_uri": "https://localhost:8080/"
        },
        "id": "06Lnm7hHDCY6",
        "outputId": "0ae90265-8123-45aa-fdde-63956c40323d"
      },
      "execution_count": null,
      "outputs": [
        {
          "output_type": "stream",
          "name": "stdout",
          "text": [
            "[112 118 132 129 121 135 148 148 136 119 104 118 115 126 141 135 125 149\n",
            " 170 170 158 133 114 140 145 150 178 163 172 178 199 199 184 162 146 166\n",
            " 171 180 193 181 183 218 230 242 209 191 172 194 196 196 236 235 229 243\n",
            " 264 272 237 211 180 201 204 188 235 227 234 264 302 293 259 229 203 229\n",
            " 242 233 267 269 270 315 364 347 312 274 237 278 284 277 317 313 318 374\n",
            " 413 405 355 306 271 306 315 301 356 348 355 422 465 467 404 347 305 336\n",
            " 340 318 362 348 363 435 491 505 404 359 310 337 360 342 406 396 420 472\n",
            " 548 559 463 407 362 405 417 391 419 461 472 535 622 606 508 461 390 432]\n",
            "144\n"
          ]
        }
      ]
    },
    {
      "cell_type": "markdown",
      "source": [
        "##Preparation of a univariate series having lag of 5 steps (5 months)"
      ],
      "metadata": {
        "id": "6ImQK-EyDFI9"
      }
    },
    {
      "cell_type": "code",
      "source": [
        "def univariate_series(sequence, n_steps):\n",
        "  X, y = list(), list()\n",
        "  for i in range(144):\n",
        "    end_input = i + n_steps\n",
        "    if end_input > 143:\n",
        "     break\n",
        "    seq_x, seq_y = sequence[i:end_input], sequence[end_input]\n",
        "    X.append(seq_x)\n",
        "    y.append(seq_y)\n",
        "  return np.array(X), np.array(y)"
      ],
      "metadata": {
        "id": "nloRuRkMDKHM"
      },
      "execution_count": null,
      "outputs": []
    },
    {
      "cell_type": "code",
      "source": [
        "X, y = univariate_series(Initial_data,5)\n",
        "\n",
        "for i in range(len(X)):\n",
        "  print(X[i],y[i])\n"
      ],
      "metadata": {
        "colab": {
          "base_uri": "https://localhost:8080/"
        },
        "id": "-v8RH55zDOVP",
        "outputId": "d7ab5262-a4e1-4370-83f3-e23fd789f083"
      },
      "execution_count": null,
      "outputs": [
        {
          "output_type": "stream",
          "name": "stdout",
          "text": [
            "[112 118 132 129 121] 135\n",
            "[118 132 129 121 135] 148\n",
            "[132 129 121 135 148] 148\n",
            "[129 121 135 148 148] 136\n",
            "[121 135 148 148 136] 119\n",
            "[135 148 148 136 119] 104\n",
            "[148 148 136 119 104] 118\n",
            "[148 136 119 104 118] 115\n",
            "[136 119 104 118 115] 126\n",
            "[119 104 118 115 126] 141\n",
            "[104 118 115 126 141] 135\n",
            "[118 115 126 141 135] 125\n",
            "[115 126 141 135 125] 149\n",
            "[126 141 135 125 149] 170\n",
            "[141 135 125 149 170] 170\n",
            "[135 125 149 170 170] 158\n",
            "[125 149 170 170 158] 133\n",
            "[149 170 170 158 133] 114\n",
            "[170 170 158 133 114] 140\n",
            "[170 158 133 114 140] 145\n",
            "[158 133 114 140 145] 150\n",
            "[133 114 140 145 150] 178\n",
            "[114 140 145 150 178] 163\n",
            "[140 145 150 178 163] 172\n",
            "[145 150 178 163 172] 178\n",
            "[150 178 163 172 178] 199\n",
            "[178 163 172 178 199] 199\n",
            "[163 172 178 199 199] 184\n",
            "[172 178 199 199 184] 162\n",
            "[178 199 199 184 162] 146\n",
            "[199 199 184 162 146] 166\n",
            "[199 184 162 146 166] 171\n",
            "[184 162 146 166 171] 180\n",
            "[162 146 166 171 180] 193\n",
            "[146 166 171 180 193] 181\n",
            "[166 171 180 193 181] 183\n",
            "[171 180 193 181 183] 218\n",
            "[180 193 181 183 218] 230\n",
            "[193 181 183 218 230] 242\n",
            "[181 183 218 230 242] 209\n",
            "[183 218 230 242 209] 191\n",
            "[218 230 242 209 191] 172\n",
            "[230 242 209 191 172] 194\n",
            "[242 209 191 172 194] 196\n",
            "[209 191 172 194 196] 196\n",
            "[191 172 194 196 196] 236\n",
            "[172 194 196 196 236] 235\n",
            "[194 196 196 236 235] 229\n",
            "[196 196 236 235 229] 243\n",
            "[196 236 235 229 243] 264\n",
            "[236 235 229 243 264] 272\n",
            "[235 229 243 264 272] 237\n",
            "[229 243 264 272 237] 211\n",
            "[243 264 272 237 211] 180\n",
            "[264 272 237 211 180] 201\n",
            "[272 237 211 180 201] 204\n",
            "[237 211 180 201 204] 188\n",
            "[211 180 201 204 188] 235\n",
            "[180 201 204 188 235] 227\n",
            "[201 204 188 235 227] 234\n",
            "[204 188 235 227 234] 264\n",
            "[188 235 227 234 264] 302\n",
            "[235 227 234 264 302] 293\n",
            "[227 234 264 302 293] 259\n",
            "[234 264 302 293 259] 229\n",
            "[264 302 293 259 229] 203\n",
            "[302 293 259 229 203] 229\n",
            "[293 259 229 203 229] 242\n",
            "[259 229 203 229 242] 233\n",
            "[229 203 229 242 233] 267\n",
            "[203 229 242 233 267] 269\n",
            "[229 242 233 267 269] 270\n",
            "[242 233 267 269 270] 315\n",
            "[233 267 269 270 315] 364\n",
            "[267 269 270 315 364] 347\n",
            "[269 270 315 364 347] 312\n",
            "[270 315 364 347 312] 274\n",
            "[315 364 347 312 274] 237\n",
            "[364 347 312 274 237] 278\n",
            "[347 312 274 237 278] 284\n",
            "[312 274 237 278 284] 277\n",
            "[274 237 278 284 277] 317\n",
            "[237 278 284 277 317] 313\n",
            "[278 284 277 317 313] 318\n",
            "[284 277 317 313 318] 374\n",
            "[277 317 313 318 374] 413\n",
            "[317 313 318 374 413] 405\n",
            "[313 318 374 413 405] 355\n",
            "[318 374 413 405 355] 306\n",
            "[374 413 405 355 306] 271\n",
            "[413 405 355 306 271] 306\n",
            "[405 355 306 271 306] 315\n",
            "[355 306 271 306 315] 301\n",
            "[306 271 306 315 301] 356\n",
            "[271 306 315 301 356] 348\n",
            "[306 315 301 356 348] 355\n",
            "[315 301 356 348 355] 422\n",
            "[301 356 348 355 422] 465\n",
            "[356 348 355 422 465] 467\n",
            "[348 355 422 465 467] 404\n",
            "[355 422 465 467 404] 347\n",
            "[422 465 467 404 347] 305\n",
            "[465 467 404 347 305] 336\n",
            "[467 404 347 305 336] 340\n",
            "[404 347 305 336 340] 318\n",
            "[347 305 336 340 318] 362\n",
            "[305 336 340 318 362] 348\n",
            "[336 340 318 362 348] 363\n",
            "[340 318 362 348 363] 435\n",
            "[318 362 348 363 435] 491\n",
            "[362 348 363 435 491] 505\n",
            "[348 363 435 491 505] 404\n",
            "[363 435 491 505 404] 359\n",
            "[435 491 505 404 359] 310\n",
            "[491 505 404 359 310] 337\n",
            "[505 404 359 310 337] 360\n",
            "[404 359 310 337 360] 342\n",
            "[359 310 337 360 342] 406\n",
            "[310 337 360 342 406] 396\n",
            "[337 360 342 406 396] 420\n",
            "[360 342 406 396 420] 472\n",
            "[342 406 396 420 472] 548\n",
            "[406 396 420 472 548] 559\n",
            "[396 420 472 548 559] 463\n",
            "[420 472 548 559 463] 407\n",
            "[472 548 559 463 407] 362\n",
            "[548 559 463 407 362] 405\n",
            "[559 463 407 362 405] 417\n",
            "[463 407 362 405 417] 391\n",
            "[407 362 405 417 391] 419\n",
            "[362 405 417 391 419] 461\n",
            "[405 417 391 419 461] 472\n",
            "[417 391 419 461 472] 535\n",
            "[391 419 461 472 535] 622\n",
            "[419 461 472 535 622] 606\n",
            "[461 472 535 622 606] 508\n",
            "[472 535 622 606 508] 461\n",
            "[535 622 606 508 461] 390\n",
            "[622 606 508 461 390] 432\n"
          ]
        }
      ]
    },
    {
      "cell_type": "markdown",
      "source": [
        "##Training and Test Split (70-30)"
      ],
      "metadata": {
        "id": "gMuB7pmjFID6"
      }
    },
    {
      "cell_type": "code",
      "source": [
        "from sklearn.model_selection import train_test_split\n",
        "X_train, X_test, y_train, y_test = train_test_split(X, y, test_size = 0.3, random_state = 0)"
      ],
      "metadata": {
        "id": "oFpDs8dxFIu2"
      },
      "execution_count": null,
      "outputs": []
    },
    {
      "cell_type": "markdown",
      "source": [
        "##Reshaping Input data"
      ],
      "metadata": {
        "id": "y_fNALHjGyDN"
      }
    },
    {
      "cell_type": "code",
      "source": [
        "X_train = X.reshape(X.shape[0],X.shape[1],1)\n"
      ],
      "metadata": {
        "id": "J-qrWUjCG4kI"
      },
      "execution_count": null,
      "outputs": []
    },
    {
      "cell_type": "markdown",
      "source": [
        "# CNN Model\n",
        "\n",
        "---\n",
        "\n"
      ],
      "metadata": {
        "id": "QHMjETtrFM0T"
      }
    },
    {
      "cell_type": "markdown",
      "source": [
        "### Initialisation of the CNN"
      ],
      "metadata": {
        "id": "zZxqGPLvFSLj"
      }
    },
    {
      "cell_type": "code",
      "source": [
        "cnn = tf.keras.models.Sequential()"
      ],
      "metadata": {
        "id": "W1hHm8R0FcGb"
      },
      "execution_count": null,
      "outputs": []
    },
    {
      "cell_type": "markdown",
      "source": [
        "##1D-Convolution"
      ],
      "metadata": {
        "id": "7mQ2pqcSFlbk"
      }
    },
    {
      "cell_type": "code",
      "source": [
        "cnn.add(tf.keras.layers.Conv1D(filters=64, kernel_size=2, activation='relu', input_shape=(5,1)))"
      ],
      "metadata": {
        "id": "kprMevZCFt-L"
      },
      "execution_count": null,
      "outputs": []
    },
    {
      "cell_type": "markdown",
      "source": [
        "##Pooling Layer"
      ],
      "metadata": {
        "id": "hLnHM34hHTct"
      }
    },
    {
      "cell_type": "code",
      "source": [
        "cnn.add(tf.keras.layers.MaxPool1D(pool_size=2))"
      ],
      "metadata": {
        "id": "spLQ3xrtHa9I"
      },
      "execution_count": null,
      "outputs": []
    },
    {
      "cell_type": "markdown",
      "source": [
        "##Flattening"
      ],
      "metadata": {
        "id": "RWbE-3vGH5RQ"
      }
    },
    {
      "cell_type": "code",
      "source": [
        "cnn.add(tf.keras.layers.Flatten())"
      ],
      "metadata": {
        "id": "nOu6zDfJH7lK"
      },
      "execution_count": null,
      "outputs": []
    },
    {
      "cell_type": "markdown",
      "source": [
        "##Full Connection"
      ],
      "metadata": {
        "id": "7muCjYMDH81p"
      }
    },
    {
      "cell_type": "code",
      "source": [
        "cnn.add(tf.keras.layers.Dense(units=128, activation='relu'))"
      ],
      "metadata": {
        "id": "yAhtilA6IQKH"
      },
      "execution_count": null,
      "outputs": []
    },
    {
      "cell_type": "markdown",
      "source": [
        "##Output Layer"
      ],
      "metadata": {
        "id": "NHTbYVHXIvCb"
      }
    },
    {
      "cell_type": "code",
      "source": [
        "cnn.add(tf.keras.layers.Dense(1))"
      ],
      "metadata": {
        "id": "JghM07uQIxNO"
      },
      "execution_count": null,
      "outputs": []
    },
    {
      "cell_type": "markdown",
      "source": [
        "#Training the CNN\n",
        "___"
      ],
      "metadata": {
        "id": "boazxp0cI4Pv"
      }
    },
    {
      "cell_type": "markdown",
      "source": [
        "##Compiling the CNN"
      ],
      "metadata": {
        "id": "bb_f6CooI8M3"
      }
    },
    {
      "cell_type": "code",
      "source": [
        "cnn.compile(optimizer = 'adam', loss = 'mse')"
      ],
      "metadata": {
        "id": "1QkEOYumI_gl"
      },
      "execution_count": null,
      "outputs": []
    },
    {
      "cell_type": "markdown",
      "source": [
        "##Training the CNN"
      ],
      "metadata": {
        "id": "SuWuxkG-JQo9"
      }
    },
    {
      "cell_type": "code",
      "source": [
        "cnn.fit(X,y,epochs = 100)"
      ],
      "metadata": {
        "colab": {
          "base_uri": "https://localhost:8080/"
        },
        "id": "Vf-nx3asJdsn",
        "outputId": "9355a9b7-0d72-4c8b-d409-a7d25844b336"
      },
      "execution_count": null,
      "outputs": [
        {
          "output_type": "stream",
          "name": "stdout",
          "text": [
            "Epoch 1/100\n",
            "5/5 [==============================] - 1s 3ms/step - loss: 59140.2852\n",
            "Epoch 2/100\n",
            "5/5 [==============================] - 0s 4ms/step - loss: 26224.0352\n",
            "Epoch 3/100\n",
            "5/5 [==============================] - 0s 3ms/step - loss: 8904.8223\n",
            "Epoch 4/100\n",
            "5/5 [==============================] - 0s 3ms/step - loss: 3521.4368\n",
            "Epoch 5/100\n",
            "5/5 [==============================] - 0s 3ms/step - loss: 5440.9038\n",
            "Epoch 6/100\n",
            "5/5 [==============================] - 0s 3ms/step - loss: 5683.7202\n",
            "Epoch 7/100\n",
            "5/5 [==============================] - 0s 4ms/step - loss: 3897.1956\n",
            "Epoch 8/100\n",
            "5/5 [==============================] - 0s 3ms/step - loss: 3423.4695\n",
            "Epoch 9/100\n",
            "5/5 [==============================] - 0s 4ms/step - loss: 3603.1306\n",
            "Epoch 10/100\n",
            "5/5 [==============================] - 0s 3ms/step - loss: 3605.9968\n",
            "Epoch 11/100\n",
            "5/5 [==============================] - 0s 3ms/step - loss: 3385.3472\n",
            "Epoch 12/100\n",
            "5/5 [==============================] - 0s 5ms/step - loss: 3257.8818\n",
            "Epoch 13/100\n",
            "5/5 [==============================] - 0s 5ms/step - loss: 3340.1895\n",
            "Epoch 14/100\n",
            "5/5 [==============================] - 0s 6ms/step - loss: 3221.8479\n",
            "Epoch 15/100\n",
            "5/5 [==============================] - 0s 4ms/step - loss: 3161.8142\n",
            "Epoch 16/100\n",
            "5/5 [==============================] - 0s 5ms/step - loss: 3174.6890\n",
            "Epoch 17/100\n",
            "5/5 [==============================] - 0s 4ms/step - loss: 3120.3655\n",
            "Epoch 18/100\n",
            "5/5 [==============================] - 0s 4ms/step - loss: 3076.2073\n",
            "Epoch 19/100\n",
            "5/5 [==============================] - 0s 4ms/step - loss: 3055.2673\n",
            "Epoch 20/100\n",
            "5/5 [==============================] - 0s 3ms/step - loss: 2990.2847\n",
            "Epoch 21/100\n",
            "5/5 [==============================] - 0s 3ms/step - loss: 2942.5869\n",
            "Epoch 22/100\n",
            "5/5 [==============================] - 0s 3ms/step - loss: 2910.0933\n",
            "Epoch 23/100\n",
            "5/5 [==============================] - 0s 3ms/step - loss: 2870.2891\n",
            "Epoch 24/100\n",
            "5/5 [==============================] - 0s 3ms/step - loss: 2832.5117\n",
            "Epoch 25/100\n",
            "5/5 [==============================] - 0s 4ms/step - loss: 2827.1604\n",
            "Epoch 26/100\n",
            "5/5 [==============================] - 0s 3ms/step - loss: 2782.5610\n",
            "Epoch 27/100\n",
            "5/5 [==============================] - 0s 3ms/step - loss: 2737.5266\n",
            "Epoch 28/100\n",
            "5/5 [==============================] - 0s 5ms/step - loss: 2696.2163\n",
            "Epoch 29/100\n",
            "5/5 [==============================] - 0s 3ms/step - loss: 2657.5896\n",
            "Epoch 30/100\n",
            "5/5 [==============================] - 0s 3ms/step - loss: 2613.3469\n",
            "Epoch 31/100\n",
            "5/5 [==============================] - 0s 4ms/step - loss: 2578.7249\n",
            "Epoch 32/100\n",
            "5/5 [==============================] - 0s 4ms/step - loss: 2546.0027\n",
            "Epoch 33/100\n",
            "5/5 [==============================] - 0s 5ms/step - loss: 2590.0715\n",
            "Epoch 34/100\n",
            "5/5 [==============================] - 0s 4ms/step - loss: 2533.6194\n",
            "Epoch 35/100\n",
            "5/5 [==============================] - 0s 4ms/step - loss: 2472.5537\n",
            "Epoch 36/100\n",
            "5/5 [==============================] - 0s 4ms/step - loss: 2414.6196\n",
            "Epoch 37/100\n",
            "5/5 [==============================] - 0s 3ms/step - loss: 2389.8167\n",
            "Epoch 38/100\n",
            "5/5 [==============================] - 0s 5ms/step - loss: 2353.9565\n",
            "Epoch 39/100\n",
            "5/5 [==============================] - 0s 5ms/step - loss: 2317.6523\n",
            "Epoch 40/100\n",
            "5/5 [==============================] - 0s 3ms/step - loss: 2286.0298\n",
            "Epoch 41/100\n",
            "5/5 [==============================] - 0s 5ms/step - loss: 2309.9280\n",
            "Epoch 42/100\n",
            "5/5 [==============================] - 0s 4ms/step - loss: 2268.9387\n",
            "Epoch 43/100\n",
            "5/5 [==============================] - 0s 4ms/step - loss: 2222.3931\n",
            "Epoch 44/100\n",
            "5/5 [==============================] - 0s 4ms/step - loss: 2160.2109\n",
            "Epoch 45/100\n",
            "5/5 [==============================] - 0s 5ms/step - loss: 2124.6787\n",
            "Epoch 46/100\n",
            "5/5 [==============================] - 0s 3ms/step - loss: 2123.9043\n",
            "Epoch 47/100\n",
            "5/5 [==============================] - 0s 4ms/step - loss: 2080.1611\n",
            "Epoch 48/100\n",
            "5/5 [==============================] - 0s 4ms/step - loss: 2075.2136\n",
            "Epoch 49/100\n",
            "5/5 [==============================] - 0s 4ms/step - loss: 2047.2700\n",
            "Epoch 50/100\n",
            "5/5 [==============================] - 0s 4ms/step - loss: 1993.6520\n",
            "Epoch 51/100\n",
            "5/5 [==============================] - 0s 3ms/step - loss: 2061.8479\n",
            "Epoch 52/100\n",
            "5/5 [==============================] - 0s 4ms/step - loss: 2002.0601\n",
            "Epoch 53/100\n",
            "5/5 [==============================] - 0s 4ms/step - loss: 1921.9595\n",
            "Epoch 54/100\n",
            "5/5 [==============================] - 0s 3ms/step - loss: 1924.5817\n",
            "Epoch 55/100\n",
            "5/5 [==============================] - 0s 3ms/step - loss: 1871.1456\n",
            "Epoch 56/100\n",
            "5/5 [==============================] - 0s 4ms/step - loss: 1843.6918\n",
            "Epoch 57/100\n",
            "5/5 [==============================] - 0s 4ms/step - loss: 1818.2137\n",
            "Epoch 58/100\n",
            "5/5 [==============================] - 0s 11ms/step - loss: 1823.5807\n",
            "Epoch 59/100\n",
            "5/5 [==============================] - 0s 6ms/step - loss: 1790.8568\n",
            "Epoch 60/100\n",
            "5/5 [==============================] - 0s 6ms/step - loss: 1777.6598\n",
            "Epoch 61/100\n",
            "5/5 [==============================] - 0s 6ms/step - loss: 1754.8704\n",
            "Epoch 62/100\n",
            "5/5 [==============================] - 0s 6ms/step - loss: 1740.3529\n",
            "Epoch 63/100\n",
            "5/5 [==============================] - 0s 6ms/step - loss: 1710.4855\n",
            "Epoch 64/100\n",
            "5/5 [==============================] - 0s 8ms/step - loss: 1688.0367\n",
            "Epoch 65/100\n",
            "5/5 [==============================] - 0s 4ms/step - loss: 1689.8525\n",
            "Epoch 66/100\n",
            "5/5 [==============================] - 0s 9ms/step - loss: 1709.8024\n",
            "Epoch 67/100\n",
            "5/5 [==============================] - 0s 5ms/step - loss: 1663.0703\n",
            "Epoch 68/100\n",
            "5/5 [==============================] - 0s 5ms/step - loss: 1625.4496\n",
            "Epoch 69/100\n",
            "5/5 [==============================] - 0s 6ms/step - loss: 1609.0909\n",
            "Epoch 70/100\n",
            "5/5 [==============================] - 0s 4ms/step - loss: 1598.8733\n",
            "Epoch 71/100\n",
            "5/5 [==============================] - 0s 4ms/step - loss: 1582.4396\n",
            "Epoch 72/100\n",
            "5/5 [==============================] - 0s 5ms/step - loss: 1576.5956\n",
            "Epoch 73/100\n",
            "5/5 [==============================] - 0s 4ms/step - loss: 1568.4061\n",
            "Epoch 74/100\n",
            "5/5 [==============================] - 0s 5ms/step - loss: 1569.1450\n",
            "Epoch 75/100\n",
            "5/5 [==============================] - 0s 5ms/step - loss: 1537.5609\n",
            "Epoch 76/100\n",
            "5/5 [==============================] - 0s 4ms/step - loss: 1510.6335\n",
            "Epoch 77/100\n",
            "5/5 [==============================] - 0s 7ms/step - loss: 1623.1685\n",
            "Epoch 78/100\n",
            "5/5 [==============================] - 0s 6ms/step - loss: 1535.4269\n",
            "Epoch 79/100\n",
            "5/5 [==============================] - 0s 5ms/step - loss: 1564.9641\n",
            "Epoch 80/100\n",
            "5/5 [==============================] - 0s 7ms/step - loss: 1478.3119\n",
            "Epoch 81/100\n",
            "5/5 [==============================] - 0s 7ms/step - loss: 1569.5201\n",
            "Epoch 82/100\n",
            "5/5 [==============================] - 0s 5ms/step - loss: 1480.1554\n",
            "Epoch 83/100\n",
            "5/5 [==============================] - 0s 5ms/step - loss: 1523.5453\n",
            "Epoch 84/100\n",
            "5/5 [==============================] - 0s 5ms/step - loss: 1468.9862\n",
            "Epoch 85/100\n",
            "5/5 [==============================] - 0s 5ms/step - loss: 1499.1229\n",
            "Epoch 86/100\n",
            "5/5 [==============================] - 0s 4ms/step - loss: 1440.4615\n",
            "Epoch 87/100\n",
            "5/5 [==============================] - 0s 5ms/step - loss: 1467.3904\n",
            "Epoch 88/100\n",
            "5/5 [==============================] - 0s 5ms/step - loss: 1509.8864\n",
            "Epoch 89/100\n",
            "5/5 [==============================] - 0s 6ms/step - loss: 1409.6427\n",
            "Epoch 90/100\n",
            "5/5 [==============================] - 0s 7ms/step - loss: 1439.1399\n",
            "Epoch 91/100\n",
            "5/5 [==============================] - 0s 5ms/step - loss: 1458.5688\n",
            "Epoch 92/100\n",
            "5/5 [==============================] - 0s 5ms/step - loss: 1380.1133\n",
            "Epoch 93/100\n",
            "5/5 [==============================] - 0s 8ms/step - loss: 1407.8494\n",
            "Epoch 94/100\n",
            "5/5 [==============================] - 0s 5ms/step - loss: 1385.6021\n",
            "Epoch 95/100\n",
            "5/5 [==============================] - 0s 6ms/step - loss: 1358.2300\n",
            "Epoch 96/100\n",
            "5/5 [==============================] - 0s 5ms/step - loss: 1345.4702\n",
            "Epoch 97/100\n",
            "5/5 [==============================] - 0s 5ms/step - loss: 1369.7909\n",
            "Epoch 98/100\n",
            "5/5 [==============================] - 0s 5ms/step - loss: 1353.6561\n",
            "Epoch 99/100\n",
            "5/5 [==============================] - 0s 5ms/step - loss: 1360.2083\n",
            "Epoch 100/100\n",
            "5/5 [==============================] - 0s 5ms/step - loss: 1385.5658\n"
          ]
        },
        {
          "output_type": "execute_result",
          "data": {
            "text/plain": [
              "<keras.callbacks.History at 0x7efdedb89dd0>"
            ]
          },
          "metadata": {},
          "execution_count": 15
        }
      ]
    },
    {
      "cell_type": "markdown",
      "source": [
        "#Evaluation of the CNN Model\n",
        "___"
      ],
      "metadata": {
        "id": "2eJj75eOMnMe"
      }
    },
    {
      "cell_type": "code",
      "source": [
        "predicted_passengers = cnn.predict(X_test)\n",
        "actual_passengers = (y_test)\n",
        "plt.plot(actual_passengers, color = 'red', label = 'Actual No. of Passengers')\n",
        "plt.plot(predicted_passengers, color = 'blue', label = 'Predicted No. of Passengers')\n",
        "plt.title('Prediction of No. of Passengers(CNN)')\n",
        "plt.xlabel('Time')\n",
        "plt.ylabel('No. of Passengers')\n",
        "plt.legend()\n",
        "plt.show()"
      ],
      "metadata": {
        "colab": {
          "base_uri": "https://localhost:8080/",
          "height": 281
        },
        "id": "NQGc0-QZMoti",
        "outputId": "00b86c50-439b-41a6-8e9c-fb48a3988b8d"
      },
      "execution_count": null,
      "outputs": [
        {
          "output_type": "display_data",
          "data": {
            "text/plain": [
              "<Figure size 432x288 with 1 Axes>"
            ],
            "image/png": "[encoded data removed]"
          },
          "metadata": {
            "needs_background": "light"
          }
        }
      ]
    }
  ]
}