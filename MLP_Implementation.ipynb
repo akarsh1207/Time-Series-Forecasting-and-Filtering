{
  "nbformat": 4,
  "nbformat_minor": 0,
  "metadata": {
    "colab": {
      "name": "MLP Implementation.ipynb",
      "provenance": [],
      "authorship_tag": "ABX9TyNEcUSdBBqnnx6jHSuFuCJm",
      "include_colab_link": true
    },
    "kernelspec": {
      "name": "python3",
      "display_name": "Python 3"
    },
    "language_info": {
      "name": "python"
    }
  },
  "cells": [
    {
      "cell_type": "markdown",
      "metadata": {
        "id": "view-in-github",
        "colab_type": "text"
      },
      "source": [
        "<a href=\"https://colab.research.google.com/github/akarsh1207/Time-Series-Forecasting-and-Filtering/blob/main/MLP_Implementation.ipynb\" target=\"_parent\"><img src=\"https://colab.research.google.com/assets/colab-badge.svg\" alt=\"Open In Colab\"/></a>"
      ]
    },
    {
      "cell_type": "markdown",
      "source": [
        "# Pre-Processing of the Time Series Data of Airline Passengers\n",
        "\n",
        "---\n",
        "\n"
      ],
      "metadata": {
        "id": "B7TCJ7BCAiL1"
      }
    },
    {
      "cell_type": "markdown",
      "source": [
        "## Importing the Libraries"
      ],
      "metadata": {
        "id": "zaQc5YIbCW7C"
      }
    },
    {
      "cell_type": "code",
      "source": [
        "import pandas as pd\n",
        "import numpy as np\n",
        "import matplotlib.pyplot as plt\n",
        "import tensorflow as tf"
      ],
      "metadata": {
        "id": "frYnJjE7A0u9"
      },
      "execution_count": 1,
      "outputs": []
    },
    {
      "cell_type": "markdown",
      "source": [
        "##Importing the Data"
      ],
      "metadata": {
        "id": "jD2yoKTzJDrX"
      }
    },
    {
      "cell_type": "code",
      "source": [
        "data = pd.read_csv('AirPassengers.csv')\n",
        "Initial_data= np.array(data.iloc[:,1])"
      ],
      "metadata": {
        "id": "-po9toD8JHSG"
      },
      "execution_count": 2,
      "outputs": []
    },
    {
      "cell_type": "code",
      "source": [
        "print(Initial_data)\n",
        "print(len(Initial_data))"
      ],
      "metadata": {
        "colab": {
          "base_uri": "https://localhost:8080/"
        },
        "id": "oLo8-GTgKSBr",
        "outputId": "3d306c54-76ec-4c2e-b34d-cf3d0d58efe0"
      },
      "execution_count": 3,
      "outputs": [
        {
          "output_type": "stream",
          "name": "stdout",
          "text": [
            "[112 118 132 129 121 135 148 148 136 119 104 118 115 126 141 135 125 149\n",
            " 170 170 158 133 114 140 145 150 178 163 172 178 199 199 184 162 146 166\n",
            " 171 180 193 181 183 218 230 242 209 191 172 194 196 196 236 235 229 243\n",
            " 264 272 237 211 180 201 204 188 235 227 234 264 302 293 259 229 203 229\n",
            " 242 233 267 269 270 315 364 347 312 274 237 278 284 277 317 313 318 374\n",
            " 413 405 355 306 271 306 315 301 356 348 355 422 465 467 404 347 305 336\n",
            " 340 318 362 348 363 435 491 505 404 359 310 337 360 342 406 396 420 472\n",
            " 548 559 463 407 362 405 417 391 419 461 472 535 622 606 508 461 390 432]\n",
            "144\n"
          ]
        }
      ]
    },
    {
      "cell_type": "markdown",
      "source": [
        "##Preparation of a univariate series having lag of 5 steps (5 months)"
      ],
      "metadata": {
        "id": "q4f5gpfDszmI"
      }
    },
    {
      "cell_type": "code",
      "source": [
        "def univariate_series(sequence, n_steps):\n",
        "  X, y = list(), list()\n",
        "  for i in range(144):\n",
        "    end_input = i + n_steps\n",
        "    if end_input > 143:\n",
        "     break\n",
        "    seq_x, seq_y = sequence[i:end_input], sequence[end_input]\n",
        "    X.append(seq_x)\n",
        "    y.append(seq_y)\n",
        "  return np.array(X), np.array(y)"
      ],
      "metadata": {
        "id": "734d2pNptLZC"
      },
      "execution_count": 4,
      "outputs": []
    },
    {
      "cell_type": "code",
      "source": [
        "X, y = univariate_series(Initial_data,5)\n",
        "\n",
        "for i in range(len(X)):\n",
        "  print(X[i],y[i])\n"
      ],
      "metadata": {
        "colab": {
          "base_uri": "https://localhost:8080/"
        },
        "id": "Zo52zx0aCW50",
        "outputId": "1ba324a3-076a-4bce-85d4-688058d78099"
      },
      "execution_count": 5,
      "outputs": [
        {
          "output_type": "stream",
          "name": "stdout",
          "text": [
            "[112 118 132 129 121] 135\n",
            "[118 132 129 121 135] 148\n",
            "[132 129 121 135 148] 148\n",
            "[129 121 135 148 148] 136\n",
            "[121 135 148 148 136] 119\n",
            "[135 148 148 136 119] 104\n",
            "[148 148 136 119 104] 118\n",
            "[148 136 119 104 118] 115\n",
            "[136 119 104 118 115] 126\n",
            "[119 104 118 115 126] 141\n",
            "[104 118 115 126 141] 135\n",
            "[118 115 126 141 135] 125\n",
            "[115 126 141 135 125] 149\n",
            "[126 141 135 125 149] 170\n",
            "[141 135 125 149 170] 170\n",
            "[135 125 149 170 170] 158\n",
            "[125 149 170 170 158] 133\n",
            "[149 170 170 158 133] 114\n",
            "[170 170 158 133 114] 140\n",
            "[170 158 133 114 140] 145\n",
            "[158 133 114 140 145] 150\n",
            "[133 114 140 145 150] 178\n",
            "[114 140 145 150 178] 163\n",
            "[140 145 150 178 163] 172\n",
            "[145 150 178 163 172] 178\n",
            "[150 178 163 172 178] 199\n",
            "[178 163 172 178 199] 199\n",
            "[163 172 178 199 199] 184\n",
            "[172 178 199 199 184] 162\n",
            "[178 199 199 184 162] 146\n",
            "[199 199 184 162 146] 166\n",
            "[199 184 162 146 166] 171\n",
            "[184 162 146 166 171] 180\n",
            "[162 146 166 171 180] 193\n",
            "[146 166 171 180 193] 181\n",
            "[166 171 180 193 181] 183\n",
            "[171 180 193 181 183] 218\n",
            "[180 193 181 183 218] 230\n",
            "[193 181 183 218 230] 242\n",
            "[181 183 218 230 242] 209\n",
            "[183 218 230 242 209] 191\n",
            "[218 230 242 209 191] 172\n",
            "[230 242 209 191 172] 194\n",
            "[242 209 191 172 194] 196\n",
            "[209 191 172 194 196] 196\n",
            "[191 172 194 196 196] 236\n",
            "[172 194 196 196 236] 235\n",
            "[194 196 196 236 235] 229\n",
            "[196 196 236 235 229] 243\n",
            "[196 236 235 229 243] 264\n",
            "[236 235 229 243 264] 272\n",
            "[235 229 243 264 272] 237\n",
            "[229 243 264 272 237] 211\n",
            "[243 264 272 237 211] 180\n",
            "[264 272 237 211 180] 201\n",
            "[272 237 211 180 201] 204\n",
            "[237 211 180 201 204] 188\n",
            "[211 180 201 204 188] 235\n",
            "[180 201 204 188 235] 227\n",
            "[201 204 188 235 227] 234\n",
            "[204 188 235 227 234] 264\n",
            "[188 235 227 234 264] 302\n",
            "[235 227 234 264 302] 293\n",
            "[227 234 264 302 293] 259\n",
            "[234 264 302 293 259] 229\n",
            "[264 302 293 259 229] 203\n",
            "[302 293 259 229 203] 229\n",
            "[293 259 229 203 229] 242\n",
            "[259 229 203 229 242] 233\n",
            "[229 203 229 242 233] 267\n",
            "[203 229 242 233 267] 269\n",
            "[229 242 233 267 269] 270\n",
            "[242 233 267 269 270] 315\n",
            "[233 267 269 270 315] 364\n",
            "[267 269 270 315 364] 347\n",
            "[269 270 315 364 347] 312\n",
            "[270 315 364 347 312] 274\n",
            "[315 364 347 312 274] 237\n",
            "[364 347 312 274 237] 278\n",
            "[347 312 274 237 278] 284\n",
            "[312 274 237 278 284] 277\n",
            "[274 237 278 284 277] 317\n",
            "[237 278 284 277 317] 313\n",
            "[278 284 277 317 313] 318\n",
            "[284 277 317 313 318] 374\n",
            "[277 317 313 318 374] 413\n",
            "[317 313 318 374 413] 405\n",
            "[313 318 374 413 405] 355\n",
            "[318 374 413 405 355] 306\n",
            "[374 413 405 355 306] 271\n",
            "[413 405 355 306 271] 306\n",
            "[405 355 306 271 306] 315\n",
            "[355 306 271 306 315] 301\n",
            "[306 271 306 315 301] 356\n",
            "[271 306 315 301 356] 348\n",
            "[306 315 301 356 348] 355\n",
            "[315 301 356 348 355] 422\n",
            "[301 356 348 355 422] 465\n",
            "[356 348 355 422 465] 467\n",
            "[348 355 422 465 467] 404\n",
            "[355 422 465 467 404] 347\n",
            "[422 465 467 404 347] 305\n",
            "[465 467 404 347 305] 336\n",
            "[467 404 347 305 336] 340\n",
            "[404 347 305 336 340] 318\n",
            "[347 305 336 340 318] 362\n",
            "[305 336 340 318 362] 348\n",
            "[336 340 318 362 348] 363\n",
            "[340 318 362 348 363] 435\n",
            "[318 362 348 363 435] 491\n",
            "[362 348 363 435 491] 505\n",
            "[348 363 435 491 505] 404\n",
            "[363 435 491 505 404] 359\n",
            "[435 491 505 404 359] 310\n",
            "[491 505 404 359 310] 337\n",
            "[505 404 359 310 337] 360\n",
            "[404 359 310 337 360] 342\n",
            "[359 310 337 360 342] 406\n",
            "[310 337 360 342 406] 396\n",
            "[337 360 342 406 396] 420\n",
            "[360 342 406 396 420] 472\n",
            "[342 406 396 420 472] 548\n",
            "[406 396 420 472 548] 559\n",
            "[396 420 472 548 559] 463\n",
            "[420 472 548 559 463] 407\n",
            "[472 548 559 463 407] 362\n",
            "[548 559 463 407 362] 405\n",
            "[559 463 407 362 405] 417\n",
            "[463 407 362 405 417] 391\n",
            "[407 362 405 417 391] 419\n",
            "[362 405 417 391 419] 461\n",
            "[405 417 391 419 461] 472\n",
            "[417 391 419 461 472] 535\n",
            "[391 419 461 472 535] 622\n",
            "[419 461 472 535 622] 606\n",
            "[461 472 535 622 606] 508\n",
            "[472 535 622 606 508] 461\n",
            "[535 622 606 508 461] 390\n",
            "[622 606 508 461 390] 432\n"
          ]
        }
      ]
    },
    {
      "cell_type": "markdown",
      "source": [
        "##Training and Test Split (70-30)"
      ],
      "metadata": {
        "id": "TqDLepTyH8lM"
      }
    },
    {
      "cell_type": "code",
      "source": [
        "from sklearn.model_selection import train_test_split\n",
        "X_train, X_test, y_train, y_test = train_test_split(X, y, test_size = 0.3, random_state = 0)"
      ],
      "metadata": {
        "id": "N8DKTzweIGfx"
      },
      "execution_count": 6,
      "outputs": []
    },
    {
      "cell_type": "markdown",
      "source": [
        "# MLP Model\n",
        "\n",
        "---\n",
        "\n"
      ],
      "metadata": {
        "id": "zaztgceMI7Mz"
      }
    },
    {
      "cell_type": "markdown",
      "source": [
        "##Initialisation of the MLP"
      ],
      "metadata": {
        "id": "lvazxLNqQvzo"
      }
    },
    {
      "cell_type": "code",
      "source": [
        "mlp = tf.keras.models.Sequential()"
      ],
      "metadata": {
        "id": "GX2yuRr4Q0k0"
      },
      "execution_count": 7,
      "outputs": []
    },
    {
      "cell_type": "markdown",
      "source": [
        "## First Layer of the MLP"
      ],
      "metadata": {
        "id": "y64DM8C1RpoI"
      }
    },
    {
      "cell_type": "code",
      "source": [
        "mlp.add(tf.keras.layers.Dense(units=5, activation='relu'))"
      ],
      "metadata": {
        "id": "SMH9mI1SRsM_"
      },
      "execution_count": 8,
      "outputs": []
    },
    {
      "cell_type": "markdown",
      "source": [
        "## Second Layer of the MLP"
      ],
      "metadata": {
        "id": "l5QyXE_DRzAp"
      }
    },
    {
      "cell_type": "code",
      "source": [
        "mlp.add(tf.keras.layers.Dense(units=5, activation='relu'))"
      ],
      "metadata": {
        "id": "8XHXefK1R6ym"
      },
      "execution_count": 9,
      "outputs": []
    },
    {
      "cell_type": "markdown",
      "source": [
        "##Output Layer of the MLP"
      ],
      "metadata": {
        "id": "tyGJyIfrR-8u"
      }
    },
    {
      "cell_type": "code",
      "source": [
        "mlp.add(tf.keras.layers.Dense(units=1))"
      ],
      "metadata": {
        "id": "cFpmEOnsSCoZ"
      },
      "execution_count": 10,
      "outputs": []
    },
    {
      "cell_type": "markdown",
      "source": [
        "#Training the MLP\n",
        "---"
      ],
      "metadata": {
        "id": "W60_k-zqSI34"
      }
    },
    {
      "cell_type": "markdown",
      "source": [
        "##Compiling the MLP"
      ],
      "metadata": {
        "id": "3v5hL0lcSQs7"
      }
    },
    {
      "cell_type": "code",
      "source": [
        "mlp.compile(optimizer = 'adam', loss = 'mse')"
      ],
      "metadata": {
        "id": "CXQftiXfSUbO"
      },
      "execution_count": 11,
      "outputs": []
    },
    {
      "cell_type": "markdown",
      "source": [
        "##Training the split - train set"
      ],
      "metadata": {
        "id": "Z6f_FLRyShmt"
      }
    },
    {
      "cell_type": "code",
      "source": [
        "mlp.fit(X_train, y_train, batch_size = 2, epochs = 100)"
      ],
      "metadata": {
        "colab": {
          "base_uri": "https://localhost:8080/"
        },
        "id": "AgvBhJZYSnQv",
        "outputId": "0d653b9c-752c-47dc-ceec-7ce0ab9b51fe"
      },
      "execution_count": 12,
      "outputs": [
        {
          "output_type": "stream",
          "name": "stdout",
          "text": [
            "Epoch 1/100\n",
            "49/49 [==============================] - 1s 1ms/step - loss: 90687.7969\n",
            "Epoch 2/100\n",
            "49/49 [==============================] - 0s 3ms/step - loss: 53306.1914\n",
            "Epoch 3/100\n",
            "49/49 [==============================] - 0s 2ms/step - loss: 24684.4785\n",
            "Epoch 4/100\n",
            "49/49 [==============================] - 0s 3ms/step - loss: 9732.6543\n",
            "Epoch 5/100\n",
            "49/49 [==============================] - 0s 2ms/step - loss: 4100.4761\n",
            "Epoch 6/100\n",
            "49/49 [==============================] - 0s 2ms/step - loss: 2892.8430\n",
            "Epoch 7/100\n",
            "49/49 [==============================] - 0s 3ms/step - loss: 2760.8325\n",
            "Epoch 8/100\n",
            "49/49 [==============================] - 0s 3ms/step - loss: 2758.0491\n",
            "Epoch 9/100\n",
            "49/49 [==============================] - 0s 3ms/step - loss: 2830.9910\n",
            "Epoch 10/100\n",
            "49/49 [==============================] - 0s 3ms/step - loss: 2739.3501\n",
            "Epoch 11/100\n",
            "49/49 [==============================] - 0s 3ms/step - loss: 2745.1309\n",
            "Epoch 12/100\n",
            "49/49 [==============================] - 0s 5ms/step - loss: 2729.9258\n",
            "Epoch 13/100\n",
            "49/49 [==============================] - 0s 2ms/step - loss: 2750.2632\n",
            "Epoch 14/100\n",
            "49/49 [==============================] - 0s 3ms/step - loss: 2717.9705\n",
            "Epoch 15/100\n",
            "49/49 [==============================] - 0s 3ms/step - loss: 2705.6472\n",
            "Epoch 16/100\n",
            "49/49 [==============================] - 0s 3ms/step - loss: 2735.6697\n",
            "Epoch 17/100\n",
            "49/49 [==============================] - 0s 3ms/step - loss: 2690.6753\n",
            "Epoch 18/100\n",
            "49/49 [==============================] - 0s 3ms/step - loss: 2690.2981\n",
            "Epoch 19/100\n",
            "49/49 [==============================] - 0s 2ms/step - loss: 2682.8774\n",
            "Epoch 20/100\n",
            "49/49 [==============================] - 0s 2ms/step - loss: 2707.6428\n",
            "Epoch 21/100\n",
            "49/49 [==============================] - 0s 2ms/step - loss: 2724.2288\n",
            "Epoch 22/100\n",
            "49/49 [==============================] - 0s 3ms/step - loss: 2701.3186\n",
            "Epoch 23/100\n",
            "49/49 [==============================] - 0s 3ms/step - loss: 2655.0911\n",
            "Epoch 24/100\n",
            "49/49 [==============================] - 0s 4ms/step - loss: 2676.1465\n",
            "Epoch 25/100\n",
            "49/49 [==============================] - 0s 3ms/step - loss: 2689.3582\n",
            "Epoch 26/100\n",
            "49/49 [==============================] - 0s 2ms/step - loss: 2678.7847\n",
            "Epoch 27/100\n",
            "49/49 [==============================] - 0s 3ms/step - loss: 2637.8174\n",
            "Epoch 28/100\n",
            "49/49 [==============================] - 0s 2ms/step - loss: 2701.6211\n",
            "Epoch 29/100\n",
            "49/49 [==============================] - 0s 2ms/step - loss: 2612.9116\n",
            "Epoch 30/100\n",
            "49/49 [==============================] - 0s 3ms/step - loss: 2621.9443\n",
            "Epoch 31/100\n",
            "49/49 [==============================] - 0s 2ms/step - loss: 2594.1345\n",
            "Epoch 32/100\n",
            "49/49 [==============================] - 0s 2ms/step - loss: 2628.4331\n",
            "Epoch 33/100\n",
            "49/49 [==============================] - 0s 2ms/step - loss: 2657.7925\n",
            "Epoch 34/100\n",
            "49/49 [==============================] - 0s 3ms/step - loss: 2578.6318\n",
            "Epoch 35/100\n",
            "49/49 [==============================] - 0s 2ms/step - loss: 2616.2659\n",
            "Epoch 36/100\n",
            "49/49 [==============================] - 0s 2ms/step - loss: 2619.5774\n",
            "Epoch 37/100\n",
            "49/49 [==============================] - 0s 2ms/step - loss: 2649.7395\n",
            "Epoch 38/100\n",
            "49/49 [==============================] - 0s 4ms/step - loss: 2556.2854\n",
            "Epoch 39/100\n",
            "49/49 [==============================] - 0s 4ms/step - loss: 2603.2029\n",
            "Epoch 40/100\n",
            "49/49 [==============================] - 0s 2ms/step - loss: 2554.1646\n",
            "Epoch 41/100\n",
            "49/49 [==============================] - 0s 4ms/step - loss: 2541.7532\n",
            "Epoch 42/100\n",
            "49/49 [==============================] - 0s 3ms/step - loss: 2535.1375\n",
            "Epoch 43/100\n",
            "49/49 [==============================] - 0s 4ms/step - loss: 2576.9148\n",
            "Epoch 44/100\n",
            "49/49 [==============================] - 0s 3ms/step - loss: 2588.5767\n",
            "Epoch 45/100\n",
            "49/49 [==============================] - 0s 4ms/step - loss: 2619.2544\n",
            "Epoch 46/100\n",
            "49/49 [==============================] - 0s 3ms/step - loss: 2528.0334\n",
            "Epoch 47/100\n",
            "49/49 [==============================] - 0s 2ms/step - loss: 2519.3157\n",
            "Epoch 48/100\n",
            "49/49 [==============================] - 0s 3ms/step - loss: 2513.6953\n",
            "Epoch 49/100\n",
            "49/49 [==============================] - 0s 3ms/step - loss: 2496.7883\n",
            "Epoch 50/100\n",
            "49/49 [==============================] - 0s 2ms/step - loss: 2489.0369\n",
            "Epoch 51/100\n",
            "49/49 [==============================] - 0s 4ms/step - loss: 2525.2686\n",
            "Epoch 52/100\n",
            "49/49 [==============================] - 0s 2ms/step - loss: 2477.9519\n",
            "Epoch 53/100\n",
            "49/49 [==============================] - 0s 3ms/step - loss: 2460.1499\n",
            "Epoch 54/100\n",
            "49/49 [==============================] - 0s 4ms/step - loss: 2470.6650\n",
            "Epoch 55/100\n",
            "49/49 [==============================] - 0s 5ms/step - loss: 2554.4734\n",
            "Epoch 56/100\n",
            "49/49 [==============================] - 0s 4ms/step - loss: 2475.6299\n",
            "Epoch 57/100\n",
            "49/49 [==============================] - 0s 4ms/step - loss: 2562.6782\n",
            "Epoch 58/100\n",
            "49/49 [==============================] - 0s 3ms/step - loss: 2434.7654\n",
            "Epoch 59/100\n",
            "49/49 [==============================] - 0s 4ms/step - loss: 2475.7078\n",
            "Epoch 60/100\n",
            "49/49 [==============================] - 0s 3ms/step - loss: 2419.2830\n",
            "Epoch 61/100\n",
            "49/49 [==============================] - 0s 2ms/step - loss: 2437.0698\n",
            "Epoch 62/100\n",
            "49/49 [==============================] - 0s 3ms/step - loss: 2425.0679\n",
            "Epoch 63/100\n",
            "49/49 [==============================] - 0s 3ms/step - loss: 2432.7646\n",
            "Epoch 64/100\n",
            "49/49 [==============================] - 0s 3ms/step - loss: 2403.3398\n",
            "Epoch 65/100\n",
            "49/49 [==============================] - 0s 4ms/step - loss: 2400.9878\n",
            "Epoch 66/100\n",
            "49/49 [==============================] - 0s 2ms/step - loss: 2438.8047\n",
            "Epoch 67/100\n",
            "49/49 [==============================] - 0s 3ms/step - loss: 2423.4338\n",
            "Epoch 68/100\n",
            "49/49 [==============================] - 0s 3ms/step - loss: 2383.5593\n",
            "Epoch 69/100\n",
            "49/49 [==============================] - 0s 4ms/step - loss: 2372.4482\n",
            "Epoch 70/100\n",
            "49/49 [==============================] - 0s 2ms/step - loss: 2375.5718\n",
            "Epoch 71/100\n",
            "49/49 [==============================] - 0s 2ms/step - loss: 2408.2551\n",
            "Epoch 72/100\n",
            "49/49 [==============================] - 0s 3ms/step - loss: 2389.0845\n",
            "Epoch 73/100\n",
            "49/49 [==============================] - 0s 2ms/step - loss: 2396.8933\n",
            "Epoch 74/100\n",
            "49/49 [==============================] - 0s 3ms/step - loss: 2352.7842\n",
            "Epoch 75/100\n",
            "49/49 [==============================] - 0s 2ms/step - loss: 2349.3772\n",
            "Epoch 76/100\n",
            "49/49 [==============================] - 0s 3ms/step - loss: 2332.8552\n",
            "Epoch 77/100\n",
            "49/49 [==============================] - 0s 3ms/step - loss: 2318.9651\n",
            "Epoch 78/100\n",
            "49/49 [==============================] - 0s 3ms/step - loss: 2322.0859\n",
            "Epoch 79/100\n",
            "49/49 [==============================] - 0s 3ms/step - loss: 2346.5090\n",
            "Epoch 80/100\n",
            "49/49 [==============================] - 0s 2ms/step - loss: 2336.3967\n",
            "Epoch 81/100\n",
            "49/49 [==============================] - 0s 2ms/step - loss: 2305.9626\n",
            "Epoch 82/100\n",
            "49/49 [==============================] - 0s 2ms/step - loss: 2340.0127\n",
            "Epoch 83/100\n",
            "49/49 [==============================] - 0s 2ms/step - loss: 2292.3364\n",
            "Epoch 84/100\n",
            "49/49 [==============================] - 0s 3ms/step - loss: 2324.4348\n",
            "Epoch 85/100\n",
            "49/49 [==============================] - 0s 5ms/step - loss: 2276.7815\n",
            "Epoch 86/100\n",
            "49/49 [==============================] - 0s 4ms/step - loss: 2277.1812\n",
            "Epoch 87/100\n",
            "49/49 [==============================] - 0s 4ms/step - loss: 2265.2173\n",
            "Epoch 88/100\n",
            "49/49 [==============================] - 0s 4ms/step - loss: 2318.6318\n",
            "Epoch 89/100\n",
            "49/49 [==============================] - 0s 4ms/step - loss: 2244.9343\n",
            "Epoch 90/100\n",
            "49/49 [==============================] - 0s 3ms/step - loss: 2266.6428\n",
            "Epoch 91/100\n",
            "49/49 [==============================] - 0s 4ms/step - loss: 2291.2202\n",
            "Epoch 92/100\n",
            "49/49 [==============================] - 0s 3ms/step - loss: 2239.3455\n",
            "Epoch 93/100\n",
            "49/49 [==============================] - 0s 3ms/step - loss: 2298.0417\n",
            "Epoch 94/100\n",
            "49/49 [==============================] - 0s 3ms/step - loss: 2213.1340\n",
            "Epoch 95/100\n",
            "49/49 [==============================] - 0s 3ms/step - loss: 2264.9680\n",
            "Epoch 96/100\n",
            "49/49 [==============================] - 0s 3ms/step - loss: 2189.9089\n",
            "Epoch 97/100\n",
            "49/49 [==============================] - 0s 3ms/step - loss: 2256.1497\n",
            "Epoch 98/100\n",
            "49/49 [==============================] - 0s 3ms/step - loss: 2239.3501\n",
            "Epoch 99/100\n",
            "49/49 [==============================] - 0s 3ms/step - loss: 2173.8074\n",
            "Epoch 100/100\n",
            "49/49 [==============================] - 0s 4ms/step - loss: 2208.0042\n"
          ]
        },
        {
          "output_type": "execute_result",
          "data": {
            "text/plain": [
              "<keras.callbacks.History at 0x7f528ae35490>"
            ]
          },
          "metadata": {},
          "execution_count": 12
        }
      ]
    },
    {
      "cell_type": "markdown",
      "source": [
        "#Evaluation of the Model\n",
        "___"
      ],
      "metadata": {
        "id": "wunPzHLAUefz"
      }
    },
    {
      "cell_type": "code",
      "source": [
        "predicted_passengers = mlp.predict(X_test)\n",
        "actual_passengers = (y_test)\n",
        "plt.plot(actual_passengers, color = 'red', label = 'Actual No. Passengers')\n",
        "plt.plot(predicted_passengers, color = 'blue', label = 'Predicted No. Passengers')\n",
        "plt.title('Prediction of No. of Passengers(MLP)')\n",
        "plt.xlabel('Time')\n",
        "plt.ylabel('No. of Passengers')\n",
        "plt.legend()\n",
        "plt.show()"
      ],
      "metadata": {
        "colab": {
          "base_uri": "https://localhost:8080/",
          "height": 295
        },
        "id": "ML8LtscgVptH",
        "outputId": "d8bd8dec-c436-4cba-f586-c27b64617571"
      },
      "execution_count": 13,
      "outputs": [
        {
          "output_type": "display_data",
          "data": {
            "text/plain": [
              "<Figure size 432x288 with 1 Axes>"
            ],
            "image/png": "[encoded data removed]"
          },
          "metadata": {
            "needs_background": "light"
          }
        }
      ]
    }
  ]
}