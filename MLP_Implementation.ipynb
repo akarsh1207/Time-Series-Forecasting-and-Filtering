{
  "nbformat": 4,
  "nbformat_minor": 0,
  "metadata": {
    "colab": {
      "name": "MLP Implementation.ipynb",
      "provenance": [],
      "authorship_tag": "ABX9TyPV8rZreCNZogvZqZVkpTLg",
      "include_colab_link": true
    },
    "kernelspec": {
      "name": "python3",
      "display_name": "Python 3"
    },
    "language_info": {
      "name": "python"
    }
  },
  "cells": [
    {
      "cell_type": "markdown",
      "metadata": {
        "id": "view-in-github",
        "colab_type": "text"
      },
      "source": [
        "<a href=\"https://colab.research.google.com/github/akarsh1207/Time-Series-Forecasting-and-Filtering/blob/main/MLP_Implementation.ipynb\" target=\"_parent\"><img src=\"https://colab.research.google.com/assets/colab-badge.svg\" alt=\"Open In Colab\"/></a>"
      ]
    },
    {
      "cell_type": "markdown",
      "source": [
        "# Pre-Processing of the Time Series Data of Airline Passengers\n",
        "\n",
        "---\n",
        "\n"
      ],
      "metadata": {
        "id": "B7TCJ7BCAiL1"
      }
    },
    {
      "cell_type": "markdown",
      "source": [
        "## Importing the Libraries"
      ],
      "metadata": {
        "id": "zaQc5YIbCW7C"
      }
    },
    {
      "cell_type": "code",
      "source": [
        "import pandas as pd\n",
        "import numpy as np\n",
        "import matplotlib.pyplot as plt\n",
        "import tensorflow as tf"
      ],
      "metadata": {
        "id": "frYnJjE7A0u9"
      },
      "execution_count": 1,
      "outputs": []
    },
    {
      "cell_type": "markdown",
      "source": [
        "##Importing the Data"
      ],
      "metadata": {
        "id": "jD2yoKTzJDrX"
      }
    },
    {
      "cell_type": "code",
      "source": [
        "data = pd.read_csv('AirPassengers.csv')\n",
        "Initial_data= np.array(data.iloc[:,1])"
      ],
      "metadata": {
        "id": "-po9toD8JHSG"
      },
      "execution_count": 2,
      "outputs": []
    },
    {
      "cell_type": "code",
      "source": [
        "print(Initial_data)\n",
        "print(len(Initial_data))"
      ],
      "metadata": {
        "colab": {
          "base_uri": "https://localhost:8080/"
        },
        "id": "oLo8-GTgKSBr",
        "outputId": "8420a371-4361-4f58-c5ad-7d05502fb081"
      },
      "execution_count": 3,
      "outputs": [
        {
          "output_type": "stream",
          "name": "stdout",
          "text": [
            "[112 118 132 129 121 135 148 148 136 119 104 118 115 126 141 135 125 149\n",
            " 170 170 158 133 114 140 145 150 178 163 172 178 199 199 184 162 146 166\n",
            " 171 180 193 181 183 218 230 242 209 191 172 194 196 196 236 235 229 243\n",
            " 264 272 237 211 180 201 204 188 235 227 234 264 302 293 259 229 203 229\n",
            " 242 233 267 269 270 315 364 347 312 274 237 278 284 277 317 313 318 374\n",
            " 413 405 355 306 271 306 315 301 356 348 355 422 465 467 404 347 305 336\n",
            " 340 318 362 348 363 435 491 505 404 359 310 337 360 342 406 396 420 472\n",
            " 548 559 463 407 362 405 417 391 419 461 472 535 622 606 508 461 390 432]\n",
            "144\n"
          ]
        }
      ]
    },
    {
      "cell_type": "markdown",
      "source": [
        "##Preparation of a univariate series having lag of 5 steps (5 months)"
      ],
      "metadata": {
        "id": "q4f5gpfDszmI"
      }
    },
    {
      "cell_type": "code",
      "source": [
        "def univariate_series(sequence, n_steps):\n",
        "  X, y = list(), list()\n",
        "  for i in range(144):\n",
        "    end_input = i + n_steps\n",
        "    if end_input > 143:\n",
        "     break\n",
        "    seq_x, seq_y = sequence[i:end_input], sequence[end_input]\n",
        "    X.append(seq_x)\n",
        "    y.append(seq_y)\n",
        "  return np.array(X), np.array(y)"
      ],
      "metadata": {
        "id": "734d2pNptLZC"
      },
      "execution_count": 4,
      "outputs": []
    },
    {
      "cell_type": "code",
      "source": [
        "X, y = univariate_series(Initial_data,5)\n",
        "\n",
        "for i in range(len(X)):\n",
        "  print(X[i],y[i])\n"
      ],
      "metadata": {
        "colab": {
          "base_uri": "https://localhost:8080/"
        },
        "id": "Zo52zx0aCW50",
        "outputId": "4c509d97-479e-4f39-9a16-25c739035a9c"
      },
      "execution_count": 5,
      "outputs": [
        {
          "output_type": "stream",
          "name": "stdout",
          "text": [
            "[112 118 132 129 121] 135\n",
            "[118 132 129 121 135] 148\n",
            "[132 129 121 135 148] 148\n",
            "[129 121 135 148 148] 136\n",
            "[121 135 148 148 136] 119\n",
            "[135 148 148 136 119] 104\n",
            "[148 148 136 119 104] 118\n",
            "[148 136 119 104 118] 115\n",
            "[136 119 104 118 115] 126\n",
            "[119 104 118 115 126] 141\n",
            "[104 118 115 126 141] 135\n",
            "[118 115 126 141 135] 125\n",
            "[115 126 141 135 125] 149\n",
            "[126 141 135 125 149] 170\n",
            "[141 135 125 149 170] 170\n",
            "[135 125 149 170 170] 158\n",
            "[125 149 170 170 158] 133\n",
            "[149 170 170 158 133] 114\n",
            "[170 170 158 133 114] 140\n",
            "[170 158 133 114 140] 145\n",
            "[158 133 114 140 145] 150\n",
            "[133 114 140 145 150] 178\n",
            "[114 140 145 150 178] 163\n",
            "[140 145 150 178 163] 172\n",
            "[145 150 178 163 172] 178\n",
            "[150 178 163 172 178] 199\n",
            "[178 163 172 178 199] 199\n",
            "[163 172 178 199 199] 184\n",
            "[172 178 199 199 184] 162\n",
            "[178 199 199 184 162] 146\n",
            "[199 199 184 162 146] 166\n",
            "[199 184 162 146 166] 171\n",
            "[184 162 146 166 171] 180\n",
            "[162 146 166 171 180] 193\n",
            "[146 166 171 180 193] 181\n",
            "[166 171 180 193 181] 183\n",
            "[171 180 193 181 183] 218\n",
            "[180 193 181 183 218] 230\n",
            "[193 181 183 218 230] 242\n",
            "[181 183 218 230 242] 209\n",
            "[183 218 230 242 209] 191\n",
            "[218 230 242 209 191] 172\n",
            "[230 242 209 191 172] 194\n",
            "[242 209 191 172 194] 196\n",
            "[209 191 172 194 196] 196\n",
            "[191 172 194 196 196] 236\n",
            "[172 194 196 196 236] 235\n",
            "[194 196 196 236 235] 229\n",
            "[196 196 236 235 229] 243\n",
            "[196 236 235 229 243] 264\n",
            "[236 235 229 243 264] 272\n",
            "[235 229 243 264 272] 237\n",
            "[229 243 264 272 237] 211\n",
            "[243 264 272 237 211] 180\n",
            "[264 272 237 211 180] 201\n",
            "[272 237 211 180 201] 204\n",
            "[237 211 180 201 204] 188\n",
            "[211 180 201 204 188] 235\n",
            "[180 201 204 188 235] 227\n",
            "[201 204 188 235 227] 234\n",
            "[204 188 235 227 234] 264\n",
            "[188 235 227 234 264] 302\n",
            "[235 227 234 264 302] 293\n",
            "[227 234 264 302 293] 259\n",
            "[234 264 302 293 259] 229\n",
            "[264 302 293 259 229] 203\n",
            "[302 293 259 229 203] 229\n",
            "[293 259 229 203 229] 242\n",
            "[259 229 203 229 242] 233\n",
            "[229 203 229 242 233] 267\n",
            "[203 229 242 233 267] 269\n",
            "[229 242 233 267 269] 270\n",
            "[242 233 267 269 270] 315\n",
            "[233 267 269 270 315] 364\n",
            "[267 269 270 315 364] 347\n",
            "[269 270 315 364 347] 312\n",
            "[270 315 364 347 312] 274\n",
            "[315 364 347 312 274] 237\n",
            "[364 347 312 274 237] 278\n",
            "[347 312 274 237 278] 284\n",
            "[312 274 237 278 284] 277\n",
            "[274 237 278 284 277] 317\n",
            "[237 278 284 277 317] 313\n",
            "[278 284 277 317 313] 318\n",
            "[284 277 317 313 318] 374\n",
            "[277 317 313 318 374] 413\n",
            "[317 313 318 374 413] 405\n",
            "[313 318 374 413 405] 355\n",
            "[318 374 413 405 355] 306\n",
            "[374 413 405 355 306] 271\n",
            "[413 405 355 306 271] 306\n",
            "[405 355 306 271 306] 315\n",
            "[355 306 271 306 315] 301\n",
            "[306 271 306 315 301] 356\n",
            "[271 306 315 301 356] 348\n",
            "[306 315 301 356 348] 355\n",
            "[315 301 356 348 355] 422\n",
            "[301 356 348 355 422] 465\n",
            "[356 348 355 422 465] 467\n",
            "[348 355 422 465 467] 404\n",
            "[355 422 465 467 404] 347\n",
            "[422 465 467 404 347] 305\n",
            "[465 467 404 347 305] 336\n",
            "[467 404 347 305 336] 340\n",
            "[404 347 305 336 340] 318\n",
            "[347 305 336 340 318] 362\n",
            "[305 336 340 318 362] 348\n",
            "[336 340 318 362 348] 363\n",
            "[340 318 362 348 363] 435\n",
            "[318 362 348 363 435] 491\n",
            "[362 348 363 435 491] 505\n",
            "[348 363 435 491 505] 404\n",
            "[363 435 491 505 404] 359\n",
            "[435 491 505 404 359] 310\n",
            "[491 505 404 359 310] 337\n",
            "[505 404 359 310 337] 360\n",
            "[404 359 310 337 360] 342\n",
            "[359 310 337 360 342] 406\n",
            "[310 337 360 342 406] 396\n",
            "[337 360 342 406 396] 420\n",
            "[360 342 406 396 420] 472\n",
            "[342 406 396 420 472] 548\n",
            "[406 396 420 472 548] 559\n",
            "[396 420 472 548 559] 463\n",
            "[420 472 548 559 463] 407\n",
            "[472 548 559 463 407] 362\n",
            "[548 559 463 407 362] 405\n",
            "[559 463 407 362 405] 417\n",
            "[463 407 362 405 417] 391\n",
            "[407 362 405 417 391] 419\n",
            "[362 405 417 391 419] 461\n",
            "[405 417 391 419 461] 472\n",
            "[417 391 419 461 472] 535\n",
            "[391 419 461 472 535] 622\n",
            "[419 461 472 535 622] 606\n",
            "[461 472 535 622 606] 508\n",
            "[472 535 622 606 508] 461\n",
            "[535 622 606 508 461] 390\n",
            "[622 606 508 461 390] 432\n"
          ]
        }
      ]
    },
    {
      "cell_type": "markdown",
      "source": [
        "##Training and Test Split (70-30)"
      ],
      "metadata": {
        "id": "TqDLepTyH8lM"
      }
    },
    {
      "cell_type": "code",
      "source": [
        "from sklearn.model_selection import train_test_split\n",
        "X_train, X_test, y_train, y_test = train_test_split(X, y, test_size = 0.3, random_state = 0)"
      ],
      "metadata": {
        "id": "N8DKTzweIGfx"
      },
      "execution_count": 6,
      "outputs": []
    },
    {
      "cell_type": "markdown",
      "source": [
        "# MLP Model\n",
        "\n",
        "---\n",
        "\n"
      ],
      "metadata": {
        "id": "zaztgceMI7Mz"
      }
    },
    {
      "cell_type": "markdown",
      "source": [
        "##Initialisation of the MLP"
      ],
      "metadata": {
        "id": "lvazxLNqQvzo"
      }
    },
    {
      "cell_type": "code",
      "source": [
        "mlp = tf.keras.models.Sequential()"
      ],
      "metadata": {
        "id": "GX2yuRr4Q0k0"
      },
      "execution_count": 7,
      "outputs": []
    },
    {
      "cell_type": "markdown",
      "source": [
        "## First Layer of the MLP"
      ],
      "metadata": {
        "id": "y64DM8C1RpoI"
      }
    },
    {
      "cell_type": "code",
      "source": [
        "mlp.add(tf.keras.layers.Dense(units=5, activation='relu'))"
      ],
      "metadata": {
        "id": "SMH9mI1SRsM_"
      },
      "execution_count": 8,
      "outputs": []
    },
    {
      "cell_type": "markdown",
      "source": [
        "## Second Layer of the MLP"
      ],
      "metadata": {
        "id": "l5QyXE_DRzAp"
      }
    },
    {
      "cell_type": "code",
      "source": [
        "mlp.add(tf.keras.layers.Dense(units=5, activation='relu'))"
      ],
      "metadata": {
        "id": "8XHXefK1R6ym"
      },
      "execution_count": 9,
      "outputs": []
    },
    {
      "cell_type": "markdown",
      "source": [
        "##Output Layer of the MLP"
      ],
      "metadata": {
        "id": "tyGJyIfrR-8u"
      }
    },
    {
      "cell_type": "code",
      "source": [
        "mlp.add(tf.keras.layers.Dense(units=1))"
      ],
      "metadata": {
        "id": "cFpmEOnsSCoZ"
      },
      "execution_count": 10,
      "outputs": []
    },
    {
      "cell_type": "markdown",
      "source": [
        "#Training the MLP\n",
        "---"
      ],
      "metadata": {
        "id": "W60_k-zqSI34"
      }
    },
    {
      "cell_type": "markdown",
      "source": [
        "##Compiling the MLP"
      ],
      "metadata": {
        "id": "3v5hL0lcSQs7"
      }
    },
    {
      "cell_type": "code",
      "source": [
        "mlp.compile(optimizer = 'adam', loss = 'mse')"
      ],
      "metadata": {
        "id": "CXQftiXfSUbO"
      },
      "execution_count": 11,
      "outputs": []
    },
    {
      "cell_type": "markdown",
      "source": [
        "##Training the split train test"
      ],
      "metadata": {
        "id": "Z6f_FLRyShmt"
      }
    },
    {
      "cell_type": "code",
      "source": [
        "mlp.fit(X_train, y_train, batch_size = 2, epochs = 100)"
      ],
      "metadata": {
        "colab": {
          "base_uri": "https://localhost:8080/"
        },
        "id": "AgvBhJZYSnQv",
        "outputId": "9f8e86e3-8c3f-4442-ff36-7b0914d10104"
      },
      "execution_count": 12,
      "outputs": [
        {
          "output_type": "stream",
          "name": "stdout",
          "text": [
            "Epoch 1/100\n",
            "49/49 [==============================] - 1s 2ms/step - loss: 110757.0938\n",
            "Epoch 2/100\n",
            "49/49 [==============================] - 0s 2ms/step - loss: 100078.3438\n",
            "Epoch 3/100\n",
            "49/49 [==============================] - 0s 5ms/step - loss: 97777.4609\n",
            "Epoch 4/100\n",
            "49/49 [==============================] - 0s 4ms/step - loss: 97306.1562\n",
            "Epoch 5/100\n",
            "49/49 [==============================] - 0s 4ms/step - loss: 97118.3984\n",
            "Epoch 6/100\n",
            "49/49 [==============================] - 0s 4ms/step - loss: 96986.3906\n",
            "Epoch 7/100\n",
            "49/49 [==============================] - 0s 3ms/step - loss: 96858.8828\n",
            "Epoch 8/100\n",
            "49/49 [==============================] - 0s 4ms/step - loss: 96727.4766\n",
            "Epoch 9/100\n",
            "49/49 [==============================] - 0s 4ms/step - loss: 96555.6484\n",
            "Epoch 10/100\n",
            "49/49 [==============================] - 0s 5ms/step - loss: 96111.0938\n",
            "Epoch 11/100\n",
            "49/49 [==============================] - 0s 3ms/step - loss: 91193.8750\n",
            "Epoch 12/100\n",
            "49/49 [==============================] - 0s 4ms/step - loss: 49050.4180\n",
            "Epoch 13/100\n",
            "49/49 [==============================] - 0s 4ms/step - loss: 5035.1606\n",
            "Epoch 14/100\n",
            "49/49 [==============================] - 0s 5ms/step - loss: 2929.8396\n",
            "Epoch 15/100\n",
            "49/49 [==============================] - 0s 3ms/step - loss: 2904.4365\n",
            "Epoch 16/100\n",
            "49/49 [==============================] - 0s 5ms/step - loss: 2803.1187\n",
            "Epoch 17/100\n",
            "49/49 [==============================] - 0s 5ms/step - loss: 2759.6006\n",
            "Epoch 18/100\n",
            "49/49 [==============================] - 0s 4ms/step - loss: 2713.3123\n",
            "Epoch 19/100\n",
            "49/49 [==============================] - 0s 3ms/step - loss: 2698.0554\n",
            "Epoch 20/100\n",
            "49/49 [==============================] - 0s 4ms/step - loss: 2675.2224\n",
            "Epoch 21/100\n",
            "49/49 [==============================] - 0s 4ms/step - loss: 2655.6277\n",
            "Epoch 22/100\n",
            "49/49 [==============================] - 0s 2ms/step - loss: 2605.1313\n",
            "Epoch 23/100\n",
            "49/49 [==============================] - 0s 4ms/step - loss: 2523.1953\n",
            "Epoch 24/100\n",
            "49/49 [==============================] - 0s 3ms/step - loss: 2519.3899\n",
            "Epoch 25/100\n",
            "49/49 [==============================] - 0s 3ms/step - loss: 2466.4336\n",
            "Epoch 26/100\n",
            "49/49 [==============================] - 0s 3ms/step - loss: 2454.5173\n",
            "Epoch 27/100\n",
            "49/49 [==============================] - 0s 3ms/step - loss: 2402.9866\n",
            "Epoch 28/100\n",
            "49/49 [==============================] - 0s 3ms/step - loss: 2391.1338\n",
            "Epoch 29/100\n",
            "49/49 [==============================] - 0s 3ms/step - loss: 2410.4644\n",
            "Epoch 30/100\n",
            "49/49 [==============================] - 0s 5ms/step - loss: 2313.2168\n",
            "Epoch 31/100\n",
            "49/49 [==============================] - 0s 5ms/step - loss: 2329.3789\n",
            "Epoch 32/100\n",
            "49/49 [==============================] - 0s 3ms/step - loss: 2246.1646\n",
            "Epoch 33/100\n",
            "49/49 [==============================] - 0s 5ms/step - loss: 2279.2612\n",
            "Epoch 34/100\n",
            "49/49 [==============================] - 0s 5ms/step - loss: 2284.0461\n",
            "Epoch 35/100\n",
            "49/49 [==============================] - 0s 5ms/step - loss: 2218.2947\n",
            "Epoch 36/100\n",
            "49/49 [==============================] - 0s 4ms/step - loss: 2160.0964\n",
            "Epoch 37/100\n",
            "49/49 [==============================] - 0s 4ms/step - loss: 2121.4419\n",
            "Epoch 38/100\n",
            "49/49 [==============================] - 0s 3ms/step - loss: 2118.9514\n",
            "Epoch 39/100\n",
            "49/49 [==============================] - 0s 4ms/step - loss: 2168.0144\n",
            "Epoch 40/100\n",
            "49/49 [==============================] - 0s 5ms/step - loss: 2067.5623\n",
            "Epoch 41/100\n",
            "49/49 [==============================] - 0s 4ms/step - loss: 2041.8528\n",
            "Epoch 42/100\n",
            "49/49 [==============================] - 0s 4ms/step - loss: 2026.4098\n",
            "Epoch 43/100\n",
            "49/49 [==============================] - 0s 3ms/step - loss: 1998.3259\n",
            "Epoch 44/100\n",
            "49/49 [==============================] - 0s 3ms/step - loss: 1950.5719\n",
            "Epoch 45/100\n",
            "49/49 [==============================] - 0s 5ms/step - loss: 2041.4016\n",
            "Epoch 46/100\n",
            "49/49 [==============================] - 0s 4ms/step - loss: 1921.3066\n",
            "Epoch 47/100\n",
            "49/49 [==============================] - 0s 5ms/step - loss: 1909.3138\n",
            "Epoch 48/100\n",
            "49/49 [==============================] - 0s 5ms/step - loss: 1892.8871\n",
            "Epoch 49/100\n",
            "49/49 [==============================] - 0s 4ms/step - loss: 1857.6947\n",
            "Epoch 50/100\n",
            "49/49 [==============================] - 0s 4ms/step - loss: 1881.7581\n",
            "Epoch 51/100\n",
            "49/49 [==============================] - 0s 5ms/step - loss: 1818.4591\n",
            "Epoch 52/100\n",
            "49/49 [==============================] - 0s 4ms/step - loss: 1805.8054\n",
            "Epoch 53/100\n",
            "49/49 [==============================] - 0s 4ms/step - loss: 1885.4117\n",
            "Epoch 54/100\n",
            "49/49 [==============================] - 0s 3ms/step - loss: 1824.3684\n",
            "Epoch 55/100\n",
            "49/49 [==============================] - 0s 3ms/step - loss: 1751.2295\n",
            "Epoch 56/100\n",
            "49/49 [==============================] - 0s 5ms/step - loss: 1713.4241\n",
            "Epoch 57/100\n",
            "49/49 [==============================] - 0s 5ms/step - loss: 1764.1035\n",
            "Epoch 58/100\n",
            "49/49 [==============================] - 0s 3ms/step - loss: 1721.9194\n",
            "Epoch 59/100\n",
            "49/49 [==============================] - 0s 3ms/step - loss: 1708.7255\n",
            "Epoch 60/100\n",
            "49/49 [==============================] - 0s 3ms/step - loss: 1694.2781\n",
            "Epoch 61/100\n",
            "49/49 [==============================] - 0s 3ms/step - loss: 1652.3484\n",
            "Epoch 62/100\n",
            "49/49 [==============================] - 0s 5ms/step - loss: 1660.0140\n",
            "Epoch 63/100\n",
            "49/49 [==============================] - 0s 4ms/step - loss: 1640.4421\n",
            "Epoch 64/100\n",
            "49/49 [==============================] - 0s 3ms/step - loss: 1611.5006\n",
            "Epoch 65/100\n",
            "49/49 [==============================] - 0s 4ms/step - loss: 1617.6809\n",
            "Epoch 66/100\n",
            "49/49 [==============================] - 0s 3ms/step - loss: 1607.3865\n",
            "Epoch 67/100\n",
            "49/49 [==============================] - 0s 3ms/step - loss: 1564.7201\n",
            "Epoch 68/100\n",
            "49/49 [==============================] - 0s 5ms/step - loss: 1607.4044\n",
            "Epoch 69/100\n",
            "49/49 [==============================] - 0s 3ms/step - loss: 1567.4905\n",
            "Epoch 70/100\n",
            "49/49 [==============================] - 0s 5ms/step - loss: 1579.1804\n",
            "Epoch 71/100\n",
            "49/49 [==============================] - 0s 6ms/step - loss: 1534.3013\n",
            "Epoch 72/100\n",
            "49/49 [==============================] - 0s 6ms/step - loss: 1540.7004\n",
            "Epoch 73/100\n",
            "49/49 [==============================] - 0s 4ms/step - loss: 1531.1033\n",
            "Epoch 74/100\n",
            "49/49 [==============================] - 0s 6ms/step - loss: 1509.0122\n",
            "Epoch 75/100\n",
            "49/49 [==============================] - 0s 5ms/step - loss: 1523.7058\n",
            "Epoch 76/100\n",
            "49/49 [==============================] - 0s 4ms/step - loss: 1515.5496\n",
            "Epoch 77/100\n",
            "49/49 [==============================] - 0s 4ms/step - loss: 1447.3971\n",
            "Epoch 78/100\n",
            "49/49 [==============================] - 0s 4ms/step - loss: 1449.7531\n",
            "Epoch 79/100\n",
            "49/49 [==============================] - 0s 4ms/step - loss: 1431.2440\n",
            "Epoch 80/100\n",
            "49/49 [==============================] - 0s 3ms/step - loss: 1451.0328\n",
            "Epoch 81/100\n",
            "49/49 [==============================] - 0s 3ms/step - loss: 1420.4890\n",
            "Epoch 82/100\n",
            "49/49 [==============================] - 0s 6ms/step - loss: 1431.3972\n",
            "Epoch 83/100\n",
            "49/49 [==============================] - 0s 6ms/step - loss: 1445.0499\n",
            "Epoch 84/100\n",
            "49/49 [==============================] - 0s 3ms/step - loss: 1433.1583\n",
            "Epoch 85/100\n",
            "49/49 [==============================] - 0s 3ms/step - loss: 1393.4174\n",
            "Epoch 86/100\n",
            "49/49 [==============================] - 0s 3ms/step - loss: 1377.8441\n",
            "Epoch 87/100\n",
            "49/49 [==============================] - 0s 7ms/step - loss: 1383.9744\n",
            "Epoch 88/100\n",
            "49/49 [==============================] - 0s 4ms/step - loss: 1374.6715\n",
            "Epoch 89/100\n",
            "49/49 [==============================] - 0s 5ms/step - loss: 1378.2369\n",
            "Epoch 90/100\n",
            "49/49 [==============================] - 0s 6ms/step - loss: 1361.0356\n",
            "Epoch 91/100\n",
            "49/49 [==============================] - 0s 4ms/step - loss: 1406.3054\n",
            "Epoch 92/100\n",
            "49/49 [==============================] - 0s 3ms/step - loss: 1421.9329\n",
            "Epoch 93/100\n",
            "49/49 [==============================] - 0s 4ms/step - loss: 1350.6635\n",
            "Epoch 94/100\n",
            "49/49 [==============================] - 0s 3ms/step - loss: 1315.0238\n",
            "Epoch 95/100\n",
            "49/49 [==============================] - 0s 3ms/step - loss: 1301.2375\n",
            "Epoch 96/100\n",
            "49/49 [==============================] - 0s 3ms/step - loss: 1328.8680\n",
            "Epoch 97/100\n",
            "49/49 [==============================] - 0s 5ms/step - loss: 1328.9753\n",
            "Epoch 98/100\n",
            "49/49 [==============================] - 0s 4ms/step - loss: 1295.0754\n",
            "Epoch 99/100\n",
            "49/49 [==============================] - 0s 3ms/step - loss: 1307.6902\n",
            "Epoch 100/100\n",
            "49/49 [==============================] - 0s 3ms/step - loss: 1297.0277\n"
          ]
        },
        {
          "output_type": "execute_result",
          "data": {
            "text/plain": [
              "<keras.callbacks.History at 0x7f3b8461c710>"
            ]
          },
          "metadata": {},
          "execution_count": 12
        }
      ]
    },
    {
      "cell_type": "markdown",
      "source": [
        "#Evaluation of the Model"
      ],
      "metadata": {
        "id": "wunPzHLAUefz"
      }
    },
    {
      "cell_type": "code",
      "source": [
        "predicted_passengers = mlp.predict(X_test)\n",
        "actual_passengers = (y_test)\n",
        "plt.plot(actual_passengers, color = 'red', label = 'Actual Passengers')\n",
        "plt.plot(predicted_passengers, color = 'blue', label = 'Predicted Passengers')\n",
        "plt.title('Passenger MLP Prediction')\n",
        "plt.ylabel('No. of Passengers')\n",
        "plt.legend()\n",
        "plt.show()"
      ],
      "metadata": {
        "colab": {
          "base_uri": "https://localhost:8080/",
          "height": 281
        },
        "id": "ML8LtscgVptH",
        "outputId": "e1c538d8-ee51-4bc1-d8c7-7039754f0735"
      },
      "execution_count": 13,
      "outputs": [
        {
          "output_type": "display_data",
          "data": {
            "text/plain": [
              "<Figure size 432x288 with 1 Axes>"
            ],
            "image/png": "[encoded data removed]"
          },
          "metadata": {
            "needs_background": "light"
          }
        }
      ]
    }
  ]
}