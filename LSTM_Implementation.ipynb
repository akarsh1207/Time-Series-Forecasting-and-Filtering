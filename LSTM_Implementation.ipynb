{
  "nbformat": 4,
  "nbformat_minor": 0,
  "metadata": {
    "colab": {
      "name": "LSTM_Implementation.ipynb",
      "provenance": [],
      "include_colab_link": true
    },
    "kernelspec": {
      "name": "python3",
      "display_name": "Python 3"
    },
    "language_info": {
      "name": "python"
    }
  },
  "cells": [
    {
      "cell_type": "markdown",
      "metadata": {
        "id": "view-in-github",
        "colab_type": "text"
      },
      "source": [
        "<a href=\"https://colab.research.google.com/github/akarsh1207/Time-Series-Forecasting-and-Filtering/blob/main/LSTM_Implementation.ipynb\" target=\"_parent\"><img src=\"https://colab.research.google.com/assets/colab-badge.svg\" alt=\"Open In Colab\"/></a>"
      ]
    },
    {
      "cell_type": "markdown",
      "source": [
        "# Pre-Processing of the Time Series Data of Airline Passengers\n",
        "\n",
        "---\n",
        "\n"
      ],
      "metadata": {
        "id": "PKVZhM7ew51d"
      }
    },
    {
      "cell_type": "markdown",
      "source": [
        "## Importing the Libraries"
      ],
      "metadata": {
        "id": "uLeM4BQ4w9vO"
      }
    },
    {
      "cell_type": "code",
      "source": [
        "import pandas as pd\n",
        "import numpy as np\n",
        "import matplotlib.pyplot as plt\n",
        "import tensorflow as tf"
      ],
      "metadata": {
        "id": "pwXP1WCKxAqa"
      },
      "execution_count": null,
      "outputs": []
    },
    {
      "cell_type": "markdown",
      "source": [
        "##Importing the Data + Manual Split 101/43 (70:30)"
      ],
      "metadata": {
        "id": "6d8OfUv0xEeL"
      }
    },
    {
      "cell_type": "code",
      "source": [
        "data = pd.read_csv('AirPassengers.csv')\n",
        "Initial_train_data= np.array(data.iloc[:-43,1])"
      ],
      "metadata": {
        "id": "EP3r9kEbxGi-"
      },
      "execution_count": null,
      "outputs": []
    },
    {
      "cell_type": "code",
      "source": [
        "print(Initial_train_data)\n",
        "print(len(Initial_train_data))"
      ],
      "metadata": {
        "colab": {
          "base_uri": "https://localhost:8080/"
        },
        "id": "9iqw1HzDxTYF",
        "outputId": "3434b751-9141-4438-b364-e55c76f7d7ab"
      },
      "execution_count": null,
      "outputs": [
        {
          "output_type": "stream",
          "name": "stdout",
          "text": [
            "[112 118 132 129 121 135 148 148 136 119 104 118 115 126 141 135 125 149\n",
            " 170 170 158 133 114 140 145 150 178 163 172 178 199 199 184 162 146 166\n",
            " 171 180 193 181 183 218 230 242 209 191 172 194 196 196 236 235 229 243\n",
            " 264 272 237 211 180 201 204 188 235 227 234 264 302 293 259 229 203 229\n",
            " 242 233 267 269 270 315 364 347 312 274 237 278 284 277 317 313 318 374\n",
            " 413 405 355 306 271 306 315 301 356 348 355]\n",
            "101\n"
          ]
        }
      ]
    },
    {
      "cell_type": "markdown",
      "source": [
        "##Preparation of a univariate series having lag of 5 steps (5 months)"
      ],
      "metadata": {
        "id": "6rnuGqjH0BKc"
      }
    },
    {
      "cell_type": "code",
      "source": [
        "def univariate_series(sequence, n_steps):\n",
        "  X, y = list(), list()\n",
        "  for i in range(101):\n",
        "    end_input = i + n_steps\n",
        "    if end_input > 100:\n",
        "     break\n",
        "    seq_x, seq_y = sequence[i:end_input], sequence[end_input]\n",
        "    X.append(seq_x)\n",
        "    y.append(seq_y)\n",
        "  return np.array(X), np.array(y)"
      ],
      "metadata": {
        "id": "2Wovg35-0EcE"
      },
      "execution_count": null,
      "outputs": []
    },
    {
      "cell_type": "code",
      "source": [
        "X, y = univariate_series(Initial_train_data,5)\n",
        "\n",
        "for i in range(len(X)):\n",
        "  print(X[i],y[i])\n"
      ],
      "metadata": {
        "colab": {
          "base_uri": "https://localhost:8080/"
        },
        "id": "ufIv4VH50G_6",
        "outputId": "f0b9b418-6225-4a9d-87be-8d9f2204229a"
      },
      "execution_count": null,
      "outputs": [
        {
          "output_type": "stream",
          "name": "stdout",
          "text": [
            "[112 118 132 129 121] 135\n",
            "[118 132 129 121 135] 148\n",
            "[132 129 121 135 148] 148\n",
            "[129 121 135 148 148] 136\n",
            "[121 135 148 148 136] 119\n",
            "[135 148 148 136 119] 104\n",
            "[148 148 136 119 104] 118\n",
            "[148 136 119 104 118] 115\n",
            "[136 119 104 118 115] 126\n",
            "[119 104 118 115 126] 141\n",
            "[104 118 115 126 141] 135\n",
            "[118 115 126 141 135] 125\n",
            "[115 126 141 135 125] 149\n",
            "[126 141 135 125 149] 170\n",
            "[141 135 125 149 170] 170\n",
            "[135 125 149 170 170] 158\n",
            "[125 149 170 170 158] 133\n",
            "[149 170 170 158 133] 114\n",
            "[170 170 158 133 114] 140\n",
            "[170 158 133 114 140] 145\n",
            "[158 133 114 140 145] 150\n",
            "[133 114 140 145 150] 178\n",
            "[114 140 145 150 178] 163\n",
            "[140 145 150 178 163] 172\n",
            "[145 150 178 163 172] 178\n",
            "[150 178 163 172 178] 199\n",
            "[178 163 172 178 199] 199\n",
            "[163 172 178 199 199] 184\n",
            "[172 178 199 199 184] 162\n",
            "[178 199 199 184 162] 146\n",
            "[199 199 184 162 146] 166\n",
            "[199 184 162 146 166] 171\n",
            "[184 162 146 166 171] 180\n",
            "[162 146 166 171 180] 193\n",
            "[146 166 171 180 193] 181\n",
            "[166 171 180 193 181] 183\n",
            "[171 180 193 181 183] 218\n",
            "[180 193 181 183 218] 230\n",
            "[193 181 183 218 230] 242\n",
            "[181 183 218 230 242] 209\n",
            "[183 218 230 242 209] 191\n",
            "[218 230 242 209 191] 172\n",
            "[230 242 209 191 172] 194\n",
            "[242 209 191 172 194] 196\n",
            "[209 191 172 194 196] 196\n",
            "[191 172 194 196 196] 236\n",
            "[172 194 196 196 236] 235\n",
            "[194 196 196 236 235] 229\n",
            "[196 196 236 235 229] 243\n",
            "[196 236 235 229 243] 264\n",
            "[236 235 229 243 264] 272\n",
            "[235 229 243 264 272] 237\n",
            "[229 243 264 272 237] 211\n",
            "[243 264 272 237 211] 180\n",
            "[264 272 237 211 180] 201\n",
            "[272 237 211 180 201] 204\n",
            "[237 211 180 201 204] 188\n",
            "[211 180 201 204 188] 235\n",
            "[180 201 204 188 235] 227\n",
            "[201 204 188 235 227] 234\n",
            "[204 188 235 227 234] 264\n",
            "[188 235 227 234 264] 302\n",
            "[235 227 234 264 302] 293\n",
            "[227 234 264 302 293] 259\n",
            "[234 264 302 293 259] 229\n",
            "[264 302 293 259 229] 203\n",
            "[302 293 259 229 203] 229\n",
            "[293 259 229 203 229] 242\n",
            "[259 229 203 229 242] 233\n",
            "[229 203 229 242 233] 267\n",
            "[203 229 242 233 267] 269\n",
            "[229 242 233 267 269] 270\n",
            "[242 233 267 269 270] 315\n",
            "[233 267 269 270 315] 364\n",
            "[267 269 270 315 364] 347\n",
            "[269 270 315 364 347] 312\n",
            "[270 315 364 347 312] 274\n",
            "[315 364 347 312 274] 237\n",
            "[364 347 312 274 237] 278\n",
            "[347 312 274 237 278] 284\n",
            "[312 274 237 278 284] 277\n",
            "[274 237 278 284 277] 317\n",
            "[237 278 284 277 317] 313\n",
            "[278 284 277 317 313] 318\n",
            "[284 277 317 313 318] 374\n",
            "[277 317 313 318 374] 413\n",
            "[317 313 318 374 413] 405\n",
            "[313 318 374 413 405] 355\n",
            "[318 374 413 405 355] 306\n",
            "[374 413 405 355 306] 271\n",
            "[413 405 355 306 271] 306\n",
            "[405 355 306 271 306] 315\n",
            "[355 306 271 306 315] 301\n",
            "[306 271 306 315 301] 356\n",
            "[271 306 315 301 356] 348\n",
            "[306 315 301 356 348] 355\n"
          ]
        }
      ]
    },
    {
      "cell_type": "markdown",
      "source": [
        "##Reshaping train data"
      ],
      "metadata": {
        "id": "4_OgvHUJ0Y3W"
      }
    },
    {
      "cell_type": "code",
      "source": [
        "X = X.reshape(X.shape[0],X.shape[1],1)\n"
      ],
      "metadata": {
        "id": "xRTuui8M0mMu"
      },
      "execution_count": null,
      "outputs": []
    },
    {
      "cell_type": "markdown",
      "source": [
        "#LSTM Model"
      ],
      "metadata": {
        "id": "jd-L8pRw9_Ie"
      }
    },
    {
      "cell_type": "markdown",
      "source": [
        "##Initilisation of the LSTM"
      ],
      "metadata": {
        "id": "egj2lb3F-I81"
      }
    },
    {
      "cell_type": "code",
      "source": [
        "lstm = tf.keras.models.Sequential()"
      ],
      "metadata": {
        "id": "F6Ffjj53-YuN"
      },
      "execution_count": null,
      "outputs": []
    },
    {
      "cell_type": "markdown",
      "source": [
        "## First layer + Dropout Regularisation (20%)"
      ],
      "metadata": {
        "id": "q8fbWOFN-kMD"
      }
    },
    {
      "cell_type": "code",
      "source": [
        "lstm.add(tf.keras.layers.LSTM(units = 50,activation='relu', return_sequences = True, input_shape = (X.shape[1], 1)))\n",
        "lstm.add(tf.keras.layers.Dropout(0.2))"
      ],
      "metadata": {
        "id": "m4c2sduB-s18"
      },
      "execution_count": null,
      "outputs": []
    },
    {
      "cell_type": "markdown",
      "source": [
        "## Second layer + Dropout Regularisation (20%)"
      ],
      "metadata": {
        "id": "p7FFzjkt_iDc"
      }
    },
    {
      "cell_type": "code",
      "source": [
        "lstm.add(tf.keras.layers.LSTM(units = 50,activation='relu', return_sequences = True))\n",
        "lstm.add(tf.keras.layers.Dropout(0.2))"
      ],
      "metadata": {
        "id": "CvmJbbe3_lfw"
      },
      "execution_count": null,
      "outputs": []
    },
    {
      "cell_type": "markdown",
      "source": [
        "## Third layer + Dropout Regularisation (20%)"
      ],
      "metadata": {
        "id": "OfM-dPgcADFP"
      }
    },
    {
      "cell_type": "code",
      "source": [
        "lstm.add(tf.keras.layers.LSTM(units = 50,activation='relu', return_sequences = True))\n",
        "lstm.add(tf.keras.layers.Dropout(0.2))"
      ],
      "metadata": {
        "id": "HgKcoiEjADQv"
      },
      "execution_count": null,
      "outputs": []
    },
    {
      "cell_type": "markdown",
      "source": [
        "## Fourth layer + Dropout Regularisation (20%)"
      ],
      "metadata": {
        "id": "GS-2S5g3ADlC"
      }
    },
    {
      "cell_type": "code",
      "source": [
        "lstm.add(tf.keras.layers.LSTM(units = 50,activation='relu'))\n",
        "lstm.add(tf.keras.layers.Dropout(0.2))"
      ],
      "metadata": {
        "id": "aSbYOA0UADxP"
      },
      "execution_count": null,
      "outputs": []
    },
    {
      "cell_type": "markdown",
      "source": [
        "##Output Layer"
      ],
      "metadata": {
        "id": "w8Gn6vDvAu1x"
      }
    },
    {
      "cell_type": "code",
      "source": [
        "lstm.add(tf.keras.layers.Dense(units=1))"
      ],
      "metadata": {
        "id": "VAEvuFKWAxK9"
      },
      "execution_count": null,
      "outputs": []
    },
    {
      "cell_type": "markdown",
      "source": [
        "#Training the LSTM Model\n",
        "___"
      ],
      "metadata": {
        "id": "kw9LOZVoA_hc"
      }
    },
    {
      "cell_type": "markdown",
      "source": [
        "##Compiling the LSTM"
      ],
      "metadata": {
        "id": "2dHHxgQYBC9Q"
      }
    },
    {
      "cell_type": "code",
      "source": [
        "lstm.compile(optimizer = 'adam', loss = 'mse')"
      ],
      "metadata": {
        "id": "96LVuyv-BGUr"
      },
      "execution_count": null,
      "outputs": []
    },
    {
      "cell_type": "markdown",
      "source": [
        "##Training the LSTM"
      ],
      "metadata": {
        "id": "W19gZNpjBPTV"
      }
    },
    {
      "cell_type": "code",
      "source": [
        "lstm.fit(X, y, epochs = 100, batch_size = 2)"
      ],
      "metadata": {
        "colab": {
          "base_uri": "https://localhost:8080/"
        },
        "id": "-9XwPHb5BWWp",
        "outputId": "d962c404-66ab-4b04-d390-66c5ebb8a996"
      },
      "execution_count": null,
      "outputs": [
        {
          "output_type": "stream",
          "name": "stdout",
          "text": [
            "Epoch 1/100\n",
            "48/48 [==============================] - 8s 18ms/step - loss: 36085.1484\n",
            "Epoch 2/100\n",
            "48/48 [==============================] - 1s 21ms/step - loss: 6581.8354\n",
            "Epoch 3/100\n",
            "48/48 [==============================] - 1s 20ms/step - loss: 6208.9663\n",
            "Epoch 4/100\n",
            "48/48 [==============================] - 1s 17ms/step - loss: 3644.1213\n",
            "Epoch 5/100\n",
            "48/48 [==============================] - 1s 20ms/step - loss: 6015.4458\n",
            "Epoch 6/100\n",
            "48/48 [==============================] - 1s 19ms/step - loss: 4027.3184\n",
            "Epoch 7/100\n",
            "48/48 [==============================] - 1s 19ms/step - loss: 4363.2451\n",
            "Epoch 8/100\n",
            "48/48 [==============================] - 1s 18ms/step - loss: 6703.9336\n",
            "Epoch 9/100\n",
            "48/48 [==============================] - 1s 21ms/step - loss: 5326.0762\n",
            "Epoch 10/100\n",
            "48/48 [==============================] - 1s 19ms/step - loss: 5341.5576\n",
            "Epoch 11/100\n",
            "48/48 [==============================] - 1s 22ms/step - loss: 5310.9937\n",
            "Epoch 12/100\n",
            "48/48 [==============================] - 1s 19ms/step - loss: 4757.0513\n",
            "Epoch 13/100\n",
            "48/48 [==============================] - 1s 19ms/step - loss: 3930.9160\n",
            "Epoch 14/100\n",
            "48/48 [==============================] - 1s 17ms/step - loss: 3695.7322\n",
            "Epoch 15/100\n",
            "48/48 [==============================] - 1s 19ms/step - loss: 3040.1165\n",
            "Epoch 16/100\n",
            "48/48 [==============================] - 1s 16ms/step - loss: 3606.1418\n",
            "Epoch 17/100\n",
            "48/48 [==============================] - 1s 20ms/step - loss: 3289.3887\n",
            "Epoch 18/100\n",
            "48/48 [==============================] - 1s 20ms/step - loss: 3611.0957\n",
            "Epoch 19/100\n",
            "48/48 [==============================] - 1s 22ms/step - loss: 3728.7793\n",
            "Epoch 20/100\n",
            "48/48 [==============================] - 1s 22ms/step - loss: 3386.8135\n",
            "Epoch 21/100\n",
            "48/48 [==============================] - 1s 17ms/step - loss: 3844.3438\n",
            "Epoch 22/100\n",
            "48/48 [==============================] - 1s 20ms/step - loss: 3160.9392\n",
            "Epoch 23/100\n",
            "48/48 [==============================] - 1s 19ms/step - loss: 2965.7869\n",
            "Epoch 24/100\n",
            "48/48 [==============================] - 1s 18ms/step - loss: 3199.4551\n",
            "Epoch 25/100\n",
            "48/48 [==============================] - 1s 10ms/step - loss: 4098.7866\n",
            "Epoch 26/100\n",
            "48/48 [==============================] - 0s 10ms/step - loss: 3409.0801\n",
            "Epoch 27/100\n",
            "48/48 [==============================] - 0s 9ms/step - loss: 3206.9983\n",
            "Epoch 28/100\n",
            "48/48 [==============================] - 0s 10ms/step - loss: 2634.2939\n",
            "Epoch 29/100\n",
            "48/48 [==============================] - 1s 11ms/step - loss: 3041.5134\n",
            "Epoch 30/100\n",
            "48/48 [==============================] - 1s 11ms/step - loss: 4872.1470\n",
            "Epoch 31/100\n",
            "48/48 [==============================] - 1s 11ms/step - loss: 2827.7461\n",
            "Epoch 32/100\n",
            "48/48 [==============================] - 1s 11ms/step - loss: 3248.8333\n",
            "Epoch 33/100\n",
            "48/48 [==============================] - 0s 10ms/step - loss: 3473.8838\n",
            "Epoch 34/100\n",
            "48/48 [==============================] - 1s 11ms/step - loss: 3536.3640\n",
            "Epoch 35/100\n",
            "48/48 [==============================] - 1s 11ms/step - loss: 2578.9250\n",
            "Epoch 36/100\n",
            "48/48 [==============================] - 1s 10ms/step - loss: 2268.3032\n",
            "Epoch 37/100\n",
            "48/48 [==============================] - 0s 9ms/step - loss: 4488.8218\n",
            "Epoch 38/100\n",
            "48/48 [==============================] - 0s 10ms/step - loss: 2903.2185\n",
            "Epoch 39/100\n",
            "48/48 [==============================] - 0s 9ms/step - loss: 3983.8899\n",
            "Epoch 40/100\n",
            "48/48 [==============================] - 0s 9ms/step - loss: 2395.1492\n",
            "Epoch 41/100\n",
            "48/48 [==============================] - 0s 10ms/step - loss: 3616.0554\n",
            "Epoch 42/100\n",
            "48/48 [==============================] - 0s 9ms/step - loss: 3666.7766\n",
            "Epoch 43/100\n",
            "48/48 [==============================] - 0s 9ms/step - loss: 3003.0466\n",
            "Epoch 44/100\n",
            "48/48 [==============================] - 0s 9ms/step - loss: 3611.8369\n",
            "Epoch 45/100\n",
            "48/48 [==============================] - 0s 10ms/step - loss: 2612.1892\n",
            "Epoch 46/100\n",
            "48/48 [==============================] - 1s 10ms/step - loss: 2935.7568\n",
            "Epoch 47/100\n",
            "48/48 [==============================] - 1s 11ms/step - loss: 3304.1172\n",
            "Epoch 48/100\n",
            "48/48 [==============================] - 1s 11ms/step - loss: 4779.0620\n",
            "Epoch 49/100\n",
            "48/48 [==============================] - 1s 11ms/step - loss: 3425.3340\n",
            "Epoch 50/100\n",
            "48/48 [==============================] - 1s 11ms/step - loss: 3451.4270\n",
            "Epoch 51/100\n",
            "48/48 [==============================] - 0s 10ms/step - loss: 5200.5640\n",
            "Epoch 52/100\n",
            "48/48 [==============================] - 0s 9ms/step - loss: 3346.9890\n",
            "Epoch 53/100\n",
            "48/48 [==============================] - 0s 9ms/step - loss: 4831.3145\n",
            "Epoch 54/100\n",
            "48/48 [==============================] - 0s 9ms/step - loss: 2624.7708\n",
            "Epoch 55/100\n",
            "48/48 [==============================] - 0s 9ms/step - loss: 3934.8828\n",
            "Epoch 56/100\n",
            "48/48 [==============================] - 0s 9ms/step - loss: 3783.6316\n",
            "Epoch 57/100\n",
            "48/48 [==============================] - 0s 10ms/step - loss: 3121.2693\n",
            "Epoch 58/100\n",
            "48/48 [==============================] - 0s 9ms/step - loss: 2569.2820\n",
            "Epoch 59/100\n",
            "48/48 [==============================] - 0s 9ms/step - loss: 2648.2327\n",
            "Epoch 60/100\n",
            "48/48 [==============================] - 0s 9ms/step - loss: 2670.9656\n",
            "Epoch 61/100\n",
            "48/48 [==============================] - 0s 9ms/step - loss: 3584.5261\n",
            "Epoch 62/100\n",
            "48/48 [==============================] - 0s 10ms/step - loss: 2754.2200\n",
            "Epoch 63/100\n",
            "48/48 [==============================] - 0s 9ms/step - loss: 3547.0154\n",
            "Epoch 64/100\n",
            "48/48 [==============================] - 0s 9ms/step - loss: 2799.3076\n",
            "Epoch 65/100\n",
            "48/48 [==============================] - 0s 10ms/step - loss: 2698.1570\n",
            "Epoch 66/100\n",
            "48/48 [==============================] - 0s 10ms/step - loss: 2796.8027\n",
            "Epoch 67/100\n",
            "48/48 [==============================] - 1s 11ms/step - loss: 2989.8000\n",
            "Epoch 68/100\n",
            "48/48 [==============================] - 1s 13ms/step - loss: 3402.5110\n",
            "Epoch 69/100\n",
            "48/48 [==============================] - 1s 11ms/step - loss: 2363.1628\n",
            "Epoch 70/100\n",
            "48/48 [==============================] - 0s 10ms/step - loss: 2931.6130\n",
            "Epoch 71/100\n",
            "48/48 [==============================] - 0s 10ms/step - loss: 2567.0308\n",
            "Epoch 72/100\n",
            "48/48 [==============================] - 0s 9ms/step - loss: 2868.3108\n",
            "Epoch 73/100\n",
            "48/48 [==============================] - 0s 9ms/step - loss: 2618.3999\n",
            "Epoch 74/100\n",
            "48/48 [==============================] - 0s 9ms/step - loss: 2190.3948\n",
            "Epoch 75/100\n",
            "48/48 [==============================] - 0s 9ms/step - loss: 3458.7725\n",
            "Epoch 76/100\n",
            "48/48 [==============================] - 0s 9ms/step - loss: 1845.4208\n",
            "Epoch 77/100\n",
            "48/48 [==============================] - 0s 10ms/step - loss: 3083.6746\n",
            "Epoch 78/100\n",
            "48/48 [==============================] - 0s 9ms/step - loss: 4211.8467\n",
            "Epoch 79/100\n",
            "48/48 [==============================] - 0s 10ms/step - loss: 2966.7988\n",
            "Epoch 80/100\n",
            "48/48 [==============================] - 0s 9ms/step - loss: 2848.8030\n",
            "Epoch 81/100\n",
            "48/48 [==============================] - 0s 10ms/step - loss: 2926.6208\n",
            "Epoch 82/100\n",
            "48/48 [==============================] - 0s 10ms/step - loss: 2585.3962\n",
            "Epoch 83/100\n",
            "48/48 [==============================] - 1s 11ms/step - loss: 3304.9055\n",
            "Epoch 84/100\n",
            "48/48 [==============================] - 1s 11ms/step - loss: 2963.3093\n",
            "Epoch 85/100\n",
            "48/48 [==============================] - 1s 12ms/step - loss: 2819.3496\n",
            "Epoch 86/100\n",
            "48/48 [==============================] - 1s 11ms/step - loss: 2214.9712\n",
            "Epoch 87/100\n",
            "48/48 [==============================] - 1s 12ms/step - loss: 2935.3281\n",
            "Epoch 88/100\n",
            "48/48 [==============================] - 1s 11ms/step - loss: 3237.5264\n",
            "Epoch 89/100\n",
            "48/48 [==============================] - 1s 12ms/step - loss: 2687.6548\n",
            "Epoch 90/100\n",
            "48/48 [==============================] - 1s 12ms/step - loss: 2809.3386\n",
            "Epoch 91/100\n",
            "48/48 [==============================] - 1s 11ms/step - loss: 3631.9475\n",
            "Epoch 92/100\n",
            "48/48 [==============================] - 1s 11ms/step - loss: 2668.5232\n",
            "Epoch 93/100\n",
            "48/48 [==============================] - 1s 11ms/step - loss: 2732.1389\n",
            "Epoch 94/100\n",
            "48/48 [==============================] - 0s 10ms/step - loss: 3413.1182\n",
            "Epoch 95/100\n",
            "48/48 [==============================] - 0s 9ms/step - loss: 6252.5469\n",
            "Epoch 96/100\n",
            "48/48 [==============================] - 0s 10ms/step - loss: 5473.0254\n",
            "Epoch 97/100\n",
            "48/48 [==============================] - 0s 9ms/step - loss: 5082.3608\n",
            "Epoch 98/100\n",
            "48/48 [==============================] - 0s 10ms/step - loss: 4338.6118\n",
            "Epoch 99/100\n",
            "48/48 [==============================] - 1s 12ms/step - loss: 4071.9099\n",
            "Epoch 100/100\n",
            "48/48 [==============================] - 1s 11ms/step - loss: 4532.9712\n"
          ]
        },
        {
          "output_type": "execute_result",
          "data": {
            "text/plain": [
              "<keras.callbacks.History at 0x7f4bbd490cd0>"
            ]
          },
          "metadata": {},
          "execution_count": 14
        }
      ]
    },
    {
      "cell_type": "markdown",
      "source": [
        "#Evaluation of the LSTM Model\n",
        "___"
      ],
      "metadata": {
        "id": "b59PFbfHCaVN"
      }
    },
    {
      "cell_type": "code",
      "source": [
        "test_data= np.array(data.iloc[97:,1])\n",
        "\n",
        "def univariate_test_series(sequence, n_steps):\n",
        "  X_test, y_test = list(), list()\n",
        "  for i in range(43):\n",
        "    end1_input = i + n_steps\n",
        "    if end1_input > 42:\n",
        "     break\n",
        "    seq1_x, seq1_y = sequence[i:end1_input], sequence[end1_input]\n",
        "    X_test.append(seq1_x)\n",
        "    y_test.append(seq1_y)\n",
        "  return np.array(X_test), np.array(y_test)\n",
        "\n",
        "X_test, y_test = univariate_test_series(test_data,5)\n",
        "\n",
        "for i in range(len(X_test)):\n",
        "  print(X_test[i],y_test[i])"
      ],
      "metadata": {
        "colab": {
          "base_uri": "https://localhost:8080/"
        },
        "id": "9e65RPhhpZ-7",
        "outputId": "452a7265-2b12-4fbc-f914-e3dd8d5eebe9"
      },
      "execution_count": null,
      "outputs": [
        {
          "output_type": "stream",
          "name": "stdout",
          "text": [
            "[301 356 348 355 422] 465\n",
            "[356 348 355 422 465] 467\n",
            "[348 355 422 465 467] 404\n",
            "[355 422 465 467 404] 347\n",
            "[422 465 467 404 347] 305\n",
            "[465 467 404 347 305] 336\n",
            "[467 404 347 305 336] 340\n",
            "[404 347 305 336 340] 318\n",
            "[347 305 336 340 318] 362\n",
            "[305 336 340 318 362] 348\n",
            "[336 340 318 362 348] 363\n",
            "[340 318 362 348 363] 435\n",
            "[318 362 348 363 435] 491\n",
            "[362 348 363 435 491] 505\n",
            "[348 363 435 491 505] 404\n",
            "[363 435 491 505 404] 359\n",
            "[435 491 505 404 359] 310\n",
            "[491 505 404 359 310] 337\n",
            "[505 404 359 310 337] 360\n",
            "[404 359 310 337 360] 342\n",
            "[359 310 337 360 342] 406\n",
            "[310 337 360 342 406] 396\n",
            "[337 360 342 406 396] 420\n",
            "[360 342 406 396 420] 472\n",
            "[342 406 396 420 472] 548\n",
            "[406 396 420 472 548] 559\n",
            "[396 420 472 548 559] 463\n",
            "[420 472 548 559 463] 407\n",
            "[472 548 559 463 407] 362\n",
            "[548 559 463 407 362] 405\n",
            "[559 463 407 362 405] 417\n",
            "[463 407 362 405 417] 391\n",
            "[407 362 405 417 391] 419\n",
            "[362 405 417 391 419] 461\n",
            "[405 417 391 419 461] 472\n",
            "[417 391 419 461 472] 535\n",
            "[391 419 461 472 535] 622\n",
            "[419 461 472 535 622] 606\n"
          ]
        }
      ]
    },
    {
      "cell_type": "code",
      "source": [
        "predicted_passenger_no = lstm.predict(X_test)\n",
        "plt.plot(y_test, color = 'red', label = 'Actual No. of Passengers')\n",
        "plt.plot(predicted_passenger_no, color = 'blue', label = 'Predicted No. of Passengers')\n",
        "plt.title('Prediction of No. of Passengers(LSTM)')\n",
        "plt.xlabel('Time')\n",
        "plt.ylabel('No. of Passengers')\n",
        "plt.legend()\n",
        "plt.show()"
      ],
      "metadata": {
        "colab": {
          "base_uri": "https://localhost:8080/",
          "height": 295
        },
        "id": "nZDvGMyJLzy4",
        "outputId": "7234b195-ebe3-4b81-bdc7-7c7e005ca017"
      },
      "execution_count": null,
      "outputs": [
        {
          "output_type": "display_data",
          "data": {
            "text/plain": [
              "<Figure size 432x288 with 1 Axes>"
            ],
            "image/png": "[encoded data removed]"
          },
          "metadata": {
            "needs_background": "light"
          }
        }
      ]
    }
  ]
}